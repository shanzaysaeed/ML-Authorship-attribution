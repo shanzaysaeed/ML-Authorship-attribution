{
  "cells": [
    {
      "cell_type": "markdown",
      "source": [
        "Importing Libraries"
      ],
      "metadata": {
        "id": "grjjVlMv7NSa"
      }
    },
    {
      "cell_type": "code",
      "execution_count": null,
      "metadata": {
        "id": "8rVYsgXLaYI8"
      },
      "outputs": [],
      "source": [
        "!pip3 install snscrape\n",
        "!pip3 install sentence-transformers\n",
        "import snscrape.modules.twitter as twitter_scrapper\n",
        "import pandas as pd\n",
        "import numpy as np\n",
        "import regex as re\n",
        "import matplotlib.pyplot as plt\n",
        "import seaborn as sns\n",
        "from sentence_transformers import SentenceTransformer\n",
        "from sklearn.model_selection import train_test_split\n",
        "from sklearn.model_selection import KFold\n",
        "from sklearn.neighbors import KNeighborsClassifier\n",
        "from sklearn.metrics import accuracy_score\n",
        "from sklearn.metrics import f1_score\n",
        "from sklearn.metrics import classification_report\n",
        "from sklearn.metrics import confusion_matrix"
      ]
    },
    {
      "cell_type": "markdown",
      "metadata": {
        "id": "3G3iUFDGaYI_"
      },
      "source": [
        "#### Data Extraction"
      ]
    },
    {
      "cell_type": "code",
      "execution_count": null,
      "metadata": {
        "id": "CdhQmRdNaYJA"
      },
      "outputs": [],
      "source": [
        "scraped_data = []\n",
        "\n",
        "handles = [\"joejonas\", \"Nike\", \"TheOnion\", \"netflix\" , \"LFC\" , \"UNICEF\"]\n",
        "for account_name in handles: \n",
        "    query = \"from:\" + account_name\n",
        "    i = 0\n",
        "    for tweet in twitter_scrapper.TwitterSearchScraper(query).get_items():\n",
        "        if i>=1000:\n",
        "            break\n",
        "        scraped_data.append([tweet.date, tweet.url, tweet.username, tweet.content])\n",
        "\n",
        "        i += 1\n",
        "\n",
        "column_labels = [\"date\", \"tweet_url\" , \"username\", \"tweet\"]\n",
        "tweets_df = pd.DataFrame(scraped_data, columns=column_labels)\n",
        "\n",
        "\n",
        "tweets_df.to_csv(\"data.csv\")"
      ]
    },
    {
      "cell_type": "markdown",
      "metadata": {
        "id": "4pUFnvL3aYJB"
      },
      "source": [
        "#### Preprocessing"
      ]
    },
    {
      "cell_type": "code",
      "execution_count": null,
      "metadata": {
        "id": "AuZIMzB_aYJC"
      },
      "outputs": [],
      "source": [
        "tweets_df = pd.read_csv(\"data.csv\" , index_col=0)"
      ]
    },
    {
      "cell_type": "code",
      "execution_count": null,
      "metadata": {
        "id": "OBz9LhpsaYJC"
      },
      "outputs": [],
      "source": [
        "tweets_df['tweet'] = tweets_df['tweet'].str.lower()\n",
        "tweets_df['tweet'] = tweets_df['tweet'].str.replace(r'http\\S+', '', regex=True)\n",
        "tweets_df['tweet'] = tweets_df['tweet'].str.replace(r'[^0-9a-zA-Z\\s]+', '', regex=True)\n",
        "tweets_df['tweet'] = tweets_df['tweet'].str.replace('\\d+', '')\n",
        "tweets_df['tweet'] = tweets_df['tweet'].replace(r'\\n+|\\t+','', regex=True)\n",
        "tweets_df['tweet'] = tweets_df['tweet'].str.replace(r'\\s+', ' ', regex=True)\n",
        "tweets_df['tweet'] = tweets_df['tweet'].str.strip()\n",
        "\n",
        "# Reading Stop Words\n",
        "file = open(\"./stop_words.txt\", \"r\", encoding=\"utf8\")\n",
        "stop_words = file.read()\n",
        "stop_words = stop_words.split()\n",
        "\n",
        "tweets_df['tweet'] = tweets_df['tweet'].apply(lambda x: ' '.join([word for word in x.split() if word not in (stop_words)]))\n",
        "\n",
        "tweets_df['tweet'].replace('', np.nan, inplace=True)\n",
        "tweets_df.dropna(subset=['tweet'], inplace=True)\n",
        "tweets_df.index = np.arange(len(tweets_df))"
      ]
    },
    {
      "cell_type": "code",
      "execution_count": null,
      "metadata": {
        "id": "t2xbNhW-aYJD"
      },
      "outputs": [],
      "source": [
        "train_tweets, test_tweets = train_test_split(tweets_df, test_size=0.2, shuffle=True)\n",
        "\n",
        "train_tweets.index = np.arange(len(train_tweets))\n",
        "test_tweets.index = np.arange(len(test_tweets))"
      ]
    },
    {
      "cell_type": "markdown",
      "metadata": {
        "id": "xkKCAfAcaYJD"
      },
      "source": [
        "### Task 1.1"
      ]
    },
    {
      "cell_type": "markdown",
      "metadata": {
        "id": "J-CKNCj8aYJE"
      },
      "source": [
        "#### Creating Vocab"
      ]
    },
    {
      "cell_type": "code",
      "execution_count": null,
      "metadata": {
        "id": "Lurr-Be1aYJF"
      },
      "outputs": [],
      "source": [
        "def create_vocab(df):\n",
        "    vocab = list(df['tweet'].str.split(' ', expand=True).stack().unique())\n",
        "    vocab = list(set(vocab))\n",
        "    return vocab\n",
        "\n",
        "vocab = create_vocab(train_tweets)"
      ]
    },
    {
      "cell_type": "markdown",
      "metadata": {
        "id": "STtoANpKaYJF"
      },
      "source": [
        "#### Bag of Word"
      ]
    },
    {
      "cell_type": "code",
      "execution_count": null,
      "metadata": {
        "id": "-k_7JlUXaYJF"
      },
      "outputs": [],
      "source": [
        "def vectorize(vocab, sentence):\n",
        "    vector=[]\n",
        "    for w in vocab:\n",
        "        vector.append(sentence.count(w))\n",
        "    return vector\n",
        "\n",
        "def bag_of_words(df):\n",
        "    bow = df.apply(lambda row: vectorize(vocab, row.str.split()['tweet']), axis=1)\n",
        "    df['bag_of_words'] = bow\n",
        "\n",
        "bag_of_words(train_tweets)\n",
        "bag_of_words(test_tweets)"
      ]
    },
    {
      "cell_type": "markdown",
      "metadata": {
        "id": "FHj-pRTOaYJG"
      },
      "source": [
        "### Task 1.2 Embeddings"
      ]
    },
    {
      "cell_type": "markdown",
      "metadata": {
        "id": "JcB9RvGGaYJG"
      },
      "source": [
        "#### Creating Embeddings for each tweets"
      ]
    },
    {
      "cell_type": "code",
      "execution_count": null,
      "metadata": {
        "colab": {
          "base_uri": "https://localhost:8080/",
          "height": 465,
          "referenced_widgets": [
            "77f49a2bce9e4cc0b6d5c4ec959c1b9d",
            "5745093969374f97a864ae81e492a8e1",
            "5bea1fbbd80b41d7a09f92d1c161fac9",
            "bbe51f1af94849f5b84ee9ffca525c79",
            "6dab369dde60425bbb65fc19295e4f0c",
            "8a127b5a2b6e4f06b4d78a71b2b597df",
            "09a47dadcae94bbc8c6a826f5f2bba5a",
            "5dfc5e6ab52c4d888ad7fe5d3aee23ba",
            "594427aa9281409c9ba2465d4c63896f",
            "83e482b923cb44a59f34f8ebdcc79f2b",
            "b12e5a9f726843fda651e416f7e0be3a",
            "310604e6eb364a0fb428676bbcb2870a",
            "31b8193357da4e95b9196086d482a6ac",
            "7288a49bf84d49ff8ca399584a93f6b7",
            "44a970dd8c6d4ce08bf727beb9a44999",
            "ae3b1b84fb6f4ec7ba62a461b1a223ce",
            "a9fba923ebe4405f8fe84853068130c9",
            "38e5e1c8ab144d4db749d94308be7b5d",
            "125ede623ebc447c8dade5c5a1dafde1",
            "9e442d864bab4fadb40e2796b7ce7d9b",
            "2b9568e752cc47dabacc625b3e776de0",
            "9738232e12bb46c7acecc3db119bdad7",
            "eca858fe901e4e05a401d3b55547f46b",
            "d04bc2738e0b4adea1790544af9f825a",
            "f8edc38d582145ddaa6c274685b8a401",
            "55a85956d375440c901123f476873bf5",
            "f5cfdb249de147318391f4ea968ffd0f",
            "622cc145cbf246cc9e9ef5b1c1ca7acf",
            "15ed699d0c8642f5ac7f57e53e5a976e",
            "ddaf80b7f4b940f994261c0e9a0aa64d",
            "99e85cebc21a471d8797046c74a20627",
            "126f88cf12d74b689d8088b47fc93236",
            "202870374f1c43bdb2294b41b3df94a2",
            "a035b62e0a8a44c290d46c6b68023145",
            "984c6493741d400ca8c6b57f9c62e5e6",
            "9aeac5488af1464fbc548d2437b18f7b",
            "491055297a534ad3a59408bf7e27df7e",
            "178aea27a0a04bda840870fc62421bc7",
            "7db19277788d43efb652777d84a06246",
            "acb2016a376f43eaadeb9c030897b4b7",
            "e4261938bde044bc923d6a8ba296bb70",
            "5e224eb757164e67930bdc9b69f099af",
            "785fe1175d27496595f5bb0237c66fbe",
            "416a716bbeaa443696a7a9db52d0f739",
            "8a01ba985a7e4b3283b5feeda63d5ffc",
            "6baf7d58ab70448ca775ba9fac70d144",
            "41e0f479e12d49a987e5779082ead10d",
            "f027df2c41b247298be16fccd7866a57",
            "e429d697eb8445cc8cace2c6f543594a",
            "a93da8a33d5e4799b90d74595ce03192",
            "fb379df570824fd7bb2eed9cf748a046",
            "b0ab72fb716b453f816fc791d203480d",
            "eb27e02b24594e238cecc8a153286067",
            "0277ce06c1a841a982b4797269b0bbb5",
            "33f330028af343a4949b381945b0f10d",
            "1a7f4d2c68314909a8f430e30ac63cbe",
            "5e38c04b3f5c4cb1af6d73b72e8845a6",
            "db103a8eb5f149d3ad8309f76935a3b2",
            "2f9ae1546db142ab9606b47537423319",
            "627ceb3bc55a45c6ac6d46a106f37225",
            "93bd54fa6b67463f88e1058011737b94",
            "ccd1d85f49f14ad68c0d50bdb8f49881",
            "9b9aaa3b88ff40919d11abb19e126ca4",
            "65f69cbc7ab94eaa99e311fbbb6ab0dc",
            "f47d5b622faa49d88f5ead975d44b9c1",
            "13b40c74751946b483353df57368c91e",
            "048adb4bacd44e9ba021856b82274380",
            "ecc20487366f4ee9991c05e4abc48e63",
            "551b8ffa038d4b0bab0aeb8e48568e65",
            "31c4db271aa544399f9cd15da19fef01",
            "29d02cf6c9994469babbb8b1371fe2df",
            "21d92a9327da41408d98883f4c120d25",
            "95be87bfce774e5db8a68c311c4cfe63",
            "e2a19588cff748628cfbaeb74f2269e9",
            "4ef63e246b5448f59a99379ca4208258",
            "603cee2dcdf845ecb3cfcfce8dfdc112",
            "ac550ea77aa440e1a4f0504019b83ecc",
            "d5a97fa54e064c59b7d7f8110852eb4f",
            "3b8af1cd659f4e288181324a8ac88556",
            "4f011582a3cf4c49990f7abcc6633ec6",
            "0c3daabc8bb64d63a3c32ec7075c9a9d",
            "a2a522b1c8f94947a2e6a26d502693d0",
            "489c77747cd9426093f18696a0be9324",
            "ca635dadb6eb46c4a338893de78b922b",
            "6bdeb301a38148748fd29a38308727d9",
            "5095c2b1ba2842839f7e10e8320e21c3",
            "0b1537b569684b82a31f7aba997a0b44",
            "ca698c4205b848848f878163a170043c",
            "b1d4ee77937948f383f4192099602531",
            "ce37534608c64820a4f13de8a6eade0d",
            "590e57c1e2944001b1599b29a3b498e3",
            "85a1fe3ead4d4d24a93e96df9a61959a",
            "8ab3f360ebbf49149534a518a7f7d53f",
            "30a13c72762846ff98eab6e5cd32d946",
            "bf70e03c5cb14ad8b23a77ce808abfb9",
            "9cbabd5066d14abf929988de04917942",
            "35fc4f6eae9b45a6908140d82c9f3fa3",
            "8f002f3f66494c3ab72307e058dd2de3",
            "5d6ac0e9646a486aa4c129366a5a24ad",
            "659f9a490aac4df394b7951397e6ba35",
            "afa149a3821e439fa1b39f0be2a8644e",
            "4e1ba31360ad4f81879e7f1541d5f400",
            "b639422cd9db4dddb1f764f509c81049",
            "1ea6ce74200442fca4a651bd31d4f8d0",
            "48cb7e467fcd4227b997eafb28117acf",
            "fd1b42bf68a943f68ab2fe1d180f311e",
            "9fc111d649c0412fb6ed37f9f6030ad2",
            "655cf64ce3fe4eac951c17aed05f552a",
            "85a58f9f992b4929ba79931f4cec2bdc",
            "ec86aae371454abebf041d0c17c3b290",
            "5996be5c95be4a478af40f559e6b5b18",
            "5507a721c9b545909f2a867fc0c54627",
            "59f3716280a94695b63b227a54fc215e",
            "3d50a29cbfe74486969f7310e5c9890d",
            "06e34f076e864859bc69be3d3b984003",
            "460b23ef9ef246a78418064067903ad6",
            "a8cb6ae998e34ec5b7941bc7e362028a",
            "0dfcad25d1c94f11aaa0317eeda50e79",
            "b8eaee0723c64c6aac162bddd6d41e5a",
            "7673ca6120784780bc8654d09ce18bd4",
            "b50234713a274947aa01f448f61e9c72",
            "00394498910a47f6a617ff90fb401248",
            "d35194e345264ca5901b1faef523adc5",
            "61487fe0ecf3460aa150bf5107e25eb3",
            "e8ce95b9bf134367bd7076a09e0f5b08",
            "933951a3ca544a0584321ef3186ebff5",
            "a1abedc66f284d77bdc4473592dbc6e9",
            "85df78dccde94883946cef09d661b500",
            "1c10d7ca149240cdbbb706b696f448df",
            "6170f1dac17f46109d2aed1bd2e90129",
            "325e328bdedd4df7958d1e28ec8cc553",
            "0afefa1b1f42409295e32c8215ee5cdb",
            "169d8103df564042aa0349d0b01f4c8b",
            "940b9351ff6448a88bba37d05ef36a28",
            "5cd2e42595194d6bb6eca1a9ae791d76",
            "ca3191cfbf594fe3989909de324dd887",
            "f94195b7ea9a48d89c14e25f01dd13ab",
            "61669ebc557349a3b3bdd79e89b31aed",
            "b56b0fd1351843349570ca5675be50a3",
            "0ea7546979aa4506b39a9157f5b73f9d",
            "060eb9af57a14548952a71e43a47de9a",
            "2ea61271a3574f59b83b669ac4beed54",
            "f964ea66ddf541ac869e635311ace7da",
            "3fefcce5a76345bbb547ec08f02a6015",
            "9241bb51dab846e4939ac05e602e5a4a",
            "6dc55dd240ac42f88662e4a8063e1d9a",
            "4e5f636870204a18a23138cea7f677a0",
            "4e5e41ca6c484ff2a41d9518dd9a3e01",
            "7134d0cd63bf4dd2bea8f69ee621351c",
            "2fae09240e57441881196f1803289d1a",
            "dede5f7658e34a9f8488dc79270d8d2f",
            "4e6275366fb742dfabfe5189aa6f2603",
            "a7e74e7cedf84319b962a7fe83f0072c",
            "a753a0ee87e14e8cb16dc9fb35851d89"
          ]
        },
        "id": "tIL9bL79aYJG",
        "outputId": "b3c22c86-d526-4367-9ec6-d161bfc4bce2"
      },
      "outputs": [
        {
          "output_type": "display_data",
          "data": {
            "text/plain": [
              "Downloading:   0%|          | 0.00/1.18k [00:00<?, ?B/s]"
            ],
            "application/vnd.jupyter.widget-view+json": {
              "version_major": 2,
              "version_minor": 0,
              "model_id": "77f49a2bce9e4cc0b6d5c4ec959c1b9d"
            }
          },
          "metadata": {}
        },
        {
          "output_type": "display_data",
          "data": {
            "text/plain": [
              "Downloading:   0%|          | 0.00/190 [00:00<?, ?B/s]"
            ],
            "application/vnd.jupyter.widget-view+json": {
              "version_major": 2,
              "version_minor": 0,
              "model_id": "310604e6eb364a0fb428676bbcb2870a"
            }
          },
          "metadata": {}
        },
        {
          "output_type": "display_data",
          "data": {
            "text/plain": [
              "Downloading:   0%|          | 0.00/10.6k [00:00<?, ?B/s]"
            ],
            "application/vnd.jupyter.widget-view+json": {
              "version_major": 2,
              "version_minor": 0,
              "model_id": "eca858fe901e4e05a401d3b55547f46b"
            }
          },
          "metadata": {}
        },
        {
          "output_type": "display_data",
          "data": {
            "text/plain": [
              "Downloading:   0%|          | 0.00/612 [00:00<?, ?B/s]"
            ],
            "application/vnd.jupyter.widget-view+json": {
              "version_major": 2,
              "version_minor": 0,
              "model_id": "a035b62e0a8a44c290d46c6b68023145"
            }
          },
          "metadata": {}
        },
        {
          "output_type": "display_data",
          "data": {
            "text/plain": [
              "Downloading:   0%|          | 0.00/116 [00:00<?, ?B/s]"
            ],
            "application/vnd.jupyter.widget-view+json": {
              "version_major": 2,
              "version_minor": 0,
              "model_id": "8a01ba985a7e4b3283b5feeda63d5ffc"
            }
          },
          "metadata": {}
        },
        {
          "output_type": "display_data",
          "data": {
            "text/plain": [
              "Downloading:   0%|          | 0.00/39.3k [00:00<?, ?B/s]"
            ],
            "application/vnd.jupyter.widget-view+json": {
              "version_major": 2,
              "version_minor": 0,
              "model_id": "1a7f4d2c68314909a8f430e30ac63cbe"
            }
          },
          "metadata": {}
        },
        {
          "output_type": "display_data",
          "data": {
            "text/plain": [
              "Downloading:   0%|          | 0.00/90.9M [00:00<?, ?B/s]"
            ],
            "application/vnd.jupyter.widget-view+json": {
              "version_major": 2,
              "version_minor": 0,
              "model_id": "048adb4bacd44e9ba021856b82274380"
            }
          },
          "metadata": {}
        },
        {
          "output_type": "display_data",
          "data": {
            "text/plain": [
              "Downloading:   0%|          | 0.00/53.0 [00:00<?, ?B/s]"
            ],
            "application/vnd.jupyter.widget-view+json": {
              "version_major": 2,
              "version_minor": 0,
              "model_id": "d5a97fa54e064c59b7d7f8110852eb4f"
            }
          },
          "metadata": {}
        },
        {
          "output_type": "display_data",
          "data": {
            "text/plain": [
              "Downloading:   0%|          | 0.00/112 [00:00<?, ?B/s]"
            ],
            "application/vnd.jupyter.widget-view+json": {
              "version_major": 2,
              "version_minor": 0,
              "model_id": "b1d4ee77937948f383f4192099602531"
            }
          },
          "metadata": {}
        },
        {
          "output_type": "display_data",
          "data": {
            "text/plain": [
              "Downloading:   0%|          | 0.00/466k [00:00<?, ?B/s]"
            ],
            "application/vnd.jupyter.widget-view+json": {
              "version_major": 2,
              "version_minor": 0,
              "model_id": "659f9a490aac4df394b7951397e6ba35"
            }
          },
          "metadata": {}
        },
        {
          "output_type": "display_data",
          "data": {
            "text/plain": [
              "Downloading:   0%|          | 0.00/350 [00:00<?, ?B/s]"
            ],
            "application/vnd.jupyter.widget-view+json": {
              "version_major": 2,
              "version_minor": 0,
              "model_id": "5996be5c95be4a478af40f559e6b5b18"
            }
          },
          "metadata": {}
        },
        {
          "output_type": "display_data",
          "data": {
            "text/plain": [
              "Downloading:   0%|          | 0.00/13.2k [00:00<?, ?B/s]"
            ],
            "application/vnd.jupyter.widget-view+json": {
              "version_major": 2,
              "version_minor": 0,
              "model_id": "00394498910a47f6a617ff90fb401248"
            }
          },
          "metadata": {}
        },
        {
          "output_type": "display_data",
          "data": {
            "text/plain": [
              "Downloading:   0%|          | 0.00/232k [00:00<?, ?B/s]"
            ],
            "application/vnd.jupyter.widget-view+json": {
              "version_major": 2,
              "version_minor": 0,
              "model_id": "169d8103df564042aa0349d0b01f4c8b"
            }
          },
          "metadata": {}
        },
        {
          "output_type": "display_data",
          "data": {
            "text/plain": [
              "Downloading:   0%|          | 0.00/349 [00:00<?, ?B/s]"
            ],
            "application/vnd.jupyter.widget-view+json": {
              "version_major": 2,
              "version_minor": 0,
              "model_id": "3fefcce5a76345bbb547ec08f02a6015"
            }
          },
          "metadata": {}
        }
      ],
      "source": [
        "model = SentenceTransformer('all-MiniLM-L6-v2')\n",
        "\n",
        "def get_embedding(df):\n",
        "    df['embeddings'] = df.apply(lambda row : model.encode(row['tweet']), axis = 1)\n",
        "\n",
        "get_embedding(train_tweets)\n",
        "get_embedding(test_tweets)"
      ]
    },
    {
      "cell_type": "markdown",
      "metadata": {
        "id": "g6RmIRgAaYJG"
      },
      "source": [
        "## TASK 2: KNN"
      ]
    },
    {
      "cell_type": "code",
      "execution_count": null,
      "metadata": {
        "id": "JvBkyUyzaYJG"
      },
      "outputs": [],
      "source": [
        "# Making Generalized Functions for MFold Cross Validation and Evaluation \n",
        "\n",
        "def scikit_Knn (k, f_train, l_train, f_test):\n",
        "  knn = KNeighborsClassifier(n_neighbors=k)\n",
        "  knn.fit(f_train, l_train)\n",
        "  predicted_label = knn.predict(f_test)\n",
        "\n",
        "  return predicted_label\n",
        "\n",
        "def scikit_eval(l_valid, predicted_label):\n",
        "  classes = [\"joejonas\", \"Nike\", \"TheOnion\", \"netflix\" , \"LFC\" , \"UNICEF\"]\n",
        "  acuracy = accuracy_score(l_valid, predicted_label)\n",
        "\n",
        "  evaluation_report = classification_report(l_valid, predicted_label,target_names=classes, output_dict=True)\n",
        "  fscore = evaluation_report['macro avg']['f1-score']\n",
        "  precision = evaluation_report['macro avg']['precision']\n",
        "  recall = evaluation_report['macro avg']['recall']\n",
        "\n",
        "  cm = confusion_matrix(l_valid, predicted_label, labels=classes)\n",
        "\n",
        "  return (acuracy, precision, recall, fscore, cm)\n",
        "\n",
        "def mFold_KNN(m, k, train_features, train_labels):\n",
        "  kf = KFold(n_splits=m, random_state=None, shuffle=False)\n",
        "  p_labels = list()\n",
        "  for train_index, test_index in kf.split(train_features):\n",
        "    X_train, X_test = train_features[train_index], train_features[test_index]\n",
        "    y_train, y_test = train_labels[train_index], train_labels[test_index]\n",
        "\n",
        "    predicted_label = scikit_Knn(k, list(X_train), y_train, list(X_test))\n",
        "    p_labels.append(predicted_label.tolist())\n",
        "\n",
        "  p_labels = sum(p_labels, [])\n",
        "  return p_labels"
      ]
    },
    {
      "cell_type": "markdown",
      "metadata": {
        "id": "7psLxcrFaYJH"
      },
      "source": [
        "### Using Embedding"
      ]
    },
    {
      "cell_type": "code",
      "execution_count": null,
      "metadata": {
        "id": "G2Ei7ox-aYJH"
      },
      "outputs": [],
      "source": [
        "# Seprating features and labels\n",
        "train_features = train_tweets[\"embeddings\"]\n",
        "train_labels = train_tweets[\"username\"]\n",
        "\n",
        "test_features = test_tweets[\"embeddings\"]\n",
        "test_labels = test_tweets[\"username\"]"
      ]
    },
    {
      "cell_type": "code",
      "execution_count": null,
      "metadata": {
        "id": "PsYymIe2aYJH"
      },
      "outputs": [],
      "source": [
        "# mfold cross validation\n",
        "res = {}\n",
        "for k in range(1,11):\n",
        "    predicted_labels = mFold_KNN(5, k, train_features, train_labels)\n",
        "    eval_res = scikit_eval(predicted_labels, train_labels)\n",
        "    res[k] = eval_res"
      ]
    },
    {
      "cell_type": "code",
      "execution_count": null,
      "metadata": {
        "colab": {
          "base_uri": "https://localhost:8080/",
          "height": 731
        },
        "id": "f2yc-pfWaYJH",
        "outputId": "a1ae958e-aae2-47e6-aea4-8f0cca233e0b"
      },
      "outputs": [
        {
          "output_type": "display_data",
          "data": {
            "text/plain": [
              "K-Value          1         2         3         4         5         6   \\\n",
              "accuracy   0.831997  0.811589  0.817238  0.821611  0.824344  0.822157   \n",
              "precision  0.828981  0.809985  0.814270  0.819002  0.821669  0.819353   \n",
              "recall     0.834877  0.818201  0.819367  0.825701  0.826587  0.825137   \n",
              "f1_score   0.828427  0.807138  0.812401  0.817379  0.819910  0.817700   \n",
              "\n",
              "K-Value          7         8         9         10  \n",
              "accuracy   0.822340  0.816873  0.817420  0.816509  \n",
              "precision  0.819270  0.813949  0.814685  0.813630  \n",
              "recall     0.827084  0.821244  0.822580  0.821133  \n",
              "f1_score   0.817818  0.812255  0.813139  0.812090  "
            ],
            "text/html": [
              "\n",
              "  <div id=\"df-6da57b54-5d91-4e08-907c-db8a254a977e\">\n",
              "    <div class=\"colab-df-container\">\n",
              "      <div>\n",
              "<style scoped>\n",
              "    .dataframe tbody tr th:only-of-type {\n",
              "        vertical-align: middle;\n",
              "    }\n",
              "\n",
              "    .dataframe tbody tr th {\n",
              "        vertical-align: top;\n",
              "    }\n",
              "\n",
              "    .dataframe thead th {\n",
              "        text-align: right;\n",
              "    }\n",
              "</style>\n",
              "<table border=\"1\" class=\"dataframe\">\n",
              "  <thead>\n",
              "    <tr style=\"text-align: right;\">\n",
              "      <th>K-Value</th>\n",
              "      <th>1</th>\n",
              "      <th>2</th>\n",
              "      <th>3</th>\n",
              "      <th>4</th>\n",
              "      <th>5</th>\n",
              "      <th>6</th>\n",
              "      <th>7</th>\n",
              "      <th>8</th>\n",
              "      <th>9</th>\n",
              "      <th>10</th>\n",
              "    </tr>\n",
              "  </thead>\n",
              "  <tbody>\n",
              "    <tr>\n",
              "      <th>accuracy</th>\n",
              "      <td>0.831997</td>\n",
              "      <td>0.811589</td>\n",
              "      <td>0.817238</td>\n",
              "      <td>0.821611</td>\n",
              "      <td>0.824344</td>\n",
              "      <td>0.822157</td>\n",
              "      <td>0.822340</td>\n",
              "      <td>0.816873</td>\n",
              "      <td>0.817420</td>\n",
              "      <td>0.816509</td>\n",
              "    </tr>\n",
              "    <tr>\n",
              "      <th>precision</th>\n",
              "      <td>0.828981</td>\n",
              "      <td>0.809985</td>\n",
              "      <td>0.814270</td>\n",
              "      <td>0.819002</td>\n",
              "      <td>0.821669</td>\n",
              "      <td>0.819353</td>\n",
              "      <td>0.819270</td>\n",
              "      <td>0.813949</td>\n",
              "      <td>0.814685</td>\n",
              "      <td>0.813630</td>\n",
              "    </tr>\n",
              "    <tr>\n",
              "      <th>recall</th>\n",
              "      <td>0.834877</td>\n",
              "      <td>0.818201</td>\n",
              "      <td>0.819367</td>\n",
              "      <td>0.825701</td>\n",
              "      <td>0.826587</td>\n",
              "      <td>0.825137</td>\n",
              "      <td>0.827084</td>\n",
              "      <td>0.821244</td>\n",
              "      <td>0.822580</td>\n",
              "      <td>0.821133</td>\n",
              "    </tr>\n",
              "    <tr>\n",
              "      <th>f1_score</th>\n",
              "      <td>0.828427</td>\n",
              "      <td>0.807138</td>\n",
              "      <td>0.812401</td>\n",
              "      <td>0.817379</td>\n",
              "      <td>0.819910</td>\n",
              "      <td>0.817700</td>\n",
              "      <td>0.817818</td>\n",
              "      <td>0.812255</td>\n",
              "      <td>0.813139</td>\n",
              "      <td>0.812090</td>\n",
              "    </tr>\n",
              "  </tbody>\n",
              "</table>\n",
              "</div>\n",
              "      <button class=\"colab-df-convert\" onclick=\"convertToInteractive('df-6da57b54-5d91-4e08-907c-db8a254a977e')\"\n",
              "              title=\"Convert this dataframe to an interactive table.\"\n",
              "              style=\"display:none;\">\n",
              "        \n",
              "  <svg xmlns=\"http://www.w3.org/2000/svg\" height=\"24px\"viewBox=\"0 0 24 24\"\n",
              "       width=\"24px\">\n",
              "    <path d=\"M0 0h24v24H0V0z\" fill=\"none\"/>\n",
              "    <path d=\"M18.56 5.44l.94 2.06.94-2.06 2.06-.94-2.06-.94-.94-2.06-.94 2.06-2.06.94zm-11 1L8.5 8.5l.94-2.06 2.06-.94-2.06-.94L8.5 2.5l-.94 2.06-2.06.94zm10 10l.94 2.06.94-2.06 2.06-.94-2.06-.94-.94-2.06-.94 2.06-2.06.94z\"/><path d=\"M17.41 7.96l-1.37-1.37c-.4-.4-.92-.59-1.43-.59-.52 0-1.04.2-1.43.59L10.3 9.45l-7.72 7.72c-.78.78-.78 2.05 0 2.83L4 21.41c.39.39.9.59 1.41.59.51 0 1.02-.2 1.41-.59l7.78-7.78 2.81-2.81c.8-.78.8-2.07 0-2.86zM5.41 20L4 18.59l7.72-7.72 1.47 1.35L5.41 20z\"/>\n",
              "  </svg>\n",
              "      </button>\n",
              "      \n",
              "  <style>\n",
              "    .colab-df-container {\n",
              "      display:flex;\n",
              "      flex-wrap:wrap;\n",
              "      gap: 12px;\n",
              "    }\n",
              "\n",
              "    .colab-df-convert {\n",
              "      background-color: #E8F0FE;\n",
              "      border: none;\n",
              "      border-radius: 50%;\n",
              "      cursor: pointer;\n",
              "      display: none;\n",
              "      fill: #1967D2;\n",
              "      height: 32px;\n",
              "      padding: 0 0 0 0;\n",
              "      width: 32px;\n",
              "    }\n",
              "\n",
              "    .colab-df-convert:hover {\n",
              "      background-color: #E2EBFA;\n",
              "      box-shadow: 0px 1px 2px rgba(60, 64, 67, 0.3), 0px 1px 3px 1px rgba(60, 64, 67, 0.15);\n",
              "      fill: #174EA6;\n",
              "    }\n",
              "\n",
              "    [theme=dark] .colab-df-convert {\n",
              "      background-color: #3B4455;\n",
              "      fill: #D2E3FC;\n",
              "    }\n",
              "\n",
              "    [theme=dark] .colab-df-convert:hover {\n",
              "      background-color: #434B5C;\n",
              "      box-shadow: 0px 1px 3px 1px rgba(0, 0, 0, 0.15);\n",
              "      filter: drop-shadow(0px 1px 2px rgba(0, 0, 0, 0.3));\n",
              "      fill: #FFFFFF;\n",
              "    }\n",
              "  </style>\n",
              "\n",
              "      <script>\n",
              "        const buttonEl =\n",
              "          document.querySelector('#df-6da57b54-5d91-4e08-907c-db8a254a977e button.colab-df-convert');\n",
              "        buttonEl.style.display =\n",
              "          google.colab.kernel.accessAllowed ? 'block' : 'none';\n",
              "\n",
              "        async function convertToInteractive(key) {\n",
              "          const element = document.querySelector('#df-6da57b54-5d91-4e08-907c-db8a254a977e');\n",
              "          const dataTable =\n",
              "            await google.colab.kernel.invokeFunction('convertToInteractive',\n",
              "                                                     [key], {});\n",
              "          if (!dataTable) return;\n",
              "\n",
              "          const docLinkHtml = 'Like what you see? Visit the ' +\n",
              "            '<a target=\"_blank\" href=https://colab.research.google.com/notebooks/data_table.ipynb>data table notebook</a>'\n",
              "            + ' to learn more about interactive tables.';\n",
              "          element.innerHTML = '';\n",
              "          dataTable['output_type'] = 'display_data';\n",
              "          await google.colab.output.renderOutput(dataTable, element);\n",
              "          const docLink = document.createElement('div');\n",
              "          docLink.innerHTML = docLinkHtml;\n",
              "          element.appendChild(docLink);\n",
              "        }\n",
              "      </script>\n",
              "    </div>\n",
              "  </div>\n",
              "  "
            ]
          },
          "metadata": {}
        },
        {
          "output_type": "display_data",
          "data": {
            "text/plain": [
              "<Figure size 432x288 with 1 Axes>"
            ],
            "image/png": "[encoded data removed]"
          },
          "metadata": {
            "needs_background": "light"
          }
        },
        {
          "output_type": "display_data",
          "data": {
            "text/plain": [
              "<Figure size 432x288 with 1 Axes>"
            ],
            "image/png": "[encoded data removed]"
          },
          "metadata": {
            "needs_background": "light"
          }
        }
      ],
      "source": [
        "# Training and Validation Losses\n",
        "frame = {\"accuracy\": list(), \"precision\": list(), \"recall\": list(), \"f1_score\": list()}\n",
        "\n",
        "for k in range(1,11):\n",
        "  frame[\"accuracy\"].append(res[k][0])\n",
        "  frame[\"precision\"].append(res[k][1])\n",
        "  frame[\"recall\"].append(res[k][2])\n",
        "  frame[\"f1_score\"].append(res[k][3])\n",
        "\n",
        "df = pd.DataFrame(frame)\n",
        "df.index = np.arange(1,11)\n",
        "df.index.name = \"K-Value\"\n",
        "df = df.T\n",
        "display(df)\n",
        "\n",
        "plt.plot(df.columns, frame['accuracy'], label = \"Accuracy\")\n",
        "plt.xlabel(\"K-Values\")\n",
        "plt.ylabel(\"Classification Accuracy\")\n",
        "plt.title(\"K-Value vs. Accuracy\")\n",
        "plt.legend()\n",
        "plt.show()\n",
        "\n",
        "plt.plot(df.columns, frame['f1_score'], label = \"F1-Score\")\n",
        "plt.xlabel(\"K-Values\")\n",
        "plt.ylabel(\"F1-Score\")\n",
        "plt.title(\"K-Value vs. F1-Score\")\n",
        "plt.legend()\n",
        "plt.show()"
      ]
    },
    {
      "cell_type": "code",
      "execution_count": null,
      "metadata": {
        "colab": {
          "base_uri": "https://localhost:8080/",
          "height": 595
        },
        "id": "22t3tV2ZaYJI",
        "outputId": "c9d1122d-ed18-42c4-a2d5-1cfb0a450914"
      },
      "outputs": [
        {
          "output_type": "stream",
          "name": "stdout",
          "text": [
            "Accuracy:  0.8505830903790087\n",
            "Precision:  0.8526947907233621\n",
            "Recall:  0.8498112200552553\n",
            "F1-Score:  0.8466652560408289\n",
            "Confusion Matrix\n",
            "\n"
          ]
        },
        {
          "output_type": "execute_result",
          "data": {
            "text/plain": [
              "Text(0.5, 1.0, 'Confusion Matrix for Test Tweets(K=6)')"
            ]
          },
          "metadata": {},
          "execution_count": 13
        },
        {
          "output_type": "display_data",
          "data": {
            "text/plain": [
              "<Figure size 720x504 with 2 Axes>"
            ],
            "image/png": "[encoded data removed]"
          },
          "metadata": {
            "needs_background": "light"
          }
        }
      ],
      "source": [
        "# Testing on Test Data\n",
        "predicted_label = scikit_Knn(6, list(train_features), train_labels, list(test_features))\n",
        "\n",
        "# Results on Test Data\n",
        "eval_res = scikit_eval(test_labels, predicted_label)\n",
        "\n",
        "print(\"Accuracy: \", eval_res[0])\n",
        "print(\"Precision: \", eval_res[1])\n",
        "print(\"Recall: \", eval_res[2])\n",
        "print(\"F1-Score: \", eval_res[3])\n",
        "print(\"Confusion Matrix\\n\")\n",
        "\n",
        "classes = [\"joejonas\", \"Nike\", \"TheOnion\", \"netflix\" , \"LFC\" , \"UNICEF\"]\n",
        "plt.figure(figsize = (10,7))\n",
        "g = sns.heatmap(eval_res[4], annot=True, cmap='coolwarm')\n",
        "g.set_xticklabels(labels = classes)\n",
        "g.set_yticklabels(labels = classes, rotation=0)\n",
        "plt.xlabel(\"Predicted Labels\", fontsize=16)\n",
        "plt.ylabel(\"True Labels\", fontsize=16)\n",
        "plt.title(\"Confusion Matrix for Test Tweets(K=6)\", fontsize=20)"
      ]
    },
    {
      "cell_type": "markdown",
      "metadata": {
        "id": "OcIRrmWnaYJI"
      },
      "source": [
        "### Using Bag-of-Words Features"
      ]
    },
    {
      "cell_type": "code",
      "execution_count": null,
      "metadata": {
        "id": "nkhgKyMHaYJI"
      },
      "outputs": [],
      "source": [
        "# Seprating features and labels\n",
        "train_features = train_tweets[\"bag_of_words\"]\n",
        "train_labels = train_tweets[\"username\"]\n",
        "\n",
        "test_features = test_tweets[\"bag_of_words\"]\n",
        "test_labels = test_tweets[\"username\"]"
      ]
    },
    {
      "cell_type": "code",
      "execution_count": null,
      "metadata": {
        "colab": {
          "base_uri": "https://localhost:8080/"
        },
        "id": "DHqu-VzuaYJI",
        "outputId": "ce41aa5c-6fec-4976-cc9b-70149352f973"
      },
      "outputs": [
        {
          "output_type": "stream",
          "name": "stdout",
          "text": [
            "1\n",
            "2\n",
            "3\n",
            "4\n",
            "5\n",
            "6\n",
            "7\n",
            "8\n",
            "9\n",
            "10\n"
          ]
        }
      ],
      "source": [
        "# mfold cross validation\n",
        "res = {}\n",
        "for k in range(1,11):\n",
        "    print(k)\n",
        "    predicted_labels = mFold_KNN(5, k, train_features, train_labels)\n",
        "    eval_res = scikit_eval(predicted_labels, train_labels)\n",
        "    res[k] = eval_res"
      ]
    },
    {
      "cell_type": "code",
      "execution_count": null,
      "metadata": {
        "colab": {
          "base_uri": "https://localhost:8080/",
          "height": 731
        },
        "id": "S10UAp5taYJJ",
        "outputId": "d6b37c58-6c75-4d5e-93eb-25b6c4a65a78"
      },
      "outputs": [
        {
          "output_type": "display_data",
          "data": {
            "text/plain": [
              "K-Value          1         2         3         4         5         6   \\\n",
              "accuracy   0.503280  0.469570  0.473761  0.428025  0.421647  0.401239   \n",
              "precision  0.501141  0.468483  0.472539  0.426564  0.421102  0.401227   \n",
              "recall     0.686978  0.654933  0.659554  0.645927  0.644219  0.645265   \n",
              "f1_score   0.499530  0.447371  0.459856  0.401638  0.389615  0.366157   \n",
              "\n",
              "K-Value          7         8         9         10  \n",
              "accuracy   0.386480  0.377369  0.363338  0.353316  \n",
              "precision  0.386916  0.377952  0.364414  0.354758  \n",
              "recall     0.660529  0.658985  0.674865  0.693752  \n",
              "f1_score   0.350486  0.339629  0.326554  0.317002  "
            ],
            "text/html": [
              "\n",
              "  <div id=\"df-3133259b-6a42-4121-b5c9-bd5d6a2cefa7\">\n",
              "    <div class=\"colab-df-container\">\n",
              "      <div>\n",
              "<style scoped>\n",
              "    .dataframe tbody tr th:only-of-type {\n",
              "        vertical-align: middle;\n",
              "    }\n",
              "\n",
              "    .dataframe tbody tr th {\n",
              "        vertical-align: top;\n",
              "    }\n",
              "\n",
              "    .dataframe thead th {\n",
              "        text-align: right;\n",
              "    }\n",
              "</style>\n",
              "<table border=\"1\" class=\"dataframe\">\n",
              "  <thead>\n",
              "    <tr style=\"text-align: right;\">\n",
              "      <th>K-Value</th>\n",
              "      <th>1</th>\n",
              "      <th>2</th>\n",
              "      <th>3</th>\n",
              "      <th>4</th>\n",
              "      <th>5</th>\n",
              "      <th>6</th>\n",
              "      <th>7</th>\n",
              "      <th>8</th>\n",
              "      <th>9</th>\n",
              "      <th>10</th>\n",
              "    </tr>\n",
              "  </thead>\n",
              "  <tbody>\n",
              "    <tr>\n",
              "      <th>accuracy</th>\n",
              "      <td>0.503280</td>\n",
              "      <td>0.469570</td>\n",
              "      <td>0.473761</td>\n",
              "      <td>0.428025</td>\n",
              "      <td>0.421647</td>\n",
              "      <td>0.401239</td>\n",
              "      <td>0.386480</td>\n",
              "      <td>0.377369</td>\n",
              "      <td>0.363338</td>\n",
              "      <td>0.353316</td>\n",
              "    </tr>\n",
              "    <tr>\n",
              "      <th>precision</th>\n",
              "      <td>0.501141</td>\n",
              "      <td>0.468483</td>\n",
              "      <td>0.472539</td>\n",
              "      <td>0.426564</td>\n",
              "      <td>0.421102</td>\n",
              "      <td>0.401227</td>\n",
              "      <td>0.386916</td>\n",
              "      <td>0.377952</td>\n",
              "      <td>0.364414</td>\n",
              "      <td>0.354758</td>\n",
              "    </tr>\n",
              "    <tr>\n",
              "      <th>recall</th>\n",
              "      <td>0.686978</td>\n",
              "      <td>0.654933</td>\n",
              "      <td>0.659554</td>\n",
              "      <td>0.645927</td>\n",
              "      <td>0.644219</td>\n",
              "      <td>0.645265</td>\n",
              "      <td>0.660529</td>\n",
              "      <td>0.658985</td>\n",
              "      <td>0.674865</td>\n",
              "      <td>0.693752</td>\n",
              "    </tr>\n",
              "    <tr>\n",
              "      <th>f1_score</th>\n",
              "      <td>0.499530</td>\n",
              "      <td>0.447371</td>\n",
              "      <td>0.459856</td>\n",
              "      <td>0.401638</td>\n",
              "      <td>0.389615</td>\n",
              "      <td>0.366157</td>\n",
              "      <td>0.350486</td>\n",
              "      <td>0.339629</td>\n",
              "      <td>0.326554</td>\n",
              "      <td>0.317002</td>\n",
              "    </tr>\n",
              "  </tbody>\n",
              "</table>\n",
              "</div>\n",
              "      <button class=\"colab-df-convert\" onclick=\"convertToInteractive('df-3133259b-6a42-4121-b5c9-bd5d6a2cefa7')\"\n",
              "              title=\"Convert this dataframe to an interactive table.\"\n",
              "              style=\"display:none;\">\n",
              "        \n",
              "  <svg xmlns=\"http://www.w3.org/2000/svg\" height=\"24px\"viewBox=\"0 0 24 24\"\n",
              "       width=\"24px\">\n",
              "    <path d=\"M0 0h24v24H0V0z\" fill=\"none\"/>\n",
              "    <path d=\"M18.56 5.44l.94 2.06.94-2.06 2.06-.94-2.06-.94-.94-2.06-.94 2.06-2.06.94zm-11 1L8.5 8.5l.94-2.06 2.06-.94-2.06-.94L8.5 2.5l-.94 2.06-2.06.94zm10 10l.94 2.06.94-2.06 2.06-.94-2.06-.94-.94-2.06-.94 2.06-2.06.94z\"/><path d=\"M17.41 7.96l-1.37-1.37c-.4-.4-.92-.59-1.43-.59-.52 0-1.04.2-1.43.59L10.3 9.45l-7.72 7.72c-.78.78-.78 2.05 0 2.83L4 21.41c.39.39.9.59 1.41.59.51 0 1.02-.2 1.41-.59l7.78-7.78 2.81-2.81c.8-.78.8-2.07 0-2.86zM5.41 20L4 18.59l7.72-7.72 1.47 1.35L5.41 20z\"/>\n",
              "  </svg>\n",
              "      </button>\n",
              "      \n",
              "  <style>\n",
              "    .colab-df-container {\n",
              "      display:flex;\n",
              "      flex-wrap:wrap;\n",
              "      gap: 12px;\n",
              "    }\n",
              "\n",
              "    .colab-df-convert {\n",
              "      background-color: #E8F0FE;\n",
              "      border: none;\n",
              "      border-radius: 50%;\n",
              "      cursor: pointer;\n",
              "      display: none;\n",
              "      fill: #1967D2;\n",
              "      height: 32px;\n",
              "      padding: 0 0 0 0;\n",
              "      width: 32px;\n",
              "    }\n",
              "\n",
              "    .colab-df-convert:hover {\n",
              "      background-color: #E2EBFA;\n",
              "      box-shadow: 0px 1px 2px rgba(60, 64, 67, 0.3), 0px 1px 3px 1px rgba(60, 64, 67, 0.15);\n",
              "      fill: #174EA6;\n",
              "    }\n",
              "\n",
              "    [theme=dark] .colab-df-convert {\n",
              "      background-color: #3B4455;\n",
              "      fill: #D2E3FC;\n",
              "    }\n",
              "\n",
              "    [theme=dark] .colab-df-convert:hover {\n",
              "      background-color: #434B5C;\n",
              "      box-shadow: 0px 1px 3px 1px rgba(0, 0, 0, 0.15);\n",
              "      filter: drop-shadow(0px 1px 2px rgba(0, 0, 0, 0.3));\n",
              "      fill: #FFFFFF;\n",
              "    }\n",
              "  </style>\n",
              "\n",
              "      <script>\n",
              "        const buttonEl =\n",
              "          document.querySelector('#df-3133259b-6a42-4121-b5c9-bd5d6a2cefa7 button.colab-df-convert');\n",
              "        buttonEl.style.display =\n",
              "          google.colab.kernel.accessAllowed ? 'block' : 'none';\n",
              "\n",
              "        async function convertToInteractive(key) {\n",
              "          const element = document.querySelector('#df-3133259b-6a42-4121-b5c9-bd5d6a2cefa7');\n",
              "          const dataTable =\n",
              "            await google.colab.kernel.invokeFunction('convertToInteractive',\n",
              "                                                     [key], {});\n",
              "          if (!dataTable) return;\n",
              "\n",
              "          const docLinkHtml = 'Like what you see? Visit the ' +\n",
              "            '<a target=\"_blank\" href=https://colab.research.google.com/notebooks/data_table.ipynb>data table notebook</a>'\n",
              "            + ' to learn more about interactive tables.';\n",
              "          element.innerHTML = '';\n",
              "          dataTable['output_type'] = 'display_data';\n",
              "          await google.colab.output.renderOutput(dataTable, element);\n",
              "          const docLink = document.createElement('div');\n",
              "          docLink.innerHTML = docLinkHtml;\n",
              "          element.appendChild(docLink);\n",
              "        }\n",
              "      </script>\n",
              "    </div>\n",
              "  </div>\n",
              "  "
            ]
          },
          "metadata": {}
        },
        {
          "output_type": "display_data",
          "data": {
            "text/plain": [
              "<Figure size 432x288 with 1 Axes>"
            ],
            "image/png": "[encoded data removed]"
          },
          "metadata": {
            "needs_background": "light"
          }
        },
        {
          "output_type": "display_data",
          "data": {
            "text/plain": [
              "<Figure size 432x288 with 1 Axes>"
            ],
            "image/png": "[encoded data removed]"
          },
          "metadata": {
            "needs_background": "light"
          }
        }
      ],
      "source": [
        "# Training and Validation Losses\n",
        "frame = {\"accuracy\": list(), \"precision\": list(), \"recall\": list(), \"f1_score\": list()}\n",
        "\n",
        "for k in range(1,11):\n",
        "  frame[\"accuracy\"].append(res[k][0])\n",
        "  frame[\"precision\"].append(res[k][1])\n",
        "  frame[\"recall\"].append(res[k][2])\n",
        "  frame[\"f1_score\"].append(res[k][3])\n",
        "\n",
        "df = pd.DataFrame(frame)\n",
        "df.index = np.arange(1,11)\n",
        "df.index.name = \"K-Value\"\n",
        "df = df.T\n",
        "display(df)\n",
        "\n",
        "plt.plot(df.columns, frame['accuracy'], label = \"Accuracy\")\n",
        "plt.xlabel(\"K-Values\")\n",
        "plt.ylabel(\"Classification Accuracy\")\n",
        "plt.title(\"K-Value vs. Accuracy\")\n",
        "plt.legend()\n",
        "plt.show()\n",
        "\n",
        "plt.plot(df.columns, frame['f1_score'], label = \"F1-Score\")\n",
        "plt.xlabel(\"K-Values\")\n",
        "plt.ylabel(\"F1-Score\")\n",
        "plt.title(\"K-Value vs. F1-Score\")\n",
        "plt.legend()\n",
        "plt.show()"
      ]
    },
    {
      "cell_type": "code",
      "execution_count": null,
      "metadata": {
        "colab": {
          "base_uri": "https://localhost:8080/",
          "height": 595
        },
        "id": "mxYHh3G4aYJJ",
        "outputId": "7c1514f7-86f5-487f-bdd0-0c8df2815dc4"
      },
      "outputs": [
        {
          "output_type": "stream",
          "name": "stdout",
          "text": [
            "Accuracy:  0.5502915451895044\n",
            "Precision:  0.7112290553247523\n",
            "Recall:  0.5555322654843191\n",
            "F1-Score:  0.5497608556174834\n",
            "Confusion Matrix\n",
            "\n"
          ]
        },
        {
          "output_type": "execute_result",
          "data": {
            "text/plain": [
              "Text(0.5, 1.0, 'Confusion Matrix for Test Tweets(K=1)')"
            ]
          },
          "metadata": {},
          "execution_count": 17
        },
        {
          "output_type": "display_data",
          "data": {
            "text/plain": [
              "<Figure size 720x504 with 2 Axes>"
            ],
            "image/png": "[encoded data removed]"
          },
          "metadata": {
            "needs_background": "light"
          }
        }
      ],
      "source": [
        "# Testing on Test Data\n",
        "predicted_label = scikit_Knn(1, list(train_features), train_labels, list(test_features))\n",
        "\n",
        "# Results on Test Data\n",
        "eval_res = scikit_eval(test_labels, predicted_label)\n",
        "\n",
        "print(\"Accuracy: \", eval_res[0])\n",
        "print(\"Precision: \", eval_res[1])\n",
        "print(\"Recall: \", eval_res[2])\n",
        "print(\"F1-Score: \", eval_res[3])\n",
        "print(\"Confusion Matrix\\n\")\n",
        "\n",
        "classes = [\"joejonas\", \"Nike\", \"TheOnion\", \"netflix\" , \"LFC\" , \"UNICEF\"]\n",
        "plt.figure(figsize = (10,7))\n",
        "g = sns.heatmap(eval_res[4], annot=True, cmap='coolwarm')\n",
        "g.set_xticklabels(labels = classes)\n",
        "g.set_yticklabels(labels = classes, rotation=0)\n",
        "plt.xlabel(\"Predicted Labels\", fontsize=16)\n",
        "plt.ylabel(\"True Labels\", fontsize=16)\n",
        "plt.title(\"Confusion Matrix for Test Tweets(K=1)\", fontsize=20)"
      ]
    },
    {
      "cell_type": "markdown",
      "source": [
        "## TASK 2: Neural Networks\n"
      ],
      "metadata": {
        "id": "Ccv7KjuRauva"
      }
    },
    {
      "cell_type": "code",
      "source": [
        "from sklearn.neural_network import MLPClassifier\n",
        "from sklearn.metrics import classification_report\n",
        "from sklearn.metrics import confusion_matrix\n",
        "from sklearn.metrics import accuracy_score\n",
        "from sklearn.metrics import precision_score\n",
        "from sklearn.metrics import recall_score\n",
        "from sklearn.metrics import f1_score"
      ],
      "metadata": {
        "id": "Y964ZT0fauJ5"
      },
      "execution_count": null,
      "outputs": []
    },
    {
      "cell_type": "code",
      "source": [
        "from sklearn.model_selection import cross_validate\n",
        "from sklearn.model_selection import cross_val_score"
      ],
      "metadata": {
        "id": "Jpj0y8afa1eu"
      },
      "execution_count": null,
      "outputs": []
    },
    {
      "cell_type": "code",
      "source": [
        "# Making Generalized Functions for MFold Cross Validation and Evaluation \n",
        "\n",
        "def scikit_nn (k, f_train, l_train, f_test):\n",
        "  nn = MLPClassifier(hidden_layer_sizes=(100,100,100), max_iter=500)\n",
        "  nn.fit(f_train, l_train)\n",
        "  predicted_label = nn.predict(f_test)\n",
        "\n",
        "  return predicted_label\n",
        "\n",
        "def scikit_eval(l_valid, predicted_label):\n",
        "  classes = [\"joejonas\", \"Nike\", \"TheOnion\", \"netflix\" , \"LFC\" , \"UNICEF\"]\n",
        "  acuracy = accuracy_score(l_valid, predicted_label)\n",
        "\n",
        "  evaluation_report = classification_report(l_valid, predicted_label,target_names=classes, output_dict=True)\n",
        "  fscore = evaluation_report['macro avg']['f1-score']\n",
        "  precision = evaluation_report['macro avg']['precision']\n",
        "  recall = evaluation_report['macro avg']['recall']\n",
        "\n",
        "  cm = confusion_matrix(l_valid, predicted_label, labels=classes)\n",
        "\n",
        "  return (acuracy, precision, recall, fscore, cm)\n",
        "\n",
        "def mFold_NN(m, k, train_features, train_labels):\n",
        "  kf = KFold(n_splits=m, random_state=None, shuffle=False)\n",
        "  p_labels = list()\n",
        "  for train_index, test_index in kf.split(train_features):\n",
        "    X_train, X_test = train_features[train_index], train_features[test_index]\n",
        "    y_train, y_test = train_labels[train_index], train_labels[test_index]\n",
        "\n",
        "    predicted_label = scikit_nn(k, list(X_train), y_train, list(X_test))\n",
        "    p_labels.append(predicted_label.tolist())\n",
        "\n",
        "  p_labels = sum(p_labels, [])\n",
        "  return p_labels"
      ],
      "metadata": {
        "id": "M-UObXCFcl16"
      },
      "execution_count": null,
      "outputs": []
    },
    {
      "cell_type": "markdown",
      "source": [
        "## Neural Networks for embeddings"
      ],
      "metadata": {
        "id": "_Q5Bdeb7dKSS"
      }
    },
    {
      "cell_type": "code",
      "source": [
        "# Seprating features and labels\n",
        "train_features = train_tweets[\"embeddings\"]\n",
        "train_labels = train_tweets[\"username\"]\n",
        "\n",
        "test_features = test_tweets[\"embeddings\"]\n",
        "test_labels = test_tweets[\"username\"]"
      ],
      "metadata": {
        "id": "ZyXJe9TsddrS"
      },
      "execution_count": null,
      "outputs": []
    },
    {
      "cell_type": "code",
      "source": [
        "# mfold cross validation\n",
        "res = {}\n",
        "for k in range(1,11):\n",
        "    predicted_labels = mFold_NN(5, k, train_features, train_labels)\n",
        "    eval_res = scikit_eval(predicted_labels, train_labels)\n",
        "    res[k] = eval_res"
      ],
      "metadata": {
        "id": "ITAhZAyedeXQ"
      },
      "execution_count": null,
      "outputs": []
    },
    {
      "cell_type": "code",
      "source": [
        "# Training and Validation Losses\n",
        "frame = {\"accuracy\": list(), \"precision\": list(), \"recall\": list(), \"f1_score\": list()}\n",
        "\n",
        "for k in range(1,11):\n",
        "  frame[\"accuracy\"].append(res[k][0])\n",
        "  frame[\"precision\"].append(res[k][1])\n",
        "  frame[\"recall\"].append(res[k][2])\n",
        "  frame[\"f1_score\"].append(res[k][3])\n",
        "\n",
        "df = pd.DataFrame(frame)\n",
        "df.index = np.arange(1,11)\n",
        "df.index.name = \"K-Value\"\n",
        "df = df.T\n",
        "display(df)\n",
        "\n",
        "plt.plot(df.columns, frame['accuracy'], label = \"Accuracy\")\n",
        "plt.xlabel(\"K-Values\")\n",
        "plt.ylabel(\"Classification Accuracy\")\n",
        "plt.title(\"K-Value vs. Accuracy\")\n",
        "plt.legend()\n",
        "plt.show()\n",
        "\n",
        "plt.plot(df.columns, frame['f1_score'], label = \"F1-Score\")\n",
        "plt.xlabel(\"K-Values\")\n",
        "plt.ylabel(\"F1-Score\")\n",
        "plt.title(\"K-Value vs. F1-Score\")\n",
        "plt.legend()\n",
        "plt.show()"
      ],
      "metadata": {
        "colab": {
          "base_uri": "https://localhost:8080/",
          "height": 731
        },
        "id": "7RDTufz9dhY8",
        "outputId": "b84f0f90-56d3-4950-efab-bfcd064a7984"
      },
      "execution_count": null,
      "outputs": [
        {
          "output_type": "display_data",
          "data": {
            "text/plain": [
              "K-Value          1         2         3         4         5         6   \\\n",
              "accuracy   0.825255  0.821246  0.824891  0.827806  0.821246  0.825802   \n",
              "precision  0.824676  0.820898  0.824338  0.827474  0.820745  0.825400   \n",
              "recall     0.823857  0.819930  0.824590  0.826390  0.819830  0.824802   \n",
              "f1_score   0.824190  0.820278  0.824350  0.826878  0.820145  0.825024   \n",
              "\n",
              "K-Value          7         8         9         10  \n",
              "accuracy   0.821611  0.822522  0.822886  0.819060  \n",
              "precision  0.820921  0.821859  0.822254  0.818545  \n",
              "recall     0.820396  0.821705  0.821540  0.817851  \n",
              "f1_score   0.820594  0.821701  0.821839  0.818084  "
            ],
            "text/html": [
              "\n",
              "  <div id=\"df-9d98d165-9adc-45d8-a44e-b5b49ea863e2\">\n",
              "    <div class=\"colab-df-container\">\n",
              "      <div>\n",
              "<style scoped>\n",
              "    .dataframe tbody tr th:only-of-type {\n",
              "        vertical-align: middle;\n",
              "    }\n",
              "\n",
              "    .dataframe tbody tr th {\n",
              "        vertical-align: top;\n",
              "    }\n",
              "\n",
              "    .dataframe thead th {\n",
              "        text-align: right;\n",
              "    }\n",
              "</style>\n",
              "<table border=\"1\" class=\"dataframe\">\n",
              "  <thead>\n",
              "    <tr style=\"text-align: right;\">\n",
              "      <th>K-Value</th>\n",
              "      <th>1</th>\n",
              "      <th>2</th>\n",
              "      <th>3</th>\n",
              "      <th>4</th>\n",
              "      <th>5</th>\n",
              "      <th>6</th>\n",
              "      <th>7</th>\n",
              "      <th>8</th>\n",
              "      <th>9</th>\n",
              "      <th>10</th>\n",
              "    </tr>\n",
              "  </thead>\n",
              "  <tbody>\n",
              "    <tr>\n",
              "      <th>accuracy</th>\n",
              "      <td>0.825255</td>\n",
              "      <td>0.821246</td>\n",
              "      <td>0.824891</td>\n",
              "      <td>0.827806</td>\n",
              "      <td>0.821246</td>\n",
              "      <td>0.825802</td>\n",
              "      <td>0.821611</td>\n",
              "      <td>0.822522</td>\n",
              "      <td>0.822886</td>\n",
              "      <td>0.819060</td>\n",
              "    </tr>\n",
              "    <tr>\n",
              "      <th>precision</th>\n",
              "      <td>0.824676</td>\n",
              "      <td>0.820898</td>\n",
              "      <td>0.824338</td>\n",
              "      <td>0.827474</td>\n",
              "      <td>0.820745</td>\n",
              "      <td>0.825400</td>\n",
              "      <td>0.820921</td>\n",
              "      <td>0.821859</td>\n",
              "      <td>0.822254</td>\n",
              "      <td>0.818545</td>\n",
              "    </tr>\n",
              "    <tr>\n",
              "      <th>recall</th>\n",
              "      <td>0.823857</td>\n",
              "      <td>0.819930</td>\n",
              "      <td>0.824590</td>\n",
              "      <td>0.826390</td>\n",
              "      <td>0.819830</td>\n",
              "      <td>0.824802</td>\n",
              "      <td>0.820396</td>\n",
              "      <td>0.821705</td>\n",
              "      <td>0.821540</td>\n",
              "      <td>0.817851</td>\n",
              "    </tr>\n",
              "    <tr>\n",
              "      <th>f1_score</th>\n",
              "      <td>0.824190</td>\n",
              "      <td>0.820278</td>\n",
              "      <td>0.824350</td>\n",
              "      <td>0.826878</td>\n",
              "      <td>0.820145</td>\n",
              "      <td>0.825024</td>\n",
              "      <td>0.820594</td>\n",
              "      <td>0.821701</td>\n",
              "      <td>0.821839</td>\n",
              "      <td>0.818084</td>\n",
              "    </tr>\n",
              "  </tbody>\n",
              "</table>\n",
              "</div>\n",
              "      <button class=\"colab-df-convert\" onclick=\"convertToInteractive('df-9d98d165-9adc-45d8-a44e-b5b49ea863e2')\"\n",
              "              title=\"Convert this dataframe to an interactive table.\"\n",
              "              style=\"display:none;\">\n",
              "        \n",
              "  <svg xmlns=\"http://www.w3.org/2000/svg\" height=\"24px\"viewBox=\"0 0 24 24\"\n",
              "       width=\"24px\">\n",
              "    <path d=\"M0 0h24v24H0V0z\" fill=\"none\"/>\n",
              "    <path d=\"M18.56 5.44l.94 2.06.94-2.06 2.06-.94-2.06-.94-.94-2.06-.94 2.06-2.06.94zm-11 1L8.5 8.5l.94-2.06 2.06-.94-2.06-.94L8.5 2.5l-.94 2.06-2.06.94zm10 10l.94 2.06.94-2.06 2.06-.94-2.06-.94-.94-2.06-.94 2.06-2.06.94z\"/><path d=\"M17.41 7.96l-1.37-1.37c-.4-.4-.92-.59-1.43-.59-.52 0-1.04.2-1.43.59L10.3 9.45l-7.72 7.72c-.78.78-.78 2.05 0 2.83L4 21.41c.39.39.9.59 1.41.59.51 0 1.02-.2 1.41-.59l7.78-7.78 2.81-2.81c.8-.78.8-2.07 0-2.86zM5.41 20L4 18.59l7.72-7.72 1.47 1.35L5.41 20z\"/>\n",
              "  </svg>\n",
              "      </button>\n",
              "      \n",
              "  <style>\n",
              "    .colab-df-container {\n",
              "      display:flex;\n",
              "      flex-wrap:wrap;\n",
              "      gap: 12px;\n",
              "    }\n",
              "\n",
              "    .colab-df-convert {\n",
              "      background-color: #E8F0FE;\n",
              "      border: none;\n",
              "      border-radius: 50%;\n",
              "      cursor: pointer;\n",
              "      display: none;\n",
              "      fill: #1967D2;\n",
              "      height: 32px;\n",
              "      padding: 0 0 0 0;\n",
              "      width: 32px;\n",
              "    }\n",
              "\n",
              "    .colab-df-convert:hover {\n",
              "      background-color: #E2EBFA;\n",
              "      box-shadow: 0px 1px 2px rgba(60, 64, 67, 0.3), 0px 1px 3px 1px rgba(60, 64, 67, 0.15);\n",
              "      fill: #174EA6;\n",
              "    }\n",
              "\n",
              "    [theme=dark] .colab-df-convert {\n",
              "      background-color: #3B4455;\n",
              "      fill: #D2E3FC;\n",
              "    }\n",
              "\n",
              "    [theme=dark] .colab-df-convert:hover {\n",
              "      background-color: #434B5C;\n",
              "      box-shadow: 0px 1px 3px 1px rgba(0, 0, 0, 0.15);\n",
              "      filter: drop-shadow(0px 1px 2px rgba(0, 0, 0, 0.3));\n",
              "      fill: #FFFFFF;\n",
              "    }\n",
              "  </style>\n",
              "\n",
              "      <script>\n",
              "        const buttonEl =\n",
              "          document.querySelector('#df-9d98d165-9adc-45d8-a44e-b5b49ea863e2 button.colab-df-convert');\n",
              "        buttonEl.style.display =\n",
              "          google.colab.kernel.accessAllowed ? 'block' : 'none';\n",
              "\n",
              "        async function convertToInteractive(key) {\n",
              "          const element = document.querySelector('#df-9d98d165-9adc-45d8-a44e-b5b49ea863e2');\n",
              "          const dataTable =\n",
              "            await google.colab.kernel.invokeFunction('convertToInteractive',\n",
              "                                                     [key], {});\n",
              "          if (!dataTable) return;\n",
              "\n",
              "          const docLinkHtml = 'Like what you see? Visit the ' +\n",
              "            '<a target=\"_blank\" href=https://colab.research.google.com/notebooks/data_table.ipynb>data table notebook</a>'\n",
              "            + ' to learn more about interactive tables.';\n",
              "          element.innerHTML = '';\n",
              "          dataTable['output_type'] = 'display_data';\n",
              "          await google.colab.output.renderOutput(dataTable, element);\n",
              "          const docLink = document.createElement('div');\n",
              "          docLink.innerHTML = docLinkHtml;\n",
              "          element.appendChild(docLink);\n",
              "        }\n",
              "      </script>\n",
              "    </div>\n",
              "  </div>\n",
              "  "
            ]
          },
          "metadata": {}
        },
        {
          "output_type": "display_data",
          "data": {
            "text/plain": [
              "<Figure size 432x288 with 1 Axes>"
            ],
            "image/png": "[encoded data removed]"
          },
          "metadata": {
            "needs_background": "light"
          }
        },
        {
          "output_type": "display_data",
          "data": {
            "text/plain": [
              "<Figure size 432x288 with 1 Axes>"
            ],
            "image/png": "[encoded data removed]"
          },
          "metadata": {
            "needs_background": "light"
          }
        }
      ]
    },
    {
      "cell_type": "code",
      "source": [
        "# Testing on Test Data\n",
        "predicted_label = scikit_nn(6, list(train_features), train_labels, list(test_features))\n",
        "\n",
        "# Results on Test Data\n",
        "eval_res = scikit_eval(test_labels, predicted_label)\n",
        "\n",
        "print(\"Accuracy: \", eval_res[0])\n",
        "print(\"Precision: \", eval_res[1])\n",
        "print(\"Recall: \", eval_res[2])\n",
        "print(\"F1-Score: \", eval_res[3])\n",
        "print(\"Confusion Matrix\\n\")\n",
        "\n",
        "classes = [\"joejonas\", \"Nike\", \"TheOnion\", \"netflix\" , \"LFC\" , \"UNICEF\"]\n",
        "plt.figure(figsize = (10,7))\n",
        "g = sns.heatmap(eval_res[4], annot=True, cmap='coolwarm')\n",
        "g.set_xticklabels(labels = classes)\n",
        "g.set_yticklabels(labels = classes, rotation=0)\n",
        "plt.xlabel(\"Predicted Labels\", fontsize=16)\n",
        "plt.ylabel(\"True Labels\", fontsize=16)\n",
        "plt.title(\"Confusion Matrix for Test Tweets(K=6)\", fontsize=20)"
      ],
      "metadata": {
        "colab": {
          "base_uri": "https://localhost:8080/",
          "height": 595
        },
        "id": "cyO6zHYUg5EH",
        "outputId": "0f1af79a-6758-4bce-e6cf-498c67d7e354"
      },
      "execution_count": null,
      "outputs": [
        {
          "output_type": "stream",
          "name": "stdout",
          "text": [
            "Accuracy:  0.8440233236151603\n",
            "Precision:  0.8410588333441481\n",
            "Recall:  0.8411244252127054\n",
            "F1-Score:  0.8406389181508024\n",
            "Confusion Matrix\n",
            "\n"
          ]
        },
        {
          "output_type": "execute_result",
          "data": {
            "text/plain": [
              "Text(0.5, 1.0, 'Confusion Matrix for Test Tweets(K=6)')"
            ]
          },
          "metadata": {},
          "execution_count": 25
        },
        {
          "output_type": "display_data",
          "data": {
            "text/plain": [
              "<Figure size 720x504 with 2 Axes>"
            ],
            "image/png": "[encoded data removed]"
          },
          "metadata": {
            "needs_background": "light"
          }
        }
      ]
    },
    {
      "cell_type": "markdown",
      "source": [
        "## Neural Networks for Bag of Words"
      ],
      "metadata": {
        "id": "WSIMvQgQhdJ-"
      }
    },
    {
      "cell_type": "code",
      "source": [
        "# Seprating features and labels\n",
        "train_features = train_tweets[\"bag_of_words\"]\n",
        "train_labels = train_tweets[\"username\"]\n",
        "\n",
        "test_features = test_tweets[\"bag_of_words\"]\n",
        "test_labels = test_tweets[\"username\"]"
      ],
      "metadata": {
        "id": "FGZV_EQ7hWPs"
      },
      "execution_count": null,
      "outputs": []
    },
    {
      "cell_type": "code",
      "source": [
        "# mfold cross validation\n",
        "res = {}\n",
        "for k in range(1,11):\n",
        "    print(k)\n",
        "    predicted_labels = mFold_NN(5, k, train_features, train_labels)\n",
        "    eval_res = scikit_eval(predicted_labels, train_labels)\n",
        "    res[k] = eval_res"
      ],
      "metadata": {
        "colab": {
          "base_uri": "https://localhost:8080/"
        },
        "id": "wBtuoes9hxF6",
        "outputId": "6b61d624-2f70-4c9d-c95c-4f6d70ba5f42"
      },
      "execution_count": null,
      "outputs": [
        {
          "output_type": "stream",
          "name": "stdout",
          "text": [
            "1\n",
            "2\n",
            "3\n",
            "4\n",
            "5\n",
            "6\n",
            "7\n",
            "8\n",
            "9\n",
            "10\n"
          ]
        }
      ]
    },
    {
      "cell_type": "code",
      "source": [
        "# Training and Validation Losses\n",
        "frame = {\"accuracy\": list(), \"precision\": list(), \"recall\": list(), \"f1_score\": list()}\n",
        "\n",
        "for k in range(1,11):\n",
        "  frame[\"accuracy\"].append(res[k][0])\n",
        "  frame[\"precision\"].append(res[k][1])\n",
        "  frame[\"recall\"].append(res[k][2])\n",
        "  frame[\"f1_score\"].append(res[k][3])\n",
        "\n",
        "df = pd.DataFrame(frame)\n",
        "df.index = np.arange(1,11)\n",
        "df.index.name = \"K-Value\"\n",
        "df = df.T\n",
        "display(df)\n",
        "\n",
        "plt.plot(df.columns, frame['accuracy'], label = \"Accuracy\")\n",
        "plt.xlabel(\"K-Values\")\n",
        "plt.ylabel(\"Classification Accuracy\")\n",
        "plt.title(\"K-Value vs. Accuracy\")\n",
        "plt.legend()\n",
        "plt.show()\n",
        "\n",
        "plt.plot(df.columns, frame['f1_score'], label = \"F1-Score\")\n",
        "plt.xlabel(\"K-Values\")\n",
        "plt.ylabel(\"F1-Score\")\n",
        "plt.title(\"K-Value vs. F1-Score\")\n",
        "plt.legend()\n",
        "plt.show()"
      ],
      "metadata": {
        "colab": {
          "base_uri": "https://localhost:8080/",
          "height": 731
        },
        "id": "hOWrdEFUh7x4",
        "outputId": "6bf93f29-70f5-48e7-e4ff-6646da1c3a34"
      },
      "execution_count": null,
      "outputs": [
        {
          "output_type": "display_data",
          "data": {
            "text/plain": [
              "K-Value          1         2         3         4         5         6   \\\n",
              "accuracy   0.833455  0.834730  0.835459  0.835277  0.836735  0.839468   \n",
              "precision  0.830573  0.831557  0.832549  0.832596  0.833775  0.836728   \n",
              "recall     0.841222  0.841056  0.842814  0.842027  0.842114  0.844630   \n",
              "f1_score   0.831970  0.832433  0.833665  0.833741  0.834619  0.837790   \n",
              "\n",
              "K-Value          7         8         9         10  \n",
              "accuracy   0.840379  0.835641  0.832726  0.834366  \n",
              "precision  0.837580  0.832724  0.829717  0.831406  \n",
              "recall     0.845577  0.840997  0.839570  0.840536  \n",
              "f1_score   0.838428  0.833610  0.830953  0.832462  "
            ],
            "text/html": [
              "\n",
              "  <div id=\"df-60fb9cf2-036e-4184-95f7-222945dff7ea\">\n",
              "    <div class=\"colab-df-container\">\n",
              "      <div>\n",
              "<style scoped>\n",
              "    .dataframe tbody tr th:only-of-type {\n",
              "        vertical-align: middle;\n",
              "    }\n",
              "\n",
              "    .dataframe tbody tr th {\n",
              "        vertical-align: top;\n",
              "    }\n",
              "\n",
              "    .dataframe thead th {\n",
              "        text-align: right;\n",
              "    }\n",
              "</style>\n",
              "<table border=\"1\" class=\"dataframe\">\n",
              "  <thead>\n",
              "    <tr style=\"text-align: right;\">\n",
              "      <th>K-Value</th>\n",
              "      <th>1</th>\n",
              "      <th>2</th>\n",
              "      <th>3</th>\n",
              "      <th>4</th>\n",
              "      <th>5</th>\n",
              "      <th>6</th>\n",
              "      <th>7</th>\n",
              "      <th>8</th>\n",
              "      <th>9</th>\n",
              "      <th>10</th>\n",
              "    </tr>\n",
              "  </thead>\n",
              "  <tbody>\n",
              "    <tr>\n",
              "      <th>accuracy</th>\n",
              "      <td>0.833455</td>\n",
              "      <td>0.834730</td>\n",
              "      <td>0.835459</td>\n",
              "      <td>0.835277</td>\n",
              "      <td>0.836735</td>\n",
              "      <td>0.839468</td>\n",
              "      <td>0.840379</td>\n",
              "      <td>0.835641</td>\n",
              "      <td>0.832726</td>\n",
              "      <td>0.834366</td>\n",
              "    </tr>\n",
              "    <tr>\n",
              "      <th>precision</th>\n",
              "      <td>0.830573</td>\n",
              "      <td>0.831557</td>\n",
              "      <td>0.832549</td>\n",
              "      <td>0.832596</td>\n",
              "      <td>0.833775</td>\n",
              "      <td>0.836728</td>\n",
              "      <td>0.837580</td>\n",
              "      <td>0.832724</td>\n",
              "      <td>0.829717</td>\n",
              "      <td>0.831406</td>\n",
              "    </tr>\n",
              "    <tr>\n",
              "      <th>recall</th>\n",
              "      <td>0.841222</td>\n",
              "      <td>0.841056</td>\n",
              "      <td>0.842814</td>\n",
              "      <td>0.842027</td>\n",
              "      <td>0.842114</td>\n",
              "      <td>0.844630</td>\n",
              "      <td>0.845577</td>\n",
              "      <td>0.840997</td>\n",
              "      <td>0.839570</td>\n",
              "      <td>0.840536</td>\n",
              "    </tr>\n",
              "    <tr>\n",
              "      <th>f1_score</th>\n",
              "      <td>0.831970</td>\n",
              "      <td>0.832433</td>\n",
              "      <td>0.833665</td>\n",
              "      <td>0.833741</td>\n",
              "      <td>0.834619</td>\n",
              "      <td>0.837790</td>\n",
              "      <td>0.838428</td>\n",
              "      <td>0.833610</td>\n",
              "      <td>0.830953</td>\n",
              "      <td>0.832462</td>\n",
              "    </tr>\n",
              "  </tbody>\n",
              "</table>\n",
              "</div>\n",
              "      <button class=\"colab-df-convert\" onclick=\"convertToInteractive('df-60fb9cf2-036e-4184-95f7-222945dff7ea')\"\n",
              "              title=\"Convert this dataframe to an interactive table.\"\n",
              "              style=\"display:none;\">\n",
              "        \n",
              "  <svg xmlns=\"http://www.w3.org/2000/svg\" height=\"24px\"viewBox=\"0 0 24 24\"\n",
              "       width=\"24px\">\n",
              "    <path d=\"M0 0h24v24H0V0z\" fill=\"none\"/>\n",
              "    <path d=\"M18.56 5.44l.94 2.06.94-2.06 2.06-.94-2.06-.94-.94-2.06-.94 2.06-2.06.94zm-11 1L8.5 8.5l.94-2.06 2.06-.94-2.06-.94L8.5 2.5l-.94 2.06-2.06.94zm10 10l.94 2.06.94-2.06 2.06-.94-2.06-.94-.94-2.06-.94 2.06-2.06.94z\"/><path d=\"M17.41 7.96l-1.37-1.37c-.4-.4-.92-.59-1.43-.59-.52 0-1.04.2-1.43.59L10.3 9.45l-7.72 7.72c-.78.78-.78 2.05 0 2.83L4 21.41c.39.39.9.59 1.41.59.51 0 1.02-.2 1.41-.59l7.78-7.78 2.81-2.81c.8-.78.8-2.07 0-2.86zM5.41 20L4 18.59l7.72-7.72 1.47 1.35L5.41 20z\"/>\n",
              "  </svg>\n",
              "      </button>\n",
              "      \n",
              "  <style>\n",
              "    .colab-df-container {\n",
              "      display:flex;\n",
              "      flex-wrap:wrap;\n",
              "      gap: 12px;\n",
              "    }\n",
              "\n",
              "    .colab-df-convert {\n",
              "      background-color: #E8F0FE;\n",
              "      border: none;\n",
              "      border-radius: 50%;\n",
              "      cursor: pointer;\n",
              "      display: none;\n",
              "      fill: #1967D2;\n",
              "      height: 32px;\n",
              "      padding: 0 0 0 0;\n",
              "      width: 32px;\n",
              "    }\n",
              "\n",
              "    .colab-df-convert:hover {\n",
              "      background-color: #E2EBFA;\n",
              "      box-shadow: 0px 1px 2px rgba(60, 64, 67, 0.3), 0px 1px 3px 1px rgba(60, 64, 67, 0.15);\n",
              "      fill: #174EA6;\n",
              "    }\n",
              "\n",
              "    [theme=dark] .colab-df-convert {\n",
              "      background-color: #3B4455;\n",
              "      fill: #D2E3FC;\n",
              "    }\n",
              "\n",
              "    [theme=dark] .colab-df-convert:hover {\n",
              "      background-color: #434B5C;\n",
              "      box-shadow: 0px 1px 3px 1px rgba(0, 0, 0, 0.15);\n",
              "      filter: drop-shadow(0px 1px 2px rgba(0, 0, 0, 0.3));\n",
              "      fill: #FFFFFF;\n",
              "    }\n",
              "  </style>\n",
              "\n",
              "      <script>\n",
              "        const buttonEl =\n",
              "          document.querySelector('#df-60fb9cf2-036e-4184-95f7-222945dff7ea button.colab-df-convert');\n",
              "        buttonEl.style.display =\n",
              "          google.colab.kernel.accessAllowed ? 'block' : 'none';\n",
              "\n",
              "        async function convertToInteractive(key) {\n",
              "          const element = document.querySelector('#df-60fb9cf2-036e-4184-95f7-222945dff7ea');\n",
              "          const dataTable =\n",
              "            await google.colab.kernel.invokeFunction('convertToInteractive',\n",
              "                                                     [key], {});\n",
              "          if (!dataTable) return;\n",
              "\n",
              "          const docLinkHtml = 'Like what you see? Visit the ' +\n",
              "            '<a target=\"_blank\" href=https://colab.research.google.com/notebooks/data_table.ipynb>data table notebook</a>'\n",
              "            + ' to learn more about interactive tables.';\n",
              "          element.innerHTML = '';\n",
              "          dataTable['output_type'] = 'display_data';\n",
              "          await google.colab.output.renderOutput(dataTable, element);\n",
              "          const docLink = document.createElement('div');\n",
              "          docLink.innerHTML = docLinkHtml;\n",
              "          element.appendChild(docLink);\n",
              "        }\n",
              "      </script>\n",
              "    </div>\n",
              "  </div>\n",
              "  "
            ]
          },
          "metadata": {}
        },
        {
          "output_type": "display_data",
          "data": {
            "text/plain": [
              "<Figure size 432x288 with 1 Axes>"
            ],
            "image/png": "[encoded data removed]"
          },
          "metadata": {
            "needs_background": "light"
          }
        },
        {
          "output_type": "display_data",
          "data": {
            "text/plain": [
              "<Figure size 432x288 with 1 Axes>"
            ],
            "image/png": "[encoded data removed]"
          },
          "metadata": {
            "needs_background": "light"
          }
        }
      ]
    },
    {
      "cell_type": "code",
      "source": [
        "# Testing on Test Data\n",
        "predicted_label = scikit_nn(1, list(train_features), train_labels, list(test_features))\n",
        "\n",
        "# Results on Test Data\n",
        "eval_res = scikit_eval(test_labels, predicted_label)\n",
        "\n",
        "print(\"Accuracy: \", eval_res[0])\n",
        "print(\"Precision: \", eval_res[1])\n",
        "print(\"Recall: \", eval_res[2])\n",
        "print(\"F1-Score: \", eval_res[3])\n",
        "print(\"Confusion Matrix\\n\")\n",
        "\n",
        "classes = [\"joejonas\", \"Nike\", \"TheOnion\", \"netflix\" , \"LFC\" , \"UNICEF\"]\n",
        "plt.figure(figsize = (10,7))\n",
        "g = sns.heatmap(eval_res[4], annot=True, cmap='coolwarm')\n",
        "g.set_xticklabels(labels = classes)\n",
        "g.set_yticklabels(labels = classes, rotation=0)\n",
        "plt.xlabel(\"Predicted Labels\", fontsize=16)\n",
        "plt.ylabel(\"True Labels\", fontsize=16)\n",
        "plt.title(\"Confusion Matrix for Test Tweets(K=1)\", fontsize=20)"
      ],
      "metadata": {
        "colab": {
          "base_uri": "https://localhost:8080/",
          "height": 595
        },
        "id": "kvf-L9gNiFIJ",
        "outputId": "83e2673d-20f1-4d3c-9c09-0ad3860b36b8"
      },
      "execution_count": null,
      "outputs": [
        {
          "output_type": "stream",
          "name": "stdout",
          "text": [
            "Accuracy:  0.8607871720116618\n",
            "Precision:  0.8650452179775936\n",
            "Recall:  0.8602001613823441\n",
            "F1-Score:  0.8584739052333007\n",
            "Confusion Matrix\n",
            "\n"
          ]
        },
        {
          "output_type": "execute_result",
          "data": {
            "text/plain": [
              "Text(0.5, 1.0, 'Confusion Matrix for Test Tweets(K=1)')"
            ]
          },
          "metadata": {},
          "execution_count": 29
        },
        {
          "output_type": "display_data",
          "data": {
            "text/plain": [
              "<Figure size 720x504 with 2 Axes>"
            ],
            "image/png": "[encoded data removed]"
          },
          "metadata": {
            "needs_background": "light"
          }
        }
      ]
    },
    {
      "cell_type": "code",
      "source": [
        "model = MLPClassifier(hidden_layer_sizes=(100,100,100), max_iter=500)\n",
        "cross_val = cross_val_score(model, train_features, train_labels, cv=5)\n",
        "print(cross_val)\n",
        "model.fit(train_features, train_labels)\n",
        "predictions = model.predict(test_features)\n",
        "print(\"Loss: \", model.loss_)\n",
        "print(classification_report(test_labels, predictions))\n",
        "print(confusion_matrix(test_labels, predictions))\n",
        "print(\"Accuracy: \", accuracy_score(test_labels, predictions))\n",
        "print(\"Precision: \", precision_score(test_labels, predictions, average='macro'))\n",
        "print(\"Recall: \", recall_score(test_labels, predictions, average='macro'))\n",
        "print(\"F1 Score: \", f1_score(test_labels, predictions, average='macro'))"
      ],
      "metadata": {
        "id": "smsgKJSca3J-"
      },
      "execution_count": null,
      "outputs": []
    },
    {
      "cell_type": "markdown",
      "source": [
        "## Task4: Ensemble Method"
      ],
      "metadata": {
        "id": "mvmeZhcJwMKg"
      }
    },
    {
      "cell_type": "code",
      "source": [
        "from sklearn.ensemble import BaggingClassifier\n",
        "from sklearn.ensemble import RandomForestClassifier\n",
        "from sklearn.ensemble import AdaBoostClassifier\n",
        "from sklearn.ensemble import ExtraTreesClassifier\n",
        "from sklearn.ensemble import VotingClassifier\n",
        "from sklearn.tree import DecisionTreeClassifier\n",
        "from sklearn.svm import SVC\n",
        "from sklearn.linear_model import LogisticRegression\n",
        "from sklearn.neighbors import KNeighborsClassifier"
      ],
      "metadata": {
        "id": "x8QpCtlRv-3V"
      },
      "execution_count": null,
      "outputs": []
    },
    {
      "cell_type": "markdown",
      "source": [
        "#### Bagging Classifier for Bag of Words"
      ],
      "metadata": {
        "id": "zDiEAr5y0iks"
      }
    },
    {
      "cell_type": "code",
      "source": [
        "# Seprating features and labels\n",
        "train_features = train_tweets[\"bag_of_words\"]\n",
        "train_labels = train_tweets[\"username\"]\n",
        "\n",
        "test_features = test_tweets[\"bag_of_words\"]\n",
        "test_labels = test_tweets[\"username\"]"
      ],
      "metadata": {
        "id": "-aKz12JD1Xvo"
      },
      "execution_count": null,
      "outputs": []
    },
    {
      "cell_type": "code",
      "source": [
        "def scikit_bagging(k, f_train, l_train, f_test):\n",
        "  nn = BaggingClassifier()\n",
        "  nn.fit(f_train, l_train)\n",
        "  predicted_label = nn.predict(f_test)\n",
        "\n",
        "  return predicted_label"
      ],
      "metadata": {
        "id": "9L7bMCCl0tg9"
      },
      "execution_count": null,
      "outputs": []
    },
    {
      "cell_type": "code",
      "source": [
        "# Testing on Test Data\n",
        "predicted_label = scikit_bagging(1, list(train_features), train_labels, list(test_features))\n",
        "\n",
        "# Results on Test Data\n",
        "eval_res = scikit_eval(test_labels, predicted_label)\n",
        "\n",
        "print(\"Accuracy: \", eval_res[0])\n",
        "print(\"Precision: \", eval_res[1])\n",
        "print(\"Recall: \", eval_res[2])\n",
        "print(\"F1-Score: \", eval_res[3])\n",
        "print(\"Confusion Matrix\\n\")\n",
        "\n",
        "classes = [\"joejonas\", \"Nike\", \"TheOnion\", \"netflix\" , \"LFC\" , \"UNICEF\"]\n",
        "plt.figure(figsize = (10,7))\n",
        "g = sns.heatmap(eval_res[4], annot=True, cmap='coolwarm')\n",
        "g.set_xticklabels(labels = classes)\n",
        "g.set_yticklabels(labels = classes, rotation=0)\n",
        "plt.xlabel(\"Predicted Labels\", fontsize=16)\n",
        "plt.ylabel(\"True Labels\", fontsize=16)\n",
        "plt.title(\"Confusion Matrix for Test Tweets(K=1)\", fontsize=20)"
      ],
      "metadata": {
        "colab": {
          "base_uri": "https://localhost:8080/",
          "height": 595
        },
        "id": "PxX6vtgDFcnf",
        "outputId": "8f422533-1913-409f-ca00-aff434aca185"
      },
      "execution_count": null,
      "outputs": [
        {
          "output_type": "stream",
          "name": "stdout",
          "text": [
            "Accuracy:  0.7944606413994169\n",
            "Precision:  0.8180777568430768\n",
            "Recall:  0.7964433106964108\n",
            "F1-Score:  0.796579667028997\n",
            "Confusion Matrix\n",
            "\n"
          ]
        },
        {
          "output_type": "execute_result",
          "data": {
            "text/plain": [
              "Text(0.5, 1.0, 'Confusion Matrix for Test Tweets(K=1)')"
            ]
          },
          "metadata": {},
          "execution_count": 112
        },
        {
          "output_type": "display_data",
          "data": {
            "text/plain": [
              "<Figure size 720x504 with 2 Axes>"
            ],
            "image/png": "[encoded data removed]"
          },
          "metadata": {
            "needs_background": "light"
          }
        }
      ]
    },
    {
      "cell_type": "markdown",
      "source": [
        "#### Bagging Classifier for Embeddings"
      ],
      "metadata": {
        "id": "whj4fZMn4WXj"
      }
    },
    {
      "cell_type": "code",
      "source": [
        "# Seprating features and labels\n",
        "train_features = train_tweets[\"embeddings\"]\n",
        "train_labels = train_tweets[\"username\"]\n",
        "\n",
        "test_features = test_tweets[\"embeddings\"]\n",
        "test_labels = test_tweets[\"username\"]"
      ],
      "metadata": {
        "id": "TI9huUpz_Pf1"
      },
      "execution_count": null,
      "outputs": []
    },
    {
      "cell_type": "code",
      "source": [
        "def scikit_bagging(k, f_train, l_train, f_test):\n",
        "  nn = BaggingClassifier()\n",
        "  nn.fit(f_train, l_train)\n",
        "  predicted_label = nn.predict(f_test)\n",
        "\n",
        "  return predicted_label"
      ],
      "metadata": {
        "id": "ru6uSXF3H96B"
      },
      "execution_count": null,
      "outputs": []
    },
    {
      "cell_type": "code",
      "source": [
        "# Testing on Test Data\n",
        "predicted_label = scikit_bagging(1, list(train_features), train_labels, list(test_features))\n",
        "\n",
        "# Results on Test Data\n",
        "eval_res = scikit_eval(test_labels, predicted_label)\n",
        "\n",
        "print(\"Accuracy: \", eval_res[0])\n",
        "print(\"Precision: \", eval_res[1])\n",
        "print(\"Recall: \", eval_res[2])\n",
        "print(\"F1-Score: \", eval_res[3])\n",
        "print(\"Confusion Matrix\\n\")\n",
        "\n",
        "classes = [\"joejonas\", \"Nike\", \"TheOnion\", \"netflix\" , \"LFC\" , \"UNICEF\"]\n",
        "plt.figure(figsize = (10,7))\n",
        "g = sns.heatmap(eval_res[4], annot=True, cmap='coolwarm')\n",
        "g.set_xticklabels(labels = classes)\n",
        "g.set_yticklabels(labels = classes, rotation=0)\n",
        "plt.xlabel(\"Predicted Labels\", fontsize=16)\n",
        "plt.ylabel(\"True Labels\", fontsize=16)\n",
        "plt.title(\"Confusion Matrix for Test Tweets(K=1)\", fontsize=20)"
      ],
      "metadata": {
        "colab": {
          "base_uri": "https://localhost:8080/",
          "height": 595
        },
        "id": "bz50RdOMI8i4",
        "outputId": "6d4ac206-8163-42d0-c98b-339a14897d7a"
      },
      "execution_count": null,
      "outputs": [
        {
          "output_type": "stream",
          "name": "stdout",
          "text": [
            "Accuracy:  0.6771137026239067\n",
            "Precision:  0.6746964568225268\n",
            "Recall:  0.6742105756049188\n",
            "F1-Score:  0.6713118758129079\n",
            "Confusion Matrix\n",
            "\n"
          ]
        },
        {
          "output_type": "execute_result",
          "data": {
            "text/plain": [
              "Text(0.5, 1.0, 'Confusion Matrix for Test Tweets(K=1)')"
            ]
          },
          "metadata": {},
          "execution_count": 122
        },
        {
          "output_type": "display_data",
          "data": {
            "text/plain": [
              "<Figure size 720x504 with 2 Axes>"
            ],
            "image/png": "[encoded data removed]"
          },
          "metadata": {
            "needs_background": "light"
          }
        }
      ]
    },
    {
      "cell_type": "markdown",
      "source": [
        "### Random Forest Classifier for Bag of Words"
      ],
      "metadata": {
        "id": "qvMSGxZULHAA"
      }
    },
    {
      "cell_type": "code",
      "source": [
        "# Seprating features and labels\n",
        "train_features = train_tweets[\"bag_of_words\"]\n",
        "train_labels = train_tweets[\"username\"]\n",
        "\n",
        "test_features = test_tweets[\"bag_of_words\"]\n",
        "test_labels = test_tweets[\"username\"]"
      ],
      "metadata": {
        "id": "0IxW5dVbLGpN"
      },
      "execution_count": null,
      "outputs": []
    },
    {
      "cell_type": "code",
      "source": [
        "def scikit_randomforest(k, f_train, l_train, f_test):\n",
        "  nn = RandomForestClassifier()\n",
        "  nn.fit(f_train, l_train)\n",
        "  predicted_label = nn.predict(f_test)\n",
        "\n",
        "  return predicted_label"
      ],
      "metadata": {
        "id": "8X6HssUfLQNy"
      },
      "execution_count": null,
      "outputs": []
    },
    {
      "cell_type": "code",
      "source": [
        "# Testing on Test Data\n",
        "predicted_label = scikit_randomforest(1, list(train_features), train_labels, list(test_features))\n",
        "\n",
        "# Results on Test Data\n",
        "eval_res = scikit_eval(test_labels, predicted_label)\n",
        "\n",
        "print(\"Accuracy: \", eval_res[0])\n",
        "print(\"Precision: \", eval_res[1])\n",
        "print(\"Recall: \", eval_res[2])\n",
        "print(\"F1-Score: \", eval_res[3])\n",
        "print(\"Confusion Matrix\\n\")\n",
        "\n",
        "classes = [\"joejonas\", \"Nike\", \"TheOnion\", \"netflix\" , \"LFC\" , \"UNICEF\"]\n",
        "plt.figure(figsize = (10,7))\n",
        "g = sns.heatmap(eval_res[4], annot=True, cmap='coolwarm')\n",
        "g.set_xticklabels(labels = classes)\n",
        "g.set_yticklabels(labels = classes, rotation=0)\n",
        "plt.xlabel(\"Predicted Labels\", fontsize=16)\n",
        "plt.ylabel(\"True Labels\", fontsize=16)\n",
        "plt.title(\"Confusion Matrix for Test Tweets(K=1)\", fontsize=20)"
      ],
      "metadata": {
        "colab": {
          "base_uri": "https://localhost:8080/",
          "height": 595
        },
        "id": "Bacaz5qoMg4k",
        "outputId": "773a4106-c0ca-4e68-b97c-9521c0edb4ad"
      },
      "execution_count": null,
      "outputs": [
        {
          "output_type": "stream",
          "name": "stdout",
          "text": [
            "Accuracy:  0.8119533527696793\n",
            "Precision:  0.8411196927837116\n",
            "Recall:  0.8149183786419174\n",
            "F1-Score:  0.8146745657096691\n",
            "Confusion Matrix\n",
            "\n"
          ]
        },
        {
          "output_type": "execute_result",
          "data": {
            "text/plain": [
              "Text(0.5, 1.0, 'Confusion Matrix for Test Tweets(K=1)')"
            ]
          },
          "metadata": {},
          "execution_count": 140
        },
        {
          "output_type": "display_data",
          "data": {
            "text/plain": [
              "<Figure size 720x504 with 2 Axes>"
            ],
            "image/png": "[encoded data removed]"
          },
          "metadata": {
            "needs_background": "light"
          }
        }
      ]
    },
    {
      "cell_type": "markdown",
      "source": [
        "### Random Forest Classifier for Embeddings"
      ],
      "metadata": {
        "id": "cY1nr2MKMLzJ"
      }
    },
    {
      "cell_type": "code",
      "source": [
        "# Seprating features and labels\n",
        "train_features = train_tweets[\"embeddings\"]\n",
        "train_labels = train_tweets[\"username\"]\n",
        "\n",
        "test_features = test_tweets[\"embeddings\"]\n",
        "test_labels = test_tweets[\"username\"]"
      ],
      "metadata": {
        "id": "PgL7MgOTMRC0"
      },
      "execution_count": null,
      "outputs": []
    },
    {
      "cell_type": "code",
      "source": [
        "def scikit_randomforest(k, f_train, l_train, f_test):\n",
        "  nn = RandomForestClassifier()\n",
        "  nn.fit(f_train, l_train)\n",
        "  predicted_label = nn.predict(f_test)\n",
        "\n",
        "  return predicted_label"
      ],
      "metadata": {
        "id": "ssIihHX_MTbJ"
      },
      "execution_count": null,
      "outputs": []
    },
    {
      "cell_type": "code",
      "source": [
        "# Testing on Test Data\n",
        "predicted_label = scikit_randomforest(1, list(train_features), train_labels, list(test_features))\n",
        "\n",
        "# Results on Test Data\n",
        "eval_res = scikit_eval(test_labels, predicted_label)\n",
        "\n",
        "print(\"Accuracy: \", eval_res[0])\n",
        "print(\"Precision: \", eval_res[1])\n",
        "print(\"Recall: \", eval_res[2])\n",
        "print(\"F1-Score: \", eval_res[3])\n",
        "print(\"Confusion Matrix\\n\")\n",
        "\n",
        "classes = [\"joejonas\", \"Nike\", \"TheOnion\", \"netflix\" , \"LFC\" , \"UNICEF\"]\n",
        "plt.figure(figsize = (10,7))\n",
        "g = sns.heatmap(eval_res[4], annot=True, cmap='coolwarm')\n",
        "g.set_xticklabels(labels = classes)\n",
        "g.set_yticklabels(labels = classes, rotation=0)\n",
        "plt.xlabel(\"Predicted Labels\", fontsize=16)\n",
        "plt.ylabel(\"True Labels\", fontsize=16)\n",
        "plt.title(\"Confusion Matrix for Test Tweets(K=1)\", fontsize=20)"
      ],
      "metadata": {
        "colab": {
          "base_uri": "https://localhost:8080/",
          "height": 595
        },
        "id": "rGin4mSRPVgr",
        "outputId": "6460aaa6-1c20-4669-a45f-f0d368f5640e"
      },
      "execution_count": null,
      "outputs": [
        {
          "output_type": "stream",
          "name": "stdout",
          "text": [
            "Accuracy:  0.8075801749271136\n",
            "Precision:  0.8087059034226236\n",
            "Recall:  0.8082566133555321\n",
            "F1-Score:  0.80638882886991\n",
            "Confusion Matrix\n",
            "\n"
          ]
        },
        {
          "output_type": "execute_result",
          "data": {
            "text/plain": [
              "Text(0.5, 1.0, 'Confusion Matrix for Test Tweets(K=1)')"
            ]
          },
          "metadata": {},
          "execution_count": 161
        },
        {
          "output_type": "display_data",
          "data": {
            "text/plain": [
              "<Figure size 720x504 with 2 Axes>"
            ],
            "image/png": "[encoded data removed]"
          },
          "metadata": {
            "needs_background": "light"
          }
        }
      ]
    },
    {
      "cell_type": "markdown",
      "source": [
        "### AdaBoost Classifier for Bag of Words"
      ],
      "metadata": {
        "id": "mwEy9b3MQdmc"
      }
    },
    {
      "cell_type": "code",
      "source": [
        "# Seprating features and labels\n",
        "train_features = train_tweets[\"bag_of_words\"]\n",
        "train_labels = train_tweets[\"username\"]\n",
        "\n",
        "test_features = test_tweets[\"bag_of_words\"]\n",
        "test_labels = test_tweets[\"username\"]"
      ],
      "metadata": {
        "id": "KuLGfEXwQb9Q"
      },
      "execution_count": null,
      "outputs": []
    },
    {
      "cell_type": "code",
      "source": [
        "def scikit_adaboost(k, f_train, l_train, f_test):\n",
        "  nn = AdaBoostClassifier()\n",
        "  nn.fit(f_train, l_train)\n",
        "  predicted_label = nn.predict(f_test)\n",
        "\n",
        "  return predicted_label"
      ],
      "metadata": {
        "id": "zwSrWVdeQnlV"
      },
      "execution_count": null,
      "outputs": []
    },
    {
      "cell_type": "code",
      "source": [
        "# Testing on Test Data\n",
        "predicted_label = scikit_adaboost(1, list(train_features), train_labels, list(test_features))\n",
        "\n",
        "# Results on Test Data\n",
        "eval_res = scikit_eval(test_labels, predicted_label)\n",
        "\n",
        "print(\"Accuracy: \", eval_res[0])\n",
        "print(\"Precision: \", eval_res[1])\n",
        "print(\"Recall: \", eval_res[2])\n",
        "print(\"F1-Score: \", eval_res[3])\n",
        "print(\"Confusion Matrix\\n\")\n",
        "\n",
        "classes = [\"joejonas\", \"Nike\", \"TheOnion\", \"netflix\" , \"LFC\" , \"UNICEF\"]\n",
        "plt.figure(figsize = (10,7))\n",
        "g = sns.heatmap(eval_res[4], annot=True, cmap='coolwarm')\n",
        "g.set_xticklabels(labels = classes)\n",
        "g.set_yticklabels(labels = classes, rotation=0)\n",
        "plt.xlabel(\"Predicted Labels\", fontsize=16)\n",
        "plt.ylabel(\"True Labels\", fontsize=16)\n",
        "plt.title(\"Confusion Matrix for Test Tweets(K=1)\", fontsize=20)"
      ],
      "metadata": {
        "colab": {
          "base_uri": "https://localhost:8080/",
          "height": 595
        },
        "id": "auBjEuuoQpkq",
        "outputId": "1992ea32-de7a-4922-f564-45ad2b164843"
      },
      "execution_count": null,
      "outputs": [
        {
          "output_type": "stream",
          "name": "stdout",
          "text": [
            "Accuracy:  0.564868804664723\n",
            "Precision:  0.816366442198223\n",
            "Recall:  0.5744657023898894\n",
            "F1-Score:  0.5839397941173329\n",
            "Confusion Matrix\n",
            "\n"
          ]
        },
        {
          "output_type": "execute_result",
          "data": {
            "text/plain": [
              "Text(0.5, 1.0, 'Confusion Matrix for Test Tweets(K=1)')"
            ]
          },
          "metadata": {},
          "execution_count": 170
        },
        {
          "output_type": "display_data",
          "data": {
            "text/plain": [
              "<Figure size 720x504 with 2 Axes>"
            ],
            "image/png": "[encoded data removed]"
          },
          "metadata": {
            "needs_background": "light"
          }
        }
      ]
    },
    {
      "cell_type": "markdown",
      "source": [
        "### AdaBoost Classifier for Embeddings"
      ],
      "metadata": {
        "id": "MLHqlMWwTSza"
      }
    },
    {
      "cell_type": "code",
      "source": [
        "# Seprating features and labels\n",
        "train_features = train_tweets[\"embeddings\"]\n",
        "train_labels = train_tweets[\"username\"]\n",
        "\n",
        "test_features = test_tweets[\"embeddings\"]\n",
        "test_labels = test_tweets[\"username\"]"
      ],
      "metadata": {
        "id": "FqizgJXmTXh9"
      },
      "execution_count": null,
      "outputs": []
    },
    {
      "cell_type": "code",
      "source": [
        "def scikit_adaboost(k, f_train, l_train, f_test):\n",
        "  nn = AdaBoostClassifier()\n",
        "  nn.fit(f_train, l_train)\n",
        "  predicted_label = nn.predict(f_test)\n",
        "\n",
        "  return predicted_label"
      ],
      "metadata": {
        "id": "Rf94D-1VTa6f"
      },
      "execution_count": null,
      "outputs": []
    },
    {
      "cell_type": "code",
      "source": [
        "# Testing on Test Data\n",
        "predicted_label = scikit_adaboost(1, list(train_features), train_labels, list(test_features))\n",
        "\n",
        "# Results on Test Data\n",
        "eval_res = scikit_eval(test_labels, predicted_label)\n",
        "\n",
        "print(\"Accuracy: \", eval_res[0])\n",
        "print(\"Precision: \", eval_res[1])\n",
        "print(\"Recall: \", eval_res[2])\n",
        "print(\"F1-Score: \", eval_res[3])\n",
        "print(\"Confusion Matrix\\n\")\n",
        "\n",
        "classes = [\"joejonas\", \"Nike\", \"TheOnion\", \"netflix\" , \"LFC\" , \"UNICEF\"]\n",
        "plt.figure(figsize = (10,7))\n",
        "g = sns.heatmap(eval_res[4], annot=True, cmap='coolwarm')\n",
        "g.set_xticklabels(labels = classes)\n",
        "g.set_yticklabels(labels = classes, rotation=0)\n",
        "plt.xlabel(\"Predicted Labels\", fontsize=16)\n",
        "plt.ylabel(\"True Labels\", fontsize=16)\n",
        "plt.title(\"Confusion Matrix for Test Tweets(K=1)\", fontsize=20)"
      ],
      "metadata": {
        "colab": {
          "base_uri": "https://localhost:8080/",
          "height": 595
        },
        "id": "O0gKhr5oTdq6",
        "outputId": "b8636f86-da42-454d-f021-cb5a19367d6d"
      },
      "execution_count": null,
      "outputs": [
        {
          "output_type": "stream",
          "name": "stdout",
          "text": [
            "Accuracy:  0.6034985422740525\n",
            "Precision:  0.6058815088717641\n",
            "Recall:  0.5990461050935268\n",
            "F1-Score:  0.6016914463227931\n",
            "Confusion Matrix\n",
            "\n"
          ]
        },
        {
          "output_type": "execute_result",
          "data": {
            "text/plain": [
              "Text(0.5, 1.0, 'Confusion Matrix for Test Tweets(K=1)')"
            ]
          },
          "metadata": {},
          "execution_count": 181
        },
        {
          "output_type": "display_data",
          "data": {
            "text/plain": [
              "<Figure size 720x504 with 2 Axes>"
            ],
            "image/png": "[encoded data removed]"
          },
          "metadata": {
            "needs_background": "light"
          }
        }
      ]
    },
    {
      "cell_type": "markdown",
      "source": [
        "### ExtraTrees Classifier for Bag of Words"
      ],
      "metadata": {
        "id": "2Q_P8zW6T-n_"
      }
    },
    {
      "cell_type": "code",
      "source": [
        "# Seprating features and labels\n",
        "train_features = train_tweets[\"bag_of_words\"]\n",
        "train_labels = train_tweets[\"username\"]\n",
        "\n",
        "test_features = test_tweets[\"bag_of_words\"]\n",
        "test_labels = test_tweets[\"username\"]"
      ],
      "metadata": {
        "id": "OE-0ES5lUGsL"
      },
      "execution_count": null,
      "outputs": []
    },
    {
      "cell_type": "code",
      "source": [
        "def scikit_extratrees(k, f_train, l_train, f_test):\n",
        "  nn = ExtraTreesClassifier()\n",
        "  nn.fit(f_train, l_train)\n",
        "  predicted_label = nn.predict(f_test)\n",
        "\n",
        "  return predicted_label"
      ],
      "metadata": {
        "id": "oFgX3LMCUKGB"
      },
      "execution_count": null,
      "outputs": []
    },
    {
      "cell_type": "code",
      "source": [
        "# Testing on Test Data\n",
        "predicted_label = scikit_extratrees(1, list(train_features), train_labels, list(test_features))\n",
        "\n",
        "# Results on Test Data\n",
        "eval_res = scikit_eval(test_labels, predicted_label)\n",
        "\n",
        "print(\"Accuracy: \", eval_res[0])\n",
        "print(\"Precision: \", eval_res[1])\n",
        "print(\"Recall: \", eval_res[2])\n",
        "print(\"F1-Score: \", eval_res[3])\n",
        "print(\"Confusion Matrix\\n\")\n",
        "\n",
        "classes = [\"joejonas\", \"Nike\", \"TheOnion\", \"netflix\" , \"LFC\" , \"UNICEF\"]\n",
        "plt.figure(figsize = (10,7))\n",
        "g = sns.heatmap(eval_res[4], annot=True, cmap='coolwarm')\n",
        "g.set_xticklabels(labels = classes)\n",
        "g.set_yticklabels(labels = classes, rotation=0)\n",
        "plt.xlabel(\"Predicted Labels\", fontsize=16)\n",
        "plt.ylabel(\"True Labels\", fontsize=16)\n",
        "plt.title(\"Confusion Matrix for Test Tweets(K=1)\", fontsize=20)"
      ],
      "metadata": {
        "colab": {
          "base_uri": "https://localhost:8080/",
          "height": 595
        },
        "id": "gotm9-qfUNQ6",
        "outputId": "2219f251-8479-4fb7-cb99-8ea0d0c5337c"
      },
      "execution_count": null,
      "outputs": [
        {
          "output_type": "stream",
          "name": "stdout",
          "text": [
            "Accuracy:  0.8228862973760933\n",
            "Precision:  0.8409102387133779\n",
            "Recall:  0.8246045971494501\n",
            "F1-Score:  0.8235723667997834\n",
            "Confusion Matrix\n",
            "\n"
          ]
        },
        {
          "output_type": "execute_result",
          "data": {
            "text/plain": [
              "Text(0.5, 1.0, 'Confusion Matrix for Test Tweets(K=1)')"
            ]
          },
          "metadata": {},
          "execution_count": 190
        },
        {
          "output_type": "display_data",
          "data": {
            "text/plain": [
              "<Figure size 720x504 with 2 Axes>"
            ],
            "image/png": "[encoded data removed]"
          },
          "metadata": {
            "needs_background": "light"
          }
        }
      ]
    },
    {
      "cell_type": "markdown",
      "source": [
        "### ExtraTrees Classifier for Embeddings"
      ],
      "metadata": {
        "id": "5Yk5VSCnXsc5"
      }
    },
    {
      "cell_type": "code",
      "source": [
        "# Seprating features and labels\n",
        "train_features = train_tweets[\"embeddings\"]\n",
        "train_labels = train_tweets[\"username\"]\n",
        "\n",
        "test_features = test_tweets[\"embeddings\"]\n",
        "test_labels = test_tweets[\"username\"]"
      ],
      "metadata": {
        "id": "XBGiMb0mX5Qc"
      },
      "execution_count": null,
      "outputs": []
    },
    {
      "cell_type": "code",
      "source": [
        "def scikit_extratrees(k, f_train, l_train, f_test):\n",
        "  nn = ExtraTreesClassifier()\n",
        "  nn.fit(f_train, l_train)\n",
        "  predicted_label = nn.predict(f_test)\n",
        "\n",
        "  return predicted_label"
      ],
      "metadata": {
        "id": "Z7nU-ogHYBod"
      },
      "execution_count": null,
      "outputs": []
    },
    {
      "cell_type": "code",
      "source": [
        "# Testing on Test Data\n",
        "predicted_label = scikit_extratrees(1, list(train_features), train_labels, list(test_features))\n",
        "\n",
        "# Results on Test Data\n",
        "eval_res = scikit_eval(test_labels, predicted_label)\n",
        "\n",
        "print(\"Accuracy: \", eval_res[0])\n",
        "print(\"Precision: \", eval_res[1])\n",
        "print(\"Recall: \", eval_res[2])\n",
        "print(\"F1-Score: \", eval_res[3])\n",
        "print(\"Confusion Matrix\\n\")\n",
        "\n",
        "classes = [\"joejonas\", \"Nike\", \"TheOnion\", \"netflix\" , \"LFC\" , \"UNICEF\"]\n",
        "plt.figure(figsize = (10,7))\n",
        "g = sns.heatmap(eval_res[4], annot=True, cmap='coolwarm')\n",
        "g.set_xticklabels(labels = classes)\n",
        "g.set_yticklabels(labels = classes, rotation=0)\n",
        "plt.xlabel(\"Predicted Labels\", fontsize=16)\n",
        "plt.ylabel(\"True Labels\", fontsize=16)\n",
        "plt.title(\"Confusion Matrix for Test Tweets(K=1)\", fontsize=20)"
      ],
      "metadata": {
        "colab": {
          "base_uri": "https://localhost:8080/",
          "height": 595
        },
        "id": "UZXdLIsNYhB7",
        "outputId": "973903b1-d8c2-4cba-fb07-9ecc921fbadc"
      },
      "execution_count": null,
      "outputs": [
        {
          "output_type": "stream",
          "name": "stdout",
          "text": [
            "Accuracy:  0.8090379008746356\n",
            "Precision:  0.8095649691539943\n",
            "Recall:  0.8083674535812283\n",
            "F1-Score:  0.8067467755414764\n",
            "Confusion Matrix\n",
            "\n"
          ]
        },
        {
          "output_type": "execute_result",
          "data": {
            "text/plain": [
              "Text(0.5, 1.0, 'Confusion Matrix for Test Tweets(K=1)')"
            ]
          },
          "metadata": {},
          "execution_count": 203
        },
        {
          "output_type": "display_data",
          "data": {
            "text/plain": [
              "<Figure size 720x504 with 2 Axes>"
            ],
            "image/png": "[encoded data removed]"
          },
          "metadata": {
            "needs_background": "light"
          }
        }
      ]
    },
    {
      "cell_type": "markdown",
      "source": [
        "### Voting Classifier for Bag of Words"
      ],
      "metadata": {
        "id": "bO_tIQTCZJQa"
      }
    },
    {
      "cell_type": "code",
      "source": [
        "# Seprating features and labels\n",
        "train_features = train_tweets[\"bag_of_words\"]\n",
        "train_labels = train_tweets[\"username\"]\n",
        "\n",
        "test_features = test_tweets[\"bag_of_words\"]\n",
        "test_labels = test_tweets[\"username\"]"
      ],
      "metadata": {
        "id": "St3aNLizZQ7U"
      },
      "execution_count": null,
      "outputs": []
    },
    {
      "cell_type": "code",
      "source": [
        "def scikit_voting(k, f_train, l_train, f_test, classifiers):\n",
        "  nn = VotingClassifier(estimators=classifiers)\n",
        "  nn.fit(f_train, l_train)\n",
        "  predicted_label = nn.predict(f_test)\n",
        "\n",
        "  return predicted_label"
      ],
      "metadata": {
        "id": "AxPPrbjSZWTw"
      },
      "execution_count": null,
      "outputs": []
    },
    {
      "cell_type": "code",
      "source": [
        "lr = LogisticRegression(random_state=1)\n",
        "\n",
        "knn = KNeighborsClassifier(n_neighbors=3)\n",
        "\n",
        "dt = DecisionTreeClassifier(min_samples_leaf=0.1, random_state=1)\n",
        "\n",
        "classifiers = [('Logistic Regression', lr), ('K Nearest Neighbours', knn), ('Classification Tree', dt)]"
      ],
      "metadata": {
        "id": "kxc7uuo0jqv-"
      },
      "execution_count": null,
      "outputs": []
    },
    {
      "cell_type": "code",
      "source": [
        "# Testing on Test Data\n",
        "predicted_label = scikit_voting(1, list(train_features), train_labels, list(test_features), classifiers)\n",
        "\n",
        "# Results on Test Data\n",
        "eval_res = scikit_eval(test_labels, predicted_label)\n",
        "\n",
        "print(\"Accuracy: \", eval_res[0])\n",
        "print(\"Precision: \", eval_res[1])\n",
        "print(\"Recall: \", eval_res[2])\n",
        "print(\"F1-Score: \", eval_res[3])\n",
        "print(\"Confusion Matrix\\n\")\n",
        "\n",
        "classes = [\"joejonas\", \"Nike\", \"TheOnion\", \"netflix\" , \"LFC\" , \"UNICEF\"]\n",
        "plt.figure(figsize = (10,7))\n",
        "g = sns.heatmap(eval_res[4], annot=True, cmap='coolwarm')\n",
        "g.set_xticklabels(labels = classes)\n",
        "g.set_yticklabels(labels = classes, rotation=0)\n",
        "plt.xlabel(\"Predicted Labels\", fontsize=16)\n",
        "plt.ylabel(\"True Labels\", fontsize=16)\n",
        "plt.title(\"Confusion Matrix for Test Tweets(K=1)\", fontsize=20)"
      ],
      "metadata": {
        "colab": {
          "base_uri": "https://localhost:8080/",
          "height": 595
        },
        "id": "JDKkdjVKgEJ3",
        "outputId": "b5cbd611-7788-4f9e-bc29-366b4b1ded8c"
      },
      "execution_count": null,
      "outputs": [
        {
          "output_type": "stream",
          "name": "stdout",
          "text": [
            "Accuracy:  0.771865889212828\n",
            "Precision:  0.7961849504497684\n",
            "Recall:  0.7713332370543146\n",
            "F1-Score:  0.7700062044919797\n",
            "Confusion Matrix\n",
            "\n"
          ]
        },
        {
          "output_type": "execute_result",
          "data": {
            "text/plain": [
              "Text(0.5, 1.0, 'Confusion Matrix for Test Tweets(K=1)')"
            ]
          },
          "metadata": {},
          "execution_count": 243
        },
        {
          "output_type": "display_data",
          "data": {
            "text/plain": [
              "<Figure size 720x504 with 2 Axes>"
            ],
            "image/png": "[encoded data removed]"
          },
          "metadata": {
            "needs_background": "light"
          }
        }
      ]
    },
    {
      "cell_type": "markdown",
      "source": [
        "### Voting Classifier for Embeddings"
      ],
      "metadata": {
        "id": "VZnsj37Dm-Ti"
      }
    },
    {
      "cell_type": "code",
      "source": [
        "# Seprating features and labels\n",
        "train_features = train_tweets[\"embeddings\"]\n",
        "train_labels = train_tweets[\"username\"]\n",
        "\n",
        "test_features = test_tweets[\"embeddings\"]\n",
        "test_labels = test_tweets[\"username\"]"
      ],
      "metadata": {
        "id": "UxG0uR1AnF9g"
      },
      "execution_count": null,
      "outputs": []
    },
    {
      "cell_type": "code",
      "source": [
        "def scikit_voting(k, f_train, l_train, f_test, classifiers):\n",
        "  nn = VotingClassifier(estimators=classifiers)\n",
        "  nn.fit(f_train, l_train)\n",
        "  predicted_label = nn.predict(f_test)\n",
        "\n",
        "  return predicted_label"
      ],
      "metadata": {
        "id": "GMDgju1GnI2t"
      },
      "execution_count": null,
      "outputs": []
    },
    {
      "cell_type": "code",
      "source": [
        "lr = LogisticRegression(random_state=1)\n",
        "\n",
        "knn = KNeighborsClassifier(n_neighbors=3)\n",
        "\n",
        "dt = DecisionTreeClassifier(min_samples_leaf=0.1, random_state=1)\n",
        "\n",
        "classifiers = [('Logistic Regression', lr), ('K Nearest Neighbours', knn), ('Classification Tree', dt)]"
      ],
      "metadata": {
        "id": "-Ke2MRrenLua"
      },
      "execution_count": null,
      "outputs": []
    },
    {
      "cell_type": "code",
      "source": [
        "# Testing on Test Data\n",
        "predicted_label = scikit_voting(1, list(train_features), train_labels, list(test_features), classifiers)\n",
        "\n",
        "# Results on Test Data\n",
        "eval_res = scikit_eval(test_labels, predicted_label)\n",
        "\n",
        "print(\"Accuracy: \", eval_res[0])\n",
        "print(\"Precision: \", eval_res[1])\n",
        "print(\"Recall: \", eval_res[2])\n",
        "print(\"F1-Score: \", eval_res[3])\n",
        "print(\"Confusion Matrix\\n\")\n",
        "\n",
        "classes = [\"joejonas\", \"Nike\", \"TheOnion\", \"netflix\" , \"LFC\" , \"UNICEF\"]\n",
        "plt.figure(figsize = (10,7))\n",
        "g = sns.heatmap(eval_res[4], annot=True, cmap='coolwarm')\n",
        "g.set_xticklabels(labels = classes)\n",
        "g.set_yticklabels(labels = classes, rotation=0)\n",
        "plt.xlabel(\"Predicted Labels\", fontsize=16)\n",
        "plt.ylabel(\"True Labels\", fontsize=16)\n",
        "plt.title(\"Confusion Matrix for Test Tweets(K=1)\", fontsize=20)"
      ],
      "metadata": {
        "colab": {
          "base_uri": "https://localhost:8080/",
          "height": 595
        },
        "id": "pID-R71InNnf",
        "outputId": "35048413-2d59-42f0-c920-3b6988743b2a"
      },
      "execution_count": null,
      "outputs": [
        {
          "output_type": "stream",
          "name": "stdout",
          "text": [
            "Accuracy:  0.8294460641399417\n",
            "Precision:  0.8371780196494015\n",
            "Recall:  0.8268684344783143\n",
            "F1-Score:  0.8267343490229296\n",
            "Confusion Matrix\n",
            "\n"
          ]
        },
        {
          "output_type": "execute_result",
          "data": {
            "text/plain": [
              "Text(0.5, 1.0, 'Confusion Matrix for Test Tweets(K=1)')"
            ]
          },
          "metadata": {},
          "execution_count": 253
        },
        {
          "output_type": "display_data",
          "data": {
            "text/plain": [
              "<Figure size 720x504 with 2 Axes>"
            ],
            "image/png": "[encoded data removed]"
          },
          "metadata": {
            "needs_background": "light"
          }
        }
      ]
    },
    {
      "cell_type": "markdown",
      "source": [
        "# Task 5: Theoretical Understanding"
      ],
      "metadata": {
        "id": "GxLvZFcR57PJ"
      }
    },
    {
      "cell_type": "markdown",
      "source": [
        "#### Q1. Which model performed best and why do you think that is?"
      ],
      "metadata": {
        "id": "8yLvjFoL6G_U"
      }
    },
    {
      "cell_type": "markdown",
      "source": [
        "#### Ans: Neural Networks performed best for our dataset, and this is because neural networks are much more powerful than other classifiers because like other classifiers neural networks can have more powerful decision boundary. Neural Networks don’t consider any relationship between the words because there is none in the bag of words we are using. As there is no relationship between words in bag of words, a classifier that considers it, KNN, will perform worse than a model like Neural Networks that doesn’t consider it."
      ],
      "metadata": {
        "id": "6tNsiyxK6Rr3"
      }
    },
    {
      "cell_type": "markdown",
      "source": [
        "#### Q2. Which features gave better results for each model? Explain."
      ],
      "metadata": {
        "id": "WV4DtPAU6Wot"
      }
    },
    {
      "cell_type": "markdown",
      "source": [
        "#### Ans: Embeddings were better than bag of words on average and this is because the presence of context implies that embeddings have an advantage over the normal features based on simple counts, since our features supply a higher quality input, and thus our models will perform better as a result of the denser and relevant information they encode."
      ],
      "metadata": {
        "id": "Aw1x3gjc6drt"
      }
    },
    {
      "cell_type": "markdown",
      "source": [
        "#### Q3. What effect would increasing the classes to 150 have?"
      ],
      "metadata": {
        "id": "kCY0MRcF6k0b"
      }
    },
    {
      "cell_type": "markdown",
      "source": [
        "#### Ans: Accuracy and F1 score will fall overall. This is because the data is 1000 tweets per class for now and if the classes are increased, 1000 tweets per class account for less as a percentage of the whole dataset. So, more classes mean less data for each class as compared to the whole leading to increased inaccuracy."
      ],
      "metadata": {
        "id": "z-bUcxbk6oNU"
      }
    },
    {
      "cell_type": "markdown",
      "source": [
        "#### Q4. Suggest improvements to text preparation, feature extraction, and models that can be made to perform this task better."
      ],
      "metadata": {
        "id": "WSO_aElO6tWp"
      }
    },
    {
      "cell_type": "markdown",
      "source": [
        "#### Ans: We could utilize the nltk library for data pre-processing and data preparation along with keeping the hashtags, mentions, and emojis in the tweets since they are highly utilized in most tweets nowadays and can help with authorship attribution. Furthermore, a grid search utilizing multiple parameters, along with not removing stopwords can be implemented. Lastly, we could use a Naïve Bayes Classifier model too for our dataset since it works very well on textual data and can perform well with authorship attribution."
      ],
      "metadata": {
        "id": "SJfnBXyU6xHR"
      }
    },
    {
      "cell_type": "markdown",
      "source": [
        "#### Q5. What - in your understanding - are the applications of authorship attribution?"
      ],
      "metadata": {
        "id": "b9qTjjoQ61he"
      }
    },
    {
      "cell_type": "markdown",
      "source": [
        "#### Ans: Authorship attribution can help us determine whether a piece of text can belong to an author or not. This can be useful in cases such as whether a person can write those words or not, in cases of checking plagiarism, in criminal investigations, and can also have financial and legal uses"
      ],
      "metadata": {
        "id": "z928mnJh64sH"
      }
    }
  ],
  "metadata": {
    "kernelspec": {
      "display_name": "Python 3.7.9 64-bit",
      "language": "python",
      "name": "python3"
    },
    "language_info": {
      "codemirror_mode": {
        "name": "ipython",
        "version": 3
      },
      "file_extension": ".py",
      "mimetype": "text/x-python",
      "name": "python",
      "nbconvert_exporter": "python",
      "pygments_lexer": "ipython3",
      "version": "3.7.9"
    },
    "orig_nbformat": 4,
    "vscode": {
      "interpreter": {
        "hash": "22e95cd3678e063cdedaf82c3aa0540e84e4c23883a727de40329b8925521681"
      }
    },
    "colab": {
      "provenance": []
    },
    "widgets": {
      "application/vnd.jupyter.widget-state+json": {
        "77f49a2bce9e4cc0b6d5c4ec959c1b9d": {
          "model_module": "@jupyter-widgets/controls",
          "model_name": "HBoxModel",
          "model_module_version": "1.5.0",
          "state": {
            "_dom_classes": [],
            "_model_module": "@jupyter-widgets/controls",
            "_model_module_version": "1.5.0",
            "_model_name": "HBoxModel",
            "_view_count": null,
            "_view_module": "@jupyter-widgets/controls",
            "_view_module_version": "1.5.0",
            "_view_name": "HBoxView",
            "box_style": "",
            "children": [
              "IPY_MODEL_5745093969374f97a864ae81e492a8e1",
              "IPY_MODEL_5bea1fbbd80b41d7a09f92d1c161fac9",
              "IPY_MODEL_bbe51f1af94849f5b84ee9ffca525c79"
            ],
            "layout": "IPY_MODEL_6dab369dde60425bbb65fc19295e4f0c"
          }
        },
        "5745093969374f97a864ae81e492a8e1": {
          "model_module": "@jupyter-widgets/controls",
          "model_name": "HTMLModel",
          "model_module_version": "1.5.0",
          "state": {
            "_dom_classes": [],
            "_model_module": "@jupyter-widgets/controls",
            "_model_module_version": "1.5.0",
            "_model_name": "HTMLModel",
            "_view_count": null,
            "_view_module": "@jupyter-widgets/controls",
            "_view_module_version": "1.5.0",
            "_view_name": "HTMLView",
            "description": "",
            "description_tooltip": null,
            "layout": "IPY_MODEL_8a127b5a2b6e4f06b4d78a71b2b597df",
            "placeholder": "​",
            "style": "IPY_MODEL_09a47dadcae94bbc8c6a826f5f2bba5a",
            "value": "Downloading: 100%"
          }
        },
        "5bea1fbbd80b41d7a09f92d1c161fac9": {
          "model_module": "@jupyter-widgets/controls",
          "model_name": "FloatProgressModel",
          "model_module_version": "1.5.0",
          "state": {
            "_dom_classes": [],
            "_model_module": "@jupyter-widgets/controls",
            "_model_module_version": "1.5.0",
            "_model_name": "FloatProgressModel",
            "_view_count": null,
            "_view_module": "@jupyter-widgets/controls",
            "_view_module_version": "1.5.0",
            "_view_name": "ProgressView",
            "bar_style": "success",
            "description": "",
            "description_tooltip": null,
            "layout": "IPY_MODEL_5dfc5e6ab52c4d888ad7fe5d3aee23ba",
            "max": 1175,
            "min": 0,
            "orientation": "horizontal",
            "style": "IPY_MODEL_594427aa9281409c9ba2465d4c63896f",
            "value": 1175
          }
        },
        "bbe51f1af94849f5b84ee9ffca525c79": {
          "model_module": "@jupyter-widgets/controls",
          "model_name": "HTMLModel",
          "model_module_version": "1.5.0",
          "state": {
            "_dom_classes": [],
            "_model_module": "@jupyter-widgets/controls",
            "_model_module_version": "1.5.0",
            "_model_name": "HTMLModel",
            "_view_count": null,
            "_view_module": "@jupyter-widgets/controls",
            "_view_module_version": "1.5.0",
            "_view_name": "HTMLView",
            "description": "",
            "description_tooltip": null,
            "layout": "IPY_MODEL_83e482b923cb44a59f34f8ebdcc79f2b",
            "placeholder": "​",
            "style": "IPY_MODEL_b12e5a9f726843fda651e416f7e0be3a",
            "value": " 1.18k/1.18k [00:00&lt;00:00, 30.7kB/s]"
          }
        },
        "6dab369dde60425bbb65fc19295e4f0c": {
          "model_module": "@jupyter-widgets/base",
          "model_name": "LayoutModel",
          "model_module_version": "1.2.0",
          "state": {
            "_model_module": "@jupyter-widgets/base",
            "_model_module_version": "1.2.0",
            "_model_name": "LayoutModel",
            "_view_count": null,
            "_view_module": "@jupyter-widgets/base",
            "_view_module_version": "1.2.0",
            "_view_name": "LayoutView",
            "align_content": null,
            "align_items": null,
            "align_self": null,
            "border": null,
            "bottom": null,
            "display": null,
            "flex": null,
            "flex_flow": null,
            "grid_area": null,
            "grid_auto_columns": null,
            "grid_auto_flow": null,
            "grid_auto_rows": null,
            "grid_column": null,
            "grid_gap": null,
            "grid_row": null,
            "grid_template_areas": null,
            "grid_template_columns": null,
            "grid_template_rows": null,
            "height": null,
            "justify_content": null,
            "justify_items": null,
            "left": null,
            "margin": null,
            "max_height": null,
            "max_width": null,
            "min_height": null,
            "min_width": null,
            "object_fit": null,
            "object_position": null,
            "order": null,
            "overflow": null,
            "overflow_x": null,
            "overflow_y": null,
            "padding": null,
            "right": null,
            "top": null,
            "visibility": null,
            "width": null
          }
        },
        "8a127b5a2b6e4f06b4d78a71b2b597df": {
          "model_module": "@jupyter-widgets/base",
          "model_name": "LayoutModel",
          "model_module_version": "1.2.0",
          "state": {
            "_model_module": "@jupyter-widgets/base",
            "_model_module_version": "1.2.0",
            "_model_name": "LayoutModel",
            "_view_count": null,
            "_view_module": "@jupyter-widgets/base",
            "_view_module_version": "1.2.0",
            "_view_name": "LayoutView",
            "align_content": null,
            "align_items": null,
            "align_self": null,
            "border": null,
            "bottom": null,
            "display": null,
            "flex": null,
            "flex_flow": null,
            "grid_area": null,
            "grid_auto_columns": null,
            "grid_auto_flow": null,
            "grid_auto_rows": null,
            "grid_column": null,
            "grid_gap": null,
            "grid_row": null,
            "grid_template_areas": null,
            "grid_template_columns": null,
            "grid_template_rows": null,
            "height": null,
            "justify_content": null,
            "justify_items": null,
            "left": null,
            "margin": null,
            "max_height": null,
            "max_width": null,
            "min_height": null,
            "min_width": null,
            "object_fit": null,
            "object_position": null,
            "order": null,
            "overflow": null,
            "overflow_x": null,
            "overflow_y": null,
            "padding": null,
            "right": null,
            "top": null,
            "visibility": null,
            "width": null
          }
        },
        "09a47dadcae94bbc8c6a826f5f2bba5a": {
          "model_module": "@jupyter-widgets/controls",
          "model_name": "DescriptionStyleModel",
          "model_module_version": "1.5.0",
          "state": {
            "_model_module": "@jupyter-widgets/controls",
            "_model_module_version": "1.5.0",
            "_model_name": "DescriptionStyleModel",
            "_view_count": null,
            "_view_module": "@jupyter-widgets/base",
            "_view_module_version": "1.2.0",
            "_view_name": "StyleView",
            "description_width": ""
          }
        },
        "5dfc5e6ab52c4d888ad7fe5d3aee23ba": {
          "model_module": "@jupyter-widgets/base",
          "model_name": "LayoutModel",
          "model_module_version": "1.2.0",
          "state": {
            "_model_module": "@jupyter-widgets/base",
            "_model_module_version": "1.2.0",
            "_model_name": "LayoutModel",
            "_view_count": null,
            "_view_module": "@jupyter-widgets/base",
            "_view_module_version": "1.2.0",
            "_view_name": "LayoutView",
            "align_content": null,
            "align_items": null,
            "align_self": null,
            "border": null,
            "bottom": null,
            "display": null,
            "flex": null,
            "flex_flow": null,
            "grid_area": null,
            "grid_auto_columns": null,
            "grid_auto_flow": null,
            "grid_auto_rows": null,
            "grid_column": null,
            "grid_gap": null,
            "grid_row": null,
            "grid_template_areas": null,
            "grid_template_columns": null,
            "grid_template_rows": null,
            "height": null,
            "justify_content": null,
            "justify_items": null,
            "left": null,
            "margin": null,
            "max_height": null,
            "max_width": null,
            "min_height": null,
            "min_width": null,
            "object_fit": null,
            "object_position": null,
            "order": null,
            "overflow": null,
            "overflow_x": null,
            "overflow_y": null,
            "padding": null,
            "right": null,
            "top": null,
            "visibility": null,
            "width": null
          }
        },
        "594427aa9281409c9ba2465d4c63896f": {
          "model_module": "@jupyter-widgets/controls",
          "model_name": "ProgressStyleModel",
          "model_module_version": "1.5.0",
          "state": {
            "_model_module": "@jupyter-widgets/controls",
            "_model_module_version": "1.5.0",
            "_model_name": "ProgressStyleModel",
            "_view_count": null,
            "_view_module": "@jupyter-widgets/base",
            "_view_module_version": "1.2.0",
            "_view_name": "StyleView",
            "bar_color": null,
            "description_width": ""
          }
        },
        "83e482b923cb44a59f34f8ebdcc79f2b": {
          "model_module": "@jupyter-widgets/base",
          "model_name": "LayoutModel",
          "model_module_version": "1.2.0",
          "state": {
            "_model_module": "@jupyter-widgets/base",
            "_model_module_version": "1.2.0",
            "_model_name": "LayoutModel",
            "_view_count": null,
            "_view_module": "@jupyter-widgets/base",
            "_view_module_version": "1.2.0",
            "_view_name": "LayoutView",
            "align_content": null,
            "align_items": null,
            "align_self": null,
            "border": null,
            "bottom": null,
            "display": null,
            "flex": null,
            "flex_flow": null,
            "grid_area": null,
            "grid_auto_columns": null,
            "grid_auto_flow": null,
            "grid_auto_rows": null,
            "grid_column": null,
            "grid_gap": null,
            "grid_row": null,
            "grid_template_areas": null,
            "grid_template_columns": null,
            "grid_template_rows": null,
            "height": null,
            "justify_content": null,
            "justify_items": null,
            "left": null,
            "margin": null,
            "max_height": null,
            "max_width": null,
            "min_height": null,
            "min_width": null,
            "object_fit": null,
            "object_position": null,
            "order": null,
            "overflow": null,
            "overflow_x": null,
            "overflow_y": null,
            "padding": null,
            "right": null,
            "top": null,
            "visibility": null,
            "width": null
          }
        },
        "b12e5a9f726843fda651e416f7e0be3a": {
          "model_module": "@jupyter-widgets/controls",
          "model_name": "DescriptionStyleModel",
          "model_module_version": "1.5.0",
          "state": {
            "_model_module": "@jupyter-widgets/controls",
            "_model_module_version": "1.5.0",
            "_model_name": "DescriptionStyleModel",
            "_view_count": null,
            "_view_module": "@jupyter-widgets/base",
            "_view_module_version": "1.2.0",
            "_view_name": "StyleView",
            "description_width": ""
          }
        },
        "310604e6eb364a0fb428676bbcb2870a": {
          "model_module": "@jupyter-widgets/controls",
          "model_name": "HBoxModel",
          "model_module_version": "1.5.0",
          "state": {
            "_dom_classes": [],
            "_model_module": "@jupyter-widgets/controls",
            "_model_module_version": "1.5.0",
            "_model_name": "HBoxModel",
            "_view_count": null,
            "_view_module": "@jupyter-widgets/controls",
            "_view_module_version": "1.5.0",
            "_view_name": "HBoxView",
            "box_style": "",
            "children": [
              "IPY_MODEL_31b8193357da4e95b9196086d482a6ac",
              "IPY_MODEL_7288a49bf84d49ff8ca399584a93f6b7",
              "IPY_MODEL_44a970dd8c6d4ce08bf727beb9a44999"
            ],
            "layout": "IPY_MODEL_ae3b1b84fb6f4ec7ba62a461b1a223ce"
          }
        },
        "31b8193357da4e95b9196086d482a6ac": {
          "model_module": "@jupyter-widgets/controls",
          "model_name": "HTMLModel",
          "model_module_version": "1.5.0",
          "state": {
            "_dom_classes": [],
            "_model_module": "@jupyter-widgets/controls",
            "_model_module_version": "1.5.0",
            "_model_name": "HTMLModel",
            "_view_count": null,
            "_view_module": "@jupyter-widgets/controls",
            "_view_module_version": "1.5.0",
            "_view_name": "HTMLView",
            "description": "",
            "description_tooltip": null,
            "layout": "IPY_MODEL_a9fba923ebe4405f8fe84853068130c9",
            "placeholder": "​",
            "style": "IPY_MODEL_38e5e1c8ab144d4db749d94308be7b5d",
            "value": "Downloading: 100%"
          }
        },
        "7288a49bf84d49ff8ca399584a93f6b7": {
          "model_module": "@jupyter-widgets/controls",
          "model_name": "FloatProgressModel",
          "model_module_version": "1.5.0",
          "state": {
            "_dom_classes": [],
            "_model_module": "@jupyter-widgets/controls",
            "_model_module_version": "1.5.0",
            "_model_name": "FloatProgressModel",
            "_view_count": null,
            "_view_module": "@jupyter-widgets/controls",
            "_view_module_version": "1.5.0",
            "_view_name": "ProgressView",
            "bar_style": "success",
            "description": "",
            "description_tooltip": null,
            "layout": "IPY_MODEL_125ede623ebc447c8dade5c5a1dafde1",
            "max": 190,
            "min": 0,
            "orientation": "horizontal",
            "style": "IPY_MODEL_9e442d864bab4fadb40e2796b7ce7d9b",
            "value": 190
          }
        },
        "44a970dd8c6d4ce08bf727beb9a44999": {
          "model_module": "@jupyter-widgets/controls",
          "model_name": "HTMLModel",
          "model_module_version": "1.5.0",
          "state": {
            "_dom_classes": [],
            "_model_module": "@jupyter-widgets/controls",
            "_model_module_version": "1.5.0",
            "_model_name": "HTMLModel",
            "_view_count": null,
            "_view_module": "@jupyter-widgets/controls",
            "_view_module_version": "1.5.0",
            "_view_name": "HTMLView",
            "description": "",
            "description_tooltip": null,
            "layout": "IPY_MODEL_2b9568e752cc47dabacc625b3e776de0",
            "placeholder": "​",
            "style": "IPY_MODEL_9738232e12bb46c7acecc3db119bdad7",
            "value": " 190/190 [00:00&lt;00:00, 4.87kB/s]"
          }
        },
        "ae3b1b84fb6f4ec7ba62a461b1a223ce": {
          "model_module": "@jupyter-widgets/base",
          "model_name": "LayoutModel",
          "model_module_version": "1.2.0",
          "state": {
            "_model_module": "@jupyter-widgets/base",
            "_model_module_version": "1.2.0",
            "_model_name": "LayoutModel",
            "_view_count": null,
            "_view_module": "@jupyter-widgets/base",
            "_view_module_version": "1.2.0",
            "_view_name": "LayoutView",
            "align_content": null,
            "align_items": null,
            "align_self": null,
            "border": null,
            "bottom": null,
            "display": null,
            "flex": null,
            "flex_flow": null,
            "grid_area": null,
            "grid_auto_columns": null,
            "grid_auto_flow": null,
            "grid_auto_rows": null,
            "grid_column": null,
            "grid_gap": null,
            "grid_row": null,
            "grid_template_areas": null,
            "grid_template_columns": null,
            "grid_template_rows": null,
            "height": null,
            "justify_content": null,
            "justify_items": null,
            "left": null,
            "margin": null,
            "max_height": null,
            "max_width": null,
            "min_height": null,
            "min_width": null,
            "object_fit": null,
            "object_position": null,
            "order": null,
            "overflow": null,
            "overflow_x": null,
            "overflow_y": null,
            "padding": null,
            "right": null,
            "top": null,
            "visibility": null,
            "width": null
          }
        },
        "a9fba923ebe4405f8fe84853068130c9": {
          "model_module": "@jupyter-widgets/base",
          "model_name": "LayoutModel",
          "model_module_version": "1.2.0",
          "state": {
            "_model_module": "@jupyter-widgets/base",
            "_model_module_version": "1.2.0",
            "_model_name": "LayoutModel",
            "_view_count": null,
            "_view_module": "@jupyter-widgets/base",
            "_view_module_version": "1.2.0",
            "_view_name": "LayoutView",
            "align_content": null,
            "align_items": null,
            "align_self": null,
            "border": null,
            "bottom": null,
            "display": null,
            "flex": null,
            "flex_flow": null,
            "grid_area": null,
            "grid_auto_columns": null,
            "grid_auto_flow": null,
            "grid_auto_rows": null,
            "grid_column": null,
            "grid_gap": null,
            "grid_row": null,
            "grid_template_areas": null,
            "grid_template_columns": null,
            "grid_template_rows": null,
            "height": null,
            "justify_content": null,
            "justify_items": null,
            "left": null,
            "margin": null,
            "max_height": null,
            "max_width": null,
            "min_height": null,
            "min_width": null,
            "object_fit": null,
            "object_position": null,
            "order": null,
            "overflow": null,
            "overflow_x": null,
            "overflow_y": null,
            "padding": null,
            "right": null,
            "top": null,
            "visibility": null,
            "width": null
          }
        },
        "38e5e1c8ab144d4db749d94308be7b5d": {
          "model_module": "@jupyter-widgets/controls",
          "model_name": "DescriptionStyleModel",
          "model_module_version": "1.5.0",
          "state": {
            "_model_module": "@jupyter-widgets/controls",
            "_model_module_version": "1.5.0",
            "_model_name": "DescriptionStyleModel",
            "_view_count": null,
            "_view_module": "@jupyter-widgets/base",
            "_view_module_version": "1.2.0",
            "_view_name": "StyleView",
            "description_width": ""
          }
        },
        "125ede623ebc447c8dade5c5a1dafde1": {
          "model_module": "@jupyter-widgets/base",
          "model_name": "LayoutModel",
          "model_module_version": "1.2.0",
          "state": {
            "_model_module": "@jupyter-widgets/base",
            "_model_module_version": "1.2.0",
            "_model_name": "LayoutModel",
            "_view_count": null,
            "_view_module": "@jupyter-widgets/base",
            "_view_module_version": "1.2.0",
            "_view_name": "LayoutView",
            "align_content": null,
            "align_items": null,
            "align_self": null,
            "border": null,
            "bottom": null,
            "display": null,
            "flex": null,
            "flex_flow": null,
            "grid_area": null,
            "grid_auto_columns": null,
            "grid_auto_flow": null,
            "grid_auto_rows": null,
            "grid_column": null,
            "grid_gap": null,
            "grid_row": null,
            "grid_template_areas": null,
            "grid_template_columns": null,
            "grid_template_rows": null,
            "height": null,
            "justify_content": null,
            "justify_items": null,
            "left": null,
            "margin": null,
            "max_height": null,
            "max_width": null,
            "min_height": null,
            "min_width": null,
            "object_fit": null,
            "object_position": null,
            "order": null,
            "overflow": null,
            "overflow_x": null,
            "overflow_y": null,
            "padding": null,
            "right": null,
            "top": null,
            "visibility": null,
            "width": null
          }
        },
        "9e442d864bab4fadb40e2796b7ce7d9b": {
          "model_module": "@jupyter-widgets/controls",
          "model_name": "ProgressStyleModel",
          "model_module_version": "1.5.0",
          "state": {
            "_model_module": "@jupyter-widgets/controls",
            "_model_module_version": "1.5.0",
            "_model_name": "ProgressStyleModel",
            "_view_count": null,
            "_view_module": "@jupyter-widgets/base",
            "_view_module_version": "1.2.0",
            "_view_name": "StyleView",
            "bar_color": null,
            "description_width": ""
          }
        },
        "2b9568e752cc47dabacc625b3e776de0": {
          "model_module": "@jupyter-widgets/base",
          "model_name": "LayoutModel",
          "model_module_version": "1.2.0",
          "state": {
            "_model_module": "@jupyter-widgets/base",
            "_model_module_version": "1.2.0",
            "_model_name": "LayoutModel",
            "_view_count": null,
            "_view_module": "@jupyter-widgets/base",
            "_view_module_version": "1.2.0",
            "_view_name": "LayoutView",
            "align_content": null,
            "align_items": null,
            "align_self": null,
            "border": null,
            "bottom": null,
            "display": null,
            "flex": null,
            "flex_flow": null,
            "grid_area": null,
            "grid_auto_columns": null,
            "grid_auto_flow": null,
            "grid_auto_rows": null,
            "grid_column": null,
            "grid_gap": null,
            "grid_row": null,
            "grid_template_areas": null,
            "grid_template_columns": null,
            "grid_template_rows": null,
            "height": null,
            "justify_content": null,
            "justify_items": null,
            "left": null,
            "margin": null,
            "max_height": null,
            "max_width": null,
            "min_height": null,
            "min_width": null,
            "object_fit": null,
            "object_position": null,
            "order": null,
            "overflow": null,
            "overflow_x": null,
            "overflow_y": null,
            "padding": null,
            "right": null,
            "top": null,
            "visibility": null,
            "width": null
          }
        },
        "9738232e12bb46c7acecc3db119bdad7": {
          "model_module": "@jupyter-widgets/controls",
          "model_name": "DescriptionStyleModel",
          "model_module_version": "1.5.0",
          "state": {
            "_model_module": "@jupyter-widgets/controls",
            "_model_module_version": "1.5.0",
            "_model_name": "DescriptionStyleModel",
            "_view_count": null,
            "_view_module": "@jupyter-widgets/base",
            "_view_module_version": "1.2.0",
            "_view_name": "StyleView",
            "description_width": ""
          }
        },
        "eca858fe901e4e05a401d3b55547f46b": {
          "model_module": "@jupyter-widgets/controls",
          "model_name": "HBoxModel",
          "model_module_version": "1.5.0",
          "state": {
            "_dom_classes": [],
            "_model_module": "@jupyter-widgets/controls",
            "_model_module_version": "1.5.0",
            "_model_name": "HBoxModel",
            "_view_count": null,
            "_view_module": "@jupyter-widgets/controls",
            "_view_module_version": "1.5.0",
            "_view_name": "HBoxView",
            "box_style": "",
            "children": [
              "IPY_MODEL_d04bc2738e0b4adea1790544af9f825a",
              "IPY_MODEL_f8edc38d582145ddaa6c274685b8a401",
              "IPY_MODEL_55a85956d375440c901123f476873bf5"
            ],
            "layout": "IPY_MODEL_f5cfdb249de147318391f4ea968ffd0f"
          }
        },
        "d04bc2738e0b4adea1790544af9f825a": {
          "model_module": "@jupyter-widgets/controls",
          "model_name": "HTMLModel",
          "model_module_version": "1.5.0",
          "state": {
            "_dom_classes": [],
            "_model_module": "@jupyter-widgets/controls",
            "_model_module_version": "1.5.0",
            "_model_name": "HTMLModel",
            "_view_count": null,
            "_view_module": "@jupyter-widgets/controls",
            "_view_module_version": "1.5.0",
            "_view_name": "HTMLView",
            "description": "",
            "description_tooltip": null,
            "layout": "IPY_MODEL_622cc145cbf246cc9e9ef5b1c1ca7acf",
            "placeholder": "​",
            "style": "IPY_MODEL_15ed699d0c8642f5ac7f57e53e5a976e",
            "value": "Downloading: 100%"
          }
        },
        "f8edc38d582145ddaa6c274685b8a401": {
          "model_module": "@jupyter-widgets/controls",
          "model_name": "FloatProgressModel",
          "model_module_version": "1.5.0",
          "state": {
            "_dom_classes": [],
            "_model_module": "@jupyter-widgets/controls",
            "_model_module_version": "1.5.0",
            "_model_name": "FloatProgressModel",
            "_view_count": null,
            "_view_module": "@jupyter-widgets/controls",
            "_view_module_version": "1.5.0",
            "_view_name": "ProgressView",
            "bar_style": "success",
            "description": "",
            "description_tooltip": null,
            "layout": "IPY_MODEL_ddaf80b7f4b940f994261c0e9a0aa64d",
            "max": 10610,
            "min": 0,
            "orientation": "horizontal",
            "style": "IPY_MODEL_99e85cebc21a471d8797046c74a20627",
            "value": 10610
          }
        },
        "55a85956d375440c901123f476873bf5": {
          "model_module": "@jupyter-widgets/controls",
          "model_name": "HTMLModel",
          "model_module_version": "1.5.0",
          "state": {
            "_dom_classes": [],
            "_model_module": "@jupyter-widgets/controls",
            "_model_module_version": "1.5.0",
            "_model_name": "HTMLModel",
            "_view_count": null,
            "_view_module": "@jupyter-widgets/controls",
            "_view_module_version": "1.5.0",
            "_view_name": "HTMLView",
            "description": "",
            "description_tooltip": null,
            "layout": "IPY_MODEL_126f88cf12d74b689d8088b47fc93236",
            "placeholder": "​",
            "style": "IPY_MODEL_202870374f1c43bdb2294b41b3df94a2",
            "value": " 10.6k/10.6k [00:00&lt;00:00, 328kB/s]"
          }
        },
        "f5cfdb249de147318391f4ea968ffd0f": {
          "model_module": "@jupyter-widgets/base",
          "model_name": "LayoutModel",
          "model_module_version": "1.2.0",
          "state": {
            "_model_module": "@jupyter-widgets/base",
            "_model_module_version": "1.2.0",
            "_model_name": "LayoutModel",
            "_view_count": null,
            "_view_module": "@jupyter-widgets/base",
            "_view_module_version": "1.2.0",
            "_view_name": "LayoutView",
            "align_content": null,
            "align_items": null,
            "align_self": null,
            "border": null,
            "bottom": null,
            "display": null,
            "flex": null,
            "flex_flow": null,
            "grid_area": null,
            "grid_auto_columns": null,
            "grid_auto_flow": null,
            "grid_auto_rows": null,
            "grid_column": null,
            "grid_gap": null,
            "grid_row": null,
            "grid_template_areas": null,
            "grid_template_columns": null,
            "grid_template_rows": null,
            "height": null,
            "justify_content": null,
            "justify_items": null,
            "left": null,
            "margin": null,
            "max_height": null,
            "max_width": null,
            "min_height": null,
            "min_width": null,
            "object_fit": null,
            "object_position": null,
            "order": null,
            "overflow": null,
            "overflow_x": null,
            "overflow_y": null,
            "padding": null,
            "right": null,
            "top": null,
            "visibility": null,
            "width": null
          }
        },
        "622cc145cbf246cc9e9ef5b1c1ca7acf": {
          "model_module": "@jupyter-widgets/base",
          "model_name": "LayoutModel",
          "model_module_version": "1.2.0",
          "state": {
            "_model_module": "@jupyter-widgets/base",
            "_model_module_version": "1.2.0",
            "_model_name": "LayoutModel",
            "_view_count": null,
            "_view_module": "@jupyter-widgets/base",
            "_view_module_version": "1.2.0",
            "_view_name": "LayoutView",
            "align_content": null,
            "align_items": null,
            "align_self": null,
            "border": null,
            "bottom": null,
            "display": null,
            "flex": null,
            "flex_flow": null,
            "grid_area": null,
            "grid_auto_columns": null,
            "grid_auto_flow": null,
            "grid_auto_rows": null,
            "grid_column": null,
            "grid_gap": null,
            "grid_row": null,
            "grid_template_areas": null,
            "grid_template_columns": null,
            "grid_template_rows": null,
            "height": null,
            "justify_content": null,
            "justify_items": null,
            "left": null,
            "margin": null,
            "max_height": null,
            "max_width": null,
            "min_height": null,
            "min_width": null,
            "object_fit": null,
            "object_position": null,
            "order": null,
            "overflow": null,
            "overflow_x": null,
            "overflow_y": null,
            "padding": null,
            "right": null,
            "top": null,
            "visibility": null,
            "width": null
          }
        },
        "15ed699d0c8642f5ac7f57e53e5a976e": {
          "model_module": "@jupyter-widgets/controls",
          "model_name": "DescriptionStyleModel",
          "model_module_version": "1.5.0",
          "state": {
            "_model_module": "@jupyter-widgets/controls",
            "_model_module_version": "1.5.0",
            "_model_name": "DescriptionStyleModel",
            "_view_count": null,
            "_view_module": "@jupyter-widgets/base",
            "_view_module_version": "1.2.0",
            "_view_name": "StyleView",
            "description_width": ""
          }
        },
        "ddaf80b7f4b940f994261c0e9a0aa64d": {
          "model_module": "@jupyter-widgets/base",
          "model_name": "LayoutModel",
          "model_module_version": "1.2.0",
          "state": {
            "_model_module": "@jupyter-widgets/base",
            "_model_module_version": "1.2.0",
            "_model_name": "LayoutModel",
            "_view_count": null,
            "_view_module": "@jupyter-widgets/base",
            "_view_module_version": "1.2.0",
            "_view_name": "LayoutView",
            "align_content": null,
            "align_items": null,
            "align_self": null,
            "border": null,
            "bottom": null,
            "display": null,
            "flex": null,
            "flex_flow": null,
            "grid_area": null,
            "grid_auto_columns": null,
            "grid_auto_flow": null,
            "grid_auto_rows": null,
            "grid_column": null,
            "grid_gap": null,
            "grid_row": null,
            "grid_template_areas": null,
            "grid_template_columns": null,
            "grid_template_rows": null,
            "height": null,
            "justify_content": null,
            "justify_items": null,
            "left": null,
            "margin": null,
            "max_height": null,
            "max_width": null,
            "min_height": null,
            "min_width": null,
            "object_fit": null,
            "object_position": null,
            "order": null,
            "overflow": null,
            "overflow_x": null,
            "overflow_y": null,
            "padding": null,
            "right": null,
            "top": null,
            "visibility": null,
            "width": null
          }
        },
        "99e85cebc21a471d8797046c74a20627": {
          "model_module": "@jupyter-widgets/controls",
          "model_name": "ProgressStyleModel",
          "model_module_version": "1.5.0",
          "state": {
            "_model_module": "@jupyter-widgets/controls",
            "_model_module_version": "1.5.0",
            "_model_name": "ProgressStyleModel",
            "_view_count": null,
            "_view_module": "@jupyter-widgets/base",
            "_view_module_version": "1.2.0",
            "_view_name": "StyleView",
            "bar_color": null,
            "description_width": ""
          }
        },
        "126f88cf12d74b689d8088b47fc93236": {
          "model_module": "@jupyter-widgets/base",
          "model_name": "LayoutModel",
          "model_module_version": "1.2.0",
          "state": {
            "_model_module": "@jupyter-widgets/base",
            "_model_module_version": "1.2.0",
            "_model_name": "LayoutModel",
            "_view_count": null,
            "_view_module": "@jupyter-widgets/base",
            "_view_module_version": "1.2.0",
            "_view_name": "LayoutView",
            "align_content": null,
            "align_items": null,
            "align_self": null,
            "border": null,
            "bottom": null,
            "display": null,
            "flex": null,
            "flex_flow": null,
            "grid_area": null,
            "grid_auto_columns": null,
            "grid_auto_flow": null,
            "grid_auto_rows": null,
            "grid_column": null,
            "grid_gap": null,
            "grid_row": null,
            "grid_template_areas": null,
            "grid_template_columns": null,
            "grid_template_rows": null,
            "height": null,
            "justify_content": null,
            "justify_items": null,
            "left": null,
            "margin": null,
            "max_height": null,
            "max_width": null,
            "min_height": null,
            "min_width": null,
            "object_fit": null,
            "object_position": null,
            "order": null,
            "overflow": null,
            "overflow_x": null,
            "overflow_y": null,
            "padding": null,
            "right": null,
            "top": null,
            "visibility": null,
            "width": null
          }
        },
        "202870374f1c43bdb2294b41b3df94a2": {
          "model_module": "@jupyter-widgets/controls",
          "model_name": "DescriptionStyleModel",
          "model_module_version": "1.5.0",
          "state": {
            "_model_module": "@jupyter-widgets/controls",
            "_model_module_version": "1.5.0",
            "_model_name": "DescriptionStyleModel",
            "_view_count": null,
            "_view_module": "@jupyter-widgets/base",
            "_view_module_version": "1.2.0",
            "_view_name": "StyleView",
            "description_width": ""
          }
        },
        "a035b62e0a8a44c290d46c6b68023145": {
          "model_module": "@jupyter-widgets/controls",
          "model_name": "HBoxModel",
          "model_module_version": "1.5.0",
          "state": {
            "_dom_classes": [],
            "_model_module": "@jupyter-widgets/controls",
            "_model_module_version": "1.5.0",
            "_model_name": "HBoxModel",
            "_view_count": null,
            "_view_module": "@jupyter-widgets/controls",
            "_view_module_version": "1.5.0",
            "_view_name": "HBoxView",
            "box_style": "",
            "children": [
              "IPY_MODEL_984c6493741d400ca8c6b57f9c62e5e6",
              "IPY_MODEL_9aeac5488af1464fbc548d2437b18f7b",
              "IPY_MODEL_491055297a534ad3a59408bf7e27df7e"
            ],
            "layout": "IPY_MODEL_178aea27a0a04bda840870fc62421bc7"
          }
        },
        "984c6493741d400ca8c6b57f9c62e5e6": {
          "model_module": "@jupyter-widgets/controls",
          "model_name": "HTMLModel",
          "model_module_version": "1.5.0",
          "state": {
            "_dom_classes": [],
            "_model_module": "@jupyter-widgets/controls",
            "_model_module_version": "1.5.0",
            "_model_name": "HTMLModel",
            "_view_count": null,
            "_view_module": "@jupyter-widgets/controls",
            "_view_module_version": "1.5.0",
            "_view_name": "HTMLView",
            "description": "",
            "description_tooltip": null,
            "layout": "IPY_MODEL_7db19277788d43efb652777d84a06246",
            "placeholder": "​",
            "style": "IPY_MODEL_acb2016a376f43eaadeb9c030897b4b7",
            "value": "Downloading: 100%"
          }
        },
        "9aeac5488af1464fbc548d2437b18f7b": {
          "model_module": "@jupyter-widgets/controls",
          "model_name": "FloatProgressModel",
          "model_module_version": "1.5.0",
          "state": {
            "_dom_classes": [],
            "_model_module": "@jupyter-widgets/controls",
            "_model_module_version": "1.5.0",
            "_model_name": "FloatProgressModel",
            "_view_count": null,
            "_view_module": "@jupyter-widgets/controls",
            "_view_module_version": "1.5.0",
            "_view_name": "ProgressView",
            "bar_style": "success",
            "description": "",
            "description_tooltip": null,
            "layout": "IPY_MODEL_e4261938bde044bc923d6a8ba296bb70",
            "max": 612,
            "min": 0,
            "orientation": "horizontal",
            "style": "IPY_MODEL_5e224eb757164e67930bdc9b69f099af",
            "value": 612
          }
        },
        "491055297a534ad3a59408bf7e27df7e": {
          "model_module": "@jupyter-widgets/controls",
          "model_name": "HTMLModel",
          "model_module_version": "1.5.0",
          "state": {
            "_dom_classes": [],
            "_model_module": "@jupyter-widgets/controls",
            "_model_module_version": "1.5.0",
            "_model_name": "HTMLModel",
            "_view_count": null,
            "_view_module": "@jupyter-widgets/controls",
            "_view_module_version": "1.5.0",
            "_view_name": "HTMLView",
            "description": "",
            "description_tooltip": null,
            "layout": "IPY_MODEL_785fe1175d27496595f5bb0237c66fbe",
            "placeholder": "​",
            "style": "IPY_MODEL_416a716bbeaa443696a7a9db52d0f739",
            "value": " 612/612 [00:00&lt;00:00, 11.2kB/s]"
          }
        },
        "178aea27a0a04bda840870fc62421bc7": {
          "model_module": "@jupyter-widgets/base",
          "model_name": "LayoutModel",
          "model_module_version": "1.2.0",
          "state": {
            "_model_module": "@jupyter-widgets/base",
            "_model_module_version": "1.2.0",
            "_model_name": "LayoutModel",
            "_view_count": null,
            "_view_module": "@jupyter-widgets/base",
            "_view_module_version": "1.2.0",
            "_view_name": "LayoutView",
            "align_content": null,
            "align_items": null,
            "align_self": null,
            "border": null,
            "bottom": null,
            "display": null,
            "flex": null,
            "flex_flow": null,
            "grid_area": null,
            "grid_auto_columns": null,
            "grid_auto_flow": null,
            "grid_auto_rows": null,
            "grid_column": null,
            "grid_gap": null,
            "grid_row": null,
            "grid_template_areas": null,
            "grid_template_columns": null,
            "grid_template_rows": null,
            "height": null,
            "justify_content": null,
            "justify_items": null,
            "left": null,
            "margin": null,
            "max_height": null,
            "max_width": null,
            "min_height": null,
            "min_width": null,
            "object_fit": null,
            "object_position": null,
            "order": null,
            "overflow": null,
            "overflow_x": null,
            "overflow_y": null,
            "padding": null,
            "right": null,
            "top": null,
            "visibility": null,
            "width": null
          }
        },
        "7db19277788d43efb652777d84a06246": {
          "model_module": "@jupyter-widgets/base",
          "model_name": "LayoutModel",
          "model_module_version": "1.2.0",
          "state": {
            "_model_module": "@jupyter-widgets/base",
            "_model_module_version": "1.2.0",
            "_model_name": "LayoutModel",
            "_view_count": null,
            "_view_module": "@jupyter-widgets/base",
            "_view_module_version": "1.2.0",
            "_view_name": "LayoutView",
            "align_content": null,
            "align_items": null,
            "align_self": null,
            "border": null,
            "bottom": null,
            "display": null,
            "flex": null,
            "flex_flow": null,
            "grid_area": null,
            "grid_auto_columns": null,
            "grid_auto_flow": null,
            "grid_auto_rows": null,
            "grid_column": null,
            "grid_gap": null,
            "grid_row": null,
            "grid_template_areas": null,
            "grid_template_columns": null,
            "grid_template_rows": null,
            "height": null,
            "justify_content": null,
            "justify_items": null,
            "left": null,
            "margin": null,
            "max_height": null,
            "max_width": null,
            "min_height": null,
            "min_width": null,
            "object_fit": null,
            "object_position": null,
            "order": null,
            "overflow": null,
            "overflow_x": null,
            "overflow_y": null,
            "padding": null,
            "right": null,
            "top": null,
            "visibility": null,
            "width": null
          }
        },
        "acb2016a376f43eaadeb9c030897b4b7": {
          "model_module": "@jupyter-widgets/controls",
          "model_name": "DescriptionStyleModel",
          "model_module_version": "1.5.0",
          "state": {
            "_model_module": "@jupyter-widgets/controls",
            "_model_module_version": "1.5.0",
            "_model_name": "DescriptionStyleModel",
            "_view_count": null,
            "_view_module": "@jupyter-widgets/base",
            "_view_module_version": "1.2.0",
            "_view_name": "StyleView",
            "description_width": ""
          }
        },
        "e4261938bde044bc923d6a8ba296bb70": {
          "model_module": "@jupyter-widgets/base",
          "model_name": "LayoutModel",
          "model_module_version": "1.2.0",
          "state": {
            "_model_module": "@jupyter-widgets/base",
            "_model_module_version": "1.2.0",
            "_model_name": "LayoutModel",
            "_view_count": null,
            "_view_module": "@jupyter-widgets/base",
            "_view_module_version": "1.2.0",
            "_view_name": "LayoutView",
            "align_content": null,
            "align_items": null,
            "align_self": null,
            "border": null,
            "bottom": null,
            "display": null,
            "flex": null,
            "flex_flow": null,
            "grid_area": null,
            "grid_auto_columns": null,
            "grid_auto_flow": null,
            "grid_auto_rows": null,
            "grid_column": null,
            "grid_gap": null,
            "grid_row": null,
            "grid_template_areas": null,
            "grid_template_columns": null,
            "grid_template_rows": null,
            "height": null,
            "justify_content": null,
            "justify_items": null,
            "left": null,
            "margin": null,
            "max_height": null,
            "max_width": null,
            "min_height": null,
            "min_width": null,
            "object_fit": null,
            "object_position": null,
            "order": null,
            "overflow": null,
            "overflow_x": null,
            "overflow_y": null,
            "padding": null,
            "right": null,
            "top": null,
            "visibility": null,
            "width": null
          }
        },
        "5e224eb757164e67930bdc9b69f099af": {
          "model_module": "@jupyter-widgets/controls",
          "model_name": "ProgressStyleModel",
          "model_module_version": "1.5.0",
          "state": {
            "_model_module": "@jupyter-widgets/controls",
            "_model_module_version": "1.5.0",
            "_model_name": "ProgressStyleModel",
            "_view_count": null,
            "_view_module": "@jupyter-widgets/base",
            "_view_module_version": "1.2.0",
            "_view_name": "StyleView",
            "bar_color": null,
            "description_width": ""
          }
        },
        "785fe1175d27496595f5bb0237c66fbe": {
          "model_module": "@jupyter-widgets/base",
          "model_name": "LayoutModel",
          "model_module_version": "1.2.0",
          "state": {
            "_model_module": "@jupyter-widgets/base",
            "_model_module_version": "1.2.0",
            "_model_name": "LayoutModel",
            "_view_count": null,
            "_view_module": "@jupyter-widgets/base",
            "_view_module_version": "1.2.0",
            "_view_name": "LayoutView",
            "align_content": null,
            "align_items": null,
            "align_self": null,
            "border": null,
            "bottom": null,
            "display": null,
            "flex": null,
            "flex_flow": null,
            "grid_area": null,
            "grid_auto_columns": null,
            "grid_auto_flow": null,
            "grid_auto_rows": null,
            "grid_column": null,
            "grid_gap": null,
            "grid_row": null,
            "grid_template_areas": null,
            "grid_template_columns": null,
            "grid_template_rows": null,
            "height": null,
            "justify_content": null,
            "justify_items": null,
            "left": null,
            "margin": null,
            "max_height": null,
            "max_width": null,
            "min_height": null,
            "min_width": null,
            "object_fit": null,
            "object_position": null,
            "order": null,
            "overflow": null,
            "overflow_x": null,
            "overflow_y": null,
            "padding": null,
            "right": null,
            "top": null,
            "visibility": null,
            "width": null
          }
        },
        "416a716bbeaa443696a7a9db52d0f739": {
          "model_module": "@jupyter-widgets/controls",
          "model_name": "DescriptionStyleModel",
          "model_module_version": "1.5.0",
          "state": {
            "_model_module": "@jupyter-widgets/controls",
            "_model_module_version": "1.5.0",
            "_model_name": "DescriptionStyleModel",
            "_view_count": null,
            "_view_module": "@jupyter-widgets/base",
            "_view_module_version": "1.2.0",
            "_view_name": "StyleView",
            "description_width": ""
          }
        },
        "8a01ba985a7e4b3283b5feeda63d5ffc": {
          "model_module": "@jupyter-widgets/controls",
          "model_name": "HBoxModel",
          "model_module_version": "1.5.0",
          "state": {
            "_dom_classes": [],
            "_model_module": "@jupyter-widgets/controls",
            "_model_module_version": "1.5.0",
            "_model_name": "HBoxModel",
            "_view_count": null,
            "_view_module": "@jupyter-widgets/controls",
            "_view_module_version": "1.5.0",
            "_view_name": "HBoxView",
            "box_style": "",
            "children": [
              "IPY_MODEL_6baf7d58ab70448ca775ba9fac70d144",
              "IPY_MODEL_41e0f479e12d49a987e5779082ead10d",
              "IPY_MODEL_f027df2c41b247298be16fccd7866a57"
            ],
            "layout": "IPY_MODEL_e429d697eb8445cc8cace2c6f543594a"
          }
        },
        "6baf7d58ab70448ca775ba9fac70d144": {
          "model_module": "@jupyter-widgets/controls",
          "model_name": "HTMLModel",
          "model_module_version": "1.5.0",
          "state": {
            "_dom_classes": [],
            "_model_module": "@jupyter-widgets/controls",
            "_model_module_version": "1.5.0",
            "_model_name": "HTMLModel",
            "_view_count": null,
            "_view_module": "@jupyter-widgets/controls",
            "_view_module_version": "1.5.0",
            "_view_name": "HTMLView",
            "description": "",
            "description_tooltip": null,
            "layout": "IPY_MODEL_a93da8a33d5e4799b90d74595ce03192",
            "placeholder": "​",
            "style": "IPY_MODEL_fb379df570824fd7bb2eed9cf748a046",
            "value": "Downloading: 100%"
          }
        },
        "41e0f479e12d49a987e5779082ead10d": {
          "model_module": "@jupyter-widgets/controls",
          "model_name": "FloatProgressModel",
          "model_module_version": "1.5.0",
          "state": {
            "_dom_classes": [],
            "_model_module": "@jupyter-widgets/controls",
            "_model_module_version": "1.5.0",
            "_model_name": "FloatProgressModel",
            "_view_count": null,
            "_view_module": "@jupyter-widgets/controls",
            "_view_module_version": "1.5.0",
            "_view_name": "ProgressView",
            "bar_style": "success",
            "description": "",
            "description_tooltip": null,
            "layout": "IPY_MODEL_b0ab72fb716b453f816fc791d203480d",
            "max": 116,
            "min": 0,
            "orientation": "horizontal",
            "style": "IPY_MODEL_eb27e02b24594e238cecc8a153286067",
            "value": 116
          }
        },
        "f027df2c41b247298be16fccd7866a57": {
          "model_module": "@jupyter-widgets/controls",
          "model_name": "HTMLModel",
          "model_module_version": "1.5.0",
          "state": {
            "_dom_classes": [],
            "_model_module": "@jupyter-widgets/controls",
            "_model_module_version": "1.5.0",
            "_model_name": "HTMLModel",
            "_view_count": null,
            "_view_module": "@jupyter-widgets/controls",
            "_view_module_version": "1.5.0",
            "_view_name": "HTMLView",
            "description": "",
            "description_tooltip": null,
            "layout": "IPY_MODEL_0277ce06c1a841a982b4797269b0bbb5",
            "placeholder": "​",
            "style": "IPY_MODEL_33f330028af343a4949b381945b0f10d",
            "value": " 116/116 [00:00&lt;00:00, 2.53kB/s]"
          }
        },
        "e429d697eb8445cc8cace2c6f543594a": {
          "model_module": "@jupyter-widgets/base",
          "model_name": "LayoutModel",
          "model_module_version": "1.2.0",
          "state": {
            "_model_module": "@jupyter-widgets/base",
            "_model_module_version": "1.2.0",
            "_model_name": "LayoutModel",
            "_view_count": null,
            "_view_module": "@jupyter-widgets/base",
            "_view_module_version": "1.2.0",
            "_view_name": "LayoutView",
            "align_content": null,
            "align_items": null,
            "align_self": null,
            "border": null,
            "bottom": null,
            "display": null,
            "flex": null,
            "flex_flow": null,
            "grid_area": null,
            "grid_auto_columns": null,
            "grid_auto_flow": null,
            "grid_auto_rows": null,
            "grid_column": null,
            "grid_gap": null,
            "grid_row": null,
            "grid_template_areas": null,
            "grid_template_columns": null,
            "grid_template_rows": null,
            "height": null,
            "justify_content": null,
            "justify_items": null,
            "left": null,
            "margin": null,
            "max_height": null,
            "max_width": null,
            "min_height": null,
            "min_width": null,
            "object_fit": null,
            "object_position": null,
            "order": null,
            "overflow": null,
            "overflow_x": null,
            "overflow_y": null,
            "padding": null,
            "right": null,
            "top": null,
            "visibility": null,
            "width": null
          }
        },
        "a93da8a33d5e4799b90d74595ce03192": {
          "model_module": "@jupyter-widgets/base",
          "model_name": "LayoutModel",
          "model_module_version": "1.2.0",
          "state": {
            "_model_module": "@jupyter-widgets/base",
            "_model_module_version": "1.2.0",
            "_model_name": "LayoutModel",
            "_view_count": null,
            "_view_module": "@jupyter-widgets/base",
            "_view_module_version": "1.2.0",
            "_view_name": "LayoutView",
            "align_content": null,
            "align_items": null,
            "align_self": null,
            "border": null,
            "bottom": null,
            "display": null,
            "flex": null,
            "flex_flow": null,
            "grid_area": null,
            "grid_auto_columns": null,
            "grid_auto_flow": null,
            "grid_auto_rows": null,
            "grid_column": null,
            "grid_gap": null,
            "grid_row": null,
            "grid_template_areas": null,
            "grid_template_columns": null,
            "grid_template_rows": null,
            "height": null,
            "justify_content": null,
            "justify_items": null,
            "left": null,
            "margin": null,
            "max_height": null,
            "max_width": null,
            "min_height": null,
            "min_width": null,
            "object_fit": null,
            "object_position": null,
            "order": null,
            "overflow": null,
            "overflow_x": null,
            "overflow_y": null,
            "padding": null,
            "right": null,
            "top": null,
            "visibility": null,
            "width": null
          }
        },
        "fb379df570824fd7bb2eed9cf748a046": {
          "model_module": "@jupyter-widgets/controls",
          "model_name": "DescriptionStyleModel",
          "model_module_version": "1.5.0",
          "state": {
            "_model_module": "@jupyter-widgets/controls",
            "_model_module_version": "1.5.0",
            "_model_name": "DescriptionStyleModel",
            "_view_count": null,
            "_view_module": "@jupyter-widgets/base",
            "_view_module_version": "1.2.0",
            "_view_name": "StyleView",
            "description_width": ""
          }
        },
        "b0ab72fb716b453f816fc791d203480d": {
          "model_module": "@jupyter-widgets/base",
          "model_name": "LayoutModel",
          "model_module_version": "1.2.0",
          "state": {
            "_model_module": "@jupyter-widgets/base",
            "_model_module_version": "1.2.0",
            "_model_name": "LayoutModel",
            "_view_count": null,
            "_view_module": "@jupyter-widgets/base",
            "_view_module_version": "1.2.0",
            "_view_name": "LayoutView",
            "align_content": null,
            "align_items": null,
            "align_self": null,
            "border": null,
            "bottom": null,
            "display": null,
            "flex": null,
            "flex_flow": null,
            "grid_area": null,
            "grid_auto_columns": null,
            "grid_auto_flow": null,
            "grid_auto_rows": null,
            "grid_column": null,
            "grid_gap": null,
            "grid_row": null,
            "grid_template_areas": null,
            "grid_template_columns": null,
            "grid_template_rows": null,
            "height": null,
            "justify_content": null,
            "justify_items": null,
            "left": null,
            "margin": null,
            "max_height": null,
            "max_width": null,
            "min_height": null,
            "min_width": null,
            "object_fit": null,
            "object_position": null,
            "order": null,
            "overflow": null,
            "overflow_x": null,
            "overflow_y": null,
            "padding": null,
            "right": null,
            "top": null,
            "visibility": null,
            "width": null
          }
        },
        "eb27e02b24594e238cecc8a153286067": {
          "model_module": "@jupyter-widgets/controls",
          "model_name": "ProgressStyleModel",
          "model_module_version": "1.5.0",
          "state": {
            "_model_module": "@jupyter-widgets/controls",
            "_model_module_version": "1.5.0",
            "_model_name": "ProgressStyleModel",
            "_view_count": null,
            "_view_module": "@jupyter-widgets/base",
            "_view_module_version": "1.2.0",
            "_view_name": "StyleView",
            "bar_color": null,
            "description_width": ""
          }
        },
        "0277ce06c1a841a982b4797269b0bbb5": {
          "model_module": "@jupyter-widgets/base",
          "model_name": "LayoutModel",
          "model_module_version": "1.2.0",
          "state": {
            "_model_module": "@jupyter-widgets/base",
            "_model_module_version": "1.2.0",
            "_model_name": "LayoutModel",
            "_view_count": null,
            "_view_module": "@jupyter-widgets/base",
            "_view_module_version": "1.2.0",
            "_view_name": "LayoutView",
            "align_content": null,
            "align_items": null,
            "align_self": null,
            "border": null,
            "bottom": null,
            "display": null,
            "flex": null,
            "flex_flow": null,
            "grid_area": null,
            "grid_auto_columns": null,
            "grid_auto_flow": null,
            "grid_auto_rows": null,
            "grid_column": null,
            "grid_gap": null,
            "grid_row": null,
            "grid_template_areas": null,
            "grid_template_columns": null,
            "grid_template_rows": null,
            "height": null,
            "justify_content": null,
            "justify_items": null,
            "left": null,
            "margin": null,
            "max_height": null,
            "max_width": null,
            "min_height": null,
            "min_width": null,
            "object_fit": null,
            "object_position": null,
            "order": null,
            "overflow": null,
            "overflow_x": null,
            "overflow_y": null,
            "padding": null,
            "right": null,
            "top": null,
            "visibility": null,
            "width": null
          }
        },
        "33f330028af343a4949b381945b0f10d": {
          "model_module": "@jupyter-widgets/controls",
          "model_name": "DescriptionStyleModel",
          "model_module_version": "1.5.0",
          "state": {
            "_model_module": "@jupyter-widgets/controls",
            "_model_module_version": "1.5.0",
            "_model_name": "DescriptionStyleModel",
            "_view_count": null,
            "_view_module": "@jupyter-widgets/base",
            "_view_module_version": "1.2.0",
            "_view_name": "StyleView",
            "description_width": ""
          }
        },
        "1a7f4d2c68314909a8f430e30ac63cbe": {
          "model_module": "@jupyter-widgets/controls",
          "model_name": "HBoxModel",
          "model_module_version": "1.5.0",
          "state": {
            "_dom_classes": [],
            "_model_module": "@jupyter-widgets/controls",
            "_model_module_version": "1.5.0",
            "_model_name": "HBoxModel",
            "_view_count": null,
            "_view_module": "@jupyter-widgets/controls",
            "_view_module_version": "1.5.0",
            "_view_name": "HBoxView",
            "box_style": "",
            "children": [
              "IPY_MODEL_5e38c04b3f5c4cb1af6d73b72e8845a6",
              "IPY_MODEL_db103a8eb5f149d3ad8309f76935a3b2",
              "IPY_MODEL_2f9ae1546db142ab9606b47537423319"
            ],
            "layout": "IPY_MODEL_627ceb3bc55a45c6ac6d46a106f37225"
          }
        },
        "5e38c04b3f5c4cb1af6d73b72e8845a6": {
          "model_module": "@jupyter-widgets/controls",
          "model_name": "HTMLModel",
          "model_module_version": "1.5.0",
          "state": {
            "_dom_classes": [],
            "_model_module": "@jupyter-widgets/controls",
            "_model_module_version": "1.5.0",
            "_model_name": "HTMLModel",
            "_view_count": null,
            "_view_module": "@jupyter-widgets/controls",
            "_view_module_version": "1.5.0",
            "_view_name": "HTMLView",
            "description": "",
            "description_tooltip": null,
            "layout": "IPY_MODEL_93bd54fa6b67463f88e1058011737b94",
            "placeholder": "​",
            "style": "IPY_MODEL_ccd1d85f49f14ad68c0d50bdb8f49881",
            "value": "Downloading: 100%"
          }
        },
        "db103a8eb5f149d3ad8309f76935a3b2": {
          "model_module": "@jupyter-widgets/controls",
          "model_name": "FloatProgressModel",
          "model_module_version": "1.5.0",
          "state": {
            "_dom_classes": [],
            "_model_module": "@jupyter-widgets/controls",
            "_model_module_version": "1.5.0",
            "_model_name": "FloatProgressModel",
            "_view_count": null,
            "_view_module": "@jupyter-widgets/controls",
            "_view_module_version": "1.5.0",
            "_view_name": "ProgressView",
            "bar_style": "success",
            "description": "",
            "description_tooltip": null,
            "layout": "IPY_MODEL_9b9aaa3b88ff40919d11abb19e126ca4",
            "max": 39265,
            "min": 0,
            "orientation": "horizontal",
            "style": "IPY_MODEL_65f69cbc7ab94eaa99e311fbbb6ab0dc",
            "value": 39265
          }
        },
        "2f9ae1546db142ab9606b47537423319": {
          "model_module": "@jupyter-widgets/controls",
          "model_name": "HTMLModel",
          "model_module_version": "1.5.0",
          "state": {
            "_dom_classes": [],
            "_model_module": "@jupyter-widgets/controls",
            "_model_module_version": "1.5.0",
            "_model_name": "HTMLModel",
            "_view_count": null,
            "_view_module": "@jupyter-widgets/controls",
            "_view_module_version": "1.5.0",
            "_view_name": "HTMLView",
            "description": "",
            "description_tooltip": null,
            "layout": "IPY_MODEL_f47d5b622faa49d88f5ead975d44b9c1",
            "placeholder": "​",
            "style": "IPY_MODEL_13b40c74751946b483353df57368c91e",
            "value": " 39.3k/39.3k [00:00&lt;00:00, 760kB/s]"
          }
        },
        "627ceb3bc55a45c6ac6d46a106f37225": {
          "model_module": "@jupyter-widgets/base",
          "model_name": "LayoutModel",
          "model_module_version": "1.2.0",
          "state": {
            "_model_module": "@jupyter-widgets/base",
            "_model_module_version": "1.2.0",
            "_model_name": "LayoutModel",
            "_view_count": null,
            "_view_module": "@jupyter-widgets/base",
            "_view_module_version": "1.2.0",
            "_view_name": "LayoutView",
            "align_content": null,
            "align_items": null,
            "align_self": null,
            "border": null,
            "bottom": null,
            "display": null,
            "flex": null,
            "flex_flow": null,
            "grid_area": null,
            "grid_auto_columns": null,
            "grid_auto_flow": null,
            "grid_auto_rows": null,
            "grid_column": null,
            "grid_gap": null,
            "grid_row": null,
            "grid_template_areas": null,
            "grid_template_columns": null,
            "grid_template_rows": null,
            "height": null,
            "justify_content": null,
            "justify_items": null,
            "left": null,
            "margin": null,
            "max_height": null,
            "max_width": null,
            "min_height": null,
            "min_width": null,
            "object_fit": null,
            "object_position": null,
            "order": null,
            "overflow": null,
            "overflow_x": null,
            "overflow_y": null,
            "padding": null,
            "right": null,
            "top": null,
            "visibility": null,
            "width": null
          }
        },
        "93bd54fa6b67463f88e1058011737b94": {
          "model_module": "@jupyter-widgets/base",
          "model_name": "LayoutModel",
          "model_module_version": "1.2.0",
          "state": {
            "_model_module": "@jupyter-widgets/base",
            "_model_module_version": "1.2.0",
            "_model_name": "LayoutModel",
            "_view_count": null,
            "_view_module": "@jupyter-widgets/base",
            "_view_module_version": "1.2.0",
            "_view_name": "LayoutView",
            "align_content": null,
            "align_items": null,
            "align_self": null,
            "border": null,
            "bottom": null,
            "display": null,
            "flex": null,
            "flex_flow": null,
            "grid_area": null,
            "grid_auto_columns": null,
            "grid_auto_flow": null,
            "grid_auto_rows": null,
            "grid_column": null,
            "grid_gap": null,
            "grid_row": null,
            "grid_template_areas": null,
            "grid_template_columns": null,
            "grid_template_rows": null,
            "height": null,
            "justify_content": null,
            "justify_items": null,
            "left": null,
            "margin": null,
            "max_height": null,
            "max_width": null,
            "min_height": null,
            "min_width": null,
            "object_fit": null,
            "object_position": null,
            "order": null,
            "overflow": null,
            "overflow_x": null,
            "overflow_y": null,
            "padding": null,
            "right": null,
            "top": null,
            "visibility": null,
            "width": null
          }
        },
        "ccd1d85f49f14ad68c0d50bdb8f49881": {
          "model_module": "@jupyter-widgets/controls",
          "model_name": "DescriptionStyleModel",
          "model_module_version": "1.5.0",
          "state": {
            "_model_module": "@jupyter-widgets/controls",
            "_model_module_version": "1.5.0",
            "_model_name": "DescriptionStyleModel",
            "_view_count": null,
            "_view_module": "@jupyter-widgets/base",
            "_view_module_version": "1.2.0",
            "_view_name": "StyleView",
            "description_width": ""
          }
        },
        "9b9aaa3b88ff40919d11abb19e126ca4": {
          "model_module": "@jupyter-widgets/base",
          "model_name": "LayoutModel",
          "model_module_version": "1.2.0",
          "state": {
            "_model_module": "@jupyter-widgets/base",
            "_model_module_version": "1.2.0",
            "_model_name": "LayoutModel",
            "_view_count": null,
            "_view_module": "@jupyter-widgets/base",
            "_view_module_version": "1.2.0",
            "_view_name": "LayoutView",
            "align_content": null,
            "align_items": null,
            "align_self": null,
            "border": null,
            "bottom": null,
            "display": null,
            "flex": null,
            "flex_flow": null,
            "grid_area": null,
            "grid_auto_columns": null,
            "grid_auto_flow": null,
            "grid_auto_rows": null,
            "grid_column": null,
            "grid_gap": null,
            "grid_row": null,
            "grid_template_areas": null,
            "grid_template_columns": null,
            "grid_template_rows": null,
            "height": null,
            "justify_content": null,
            "justify_items": null,
            "left": null,
            "margin": null,
            "max_height": null,
            "max_width": null,
            "min_height": null,
            "min_width": null,
            "object_fit": null,
            "object_position": null,
            "order": null,
            "overflow": null,
            "overflow_x": null,
            "overflow_y": null,
            "padding": null,
            "right": null,
            "top": null,
            "visibility": null,
            "width": null
          }
        },
        "65f69cbc7ab94eaa99e311fbbb6ab0dc": {
          "model_module": "@jupyter-widgets/controls",
          "model_name": "ProgressStyleModel",
          "model_module_version": "1.5.0",
          "state": {
            "_model_module": "@jupyter-widgets/controls",
            "_model_module_version": "1.5.0",
            "_model_name": "ProgressStyleModel",
            "_view_count": null,
            "_view_module": "@jupyter-widgets/base",
            "_view_module_version": "1.2.0",
            "_view_name": "StyleView",
            "bar_color": null,
            "description_width": ""
          }
        },
        "f47d5b622faa49d88f5ead975d44b9c1": {
          "model_module": "@jupyter-widgets/base",
          "model_name": "LayoutModel",
          "model_module_version": "1.2.0",
          "state": {
            "_model_module": "@jupyter-widgets/base",
            "_model_module_version": "1.2.0",
            "_model_name": "LayoutModel",
            "_view_count": null,
            "_view_module": "@jupyter-widgets/base",
            "_view_module_version": "1.2.0",
            "_view_name": "LayoutView",
            "align_content": null,
            "align_items": null,
            "align_self": null,
            "border": null,
            "bottom": null,
            "display": null,
            "flex": null,
            "flex_flow": null,
            "grid_area": null,
            "grid_auto_columns": null,
            "grid_auto_flow": null,
            "grid_auto_rows": null,
            "grid_column": null,
            "grid_gap": null,
            "grid_row": null,
            "grid_template_areas": null,
            "grid_template_columns": null,
            "grid_template_rows": null,
            "height": null,
            "justify_content": null,
            "justify_items": null,
            "left": null,
            "margin": null,
            "max_height": null,
            "max_width": null,
            "min_height": null,
            "min_width": null,
            "object_fit": null,
            "object_position": null,
            "order": null,
            "overflow": null,
            "overflow_x": null,
            "overflow_y": null,
            "padding": null,
            "right": null,
            "top": null,
            "visibility": null,
            "width": null
          }
        },
        "13b40c74751946b483353df57368c91e": {
          "model_module": "@jupyter-widgets/controls",
          "model_name": "DescriptionStyleModel",
          "model_module_version": "1.5.0",
          "state": {
            "_model_module": "@jupyter-widgets/controls",
            "_model_module_version": "1.5.0",
            "_model_name": "DescriptionStyleModel",
            "_view_count": null,
            "_view_module": "@jupyter-widgets/base",
            "_view_module_version": "1.2.0",
            "_view_name": "StyleView",
            "description_width": ""
          }
        },
        "048adb4bacd44e9ba021856b82274380": {
          "model_module": "@jupyter-widgets/controls",
          "model_name": "HBoxModel",
          "model_module_version": "1.5.0",
          "state": {
            "_dom_classes": [],
            "_model_module": "@jupyter-widgets/controls",
            "_model_module_version": "1.5.0",
            "_model_name": "HBoxModel",
            "_view_count": null,
            "_view_module": "@jupyter-widgets/controls",
            "_view_module_version": "1.5.0",
            "_view_name": "HBoxView",
            "box_style": "",
            "children": [
              "IPY_MODEL_ecc20487366f4ee9991c05e4abc48e63",
              "IPY_MODEL_551b8ffa038d4b0bab0aeb8e48568e65",
              "IPY_MODEL_31c4db271aa544399f9cd15da19fef01"
            ],
            "layout": "IPY_MODEL_29d02cf6c9994469babbb8b1371fe2df"
          }
        },
        "ecc20487366f4ee9991c05e4abc48e63": {
          "model_module": "@jupyter-widgets/controls",
          "model_name": "HTMLModel",
          "model_module_version": "1.5.0",
          "state": {
            "_dom_classes": [],
            "_model_module": "@jupyter-widgets/controls",
            "_model_module_version": "1.5.0",
            "_model_name": "HTMLModel",
            "_view_count": null,
            "_view_module": "@jupyter-widgets/controls",
            "_view_module_version": "1.5.0",
            "_view_name": "HTMLView",
            "description": "",
            "description_tooltip": null,
            "layout": "IPY_MODEL_21d92a9327da41408d98883f4c120d25",
            "placeholder": "​",
            "style": "IPY_MODEL_95be87bfce774e5db8a68c311c4cfe63",
            "value": "Downloading: 100%"
          }
        },
        "551b8ffa038d4b0bab0aeb8e48568e65": {
          "model_module": "@jupyter-widgets/controls",
          "model_name": "FloatProgressModel",
          "model_module_version": "1.5.0",
          "state": {
            "_dom_classes": [],
            "_model_module": "@jupyter-widgets/controls",
            "_model_module_version": "1.5.0",
            "_model_name": "FloatProgressModel",
            "_view_count": null,
            "_view_module": "@jupyter-widgets/controls",
            "_view_module_version": "1.5.0",
            "_view_name": "ProgressView",
            "bar_style": "success",
            "description": "",
            "description_tooltip": null,
            "layout": "IPY_MODEL_e2a19588cff748628cfbaeb74f2269e9",
            "max": 90888945,
            "min": 0,
            "orientation": "horizontal",
            "style": "IPY_MODEL_4ef63e246b5448f59a99379ca4208258",
            "value": 90888945
          }
        },
        "31c4db271aa544399f9cd15da19fef01": {
          "model_module": "@jupyter-widgets/controls",
          "model_name": "HTMLModel",
          "model_module_version": "1.5.0",
          "state": {
            "_dom_classes": [],
            "_model_module": "@jupyter-widgets/controls",
            "_model_module_version": "1.5.0",
            "_model_name": "HTMLModel",
            "_view_count": null,
            "_view_module": "@jupyter-widgets/controls",
            "_view_module_version": "1.5.0",
            "_view_name": "HTMLView",
            "description": "",
            "description_tooltip": null,
            "layout": "IPY_MODEL_603cee2dcdf845ecb3cfcfce8dfdc112",
            "placeholder": "​",
            "style": "IPY_MODEL_ac550ea77aa440e1a4f0504019b83ecc",
            "value": " 90.9M/90.9M [00:01&lt;00:00, 64.8MB/s]"
          }
        },
        "29d02cf6c9994469babbb8b1371fe2df": {
          "model_module": "@jupyter-widgets/base",
          "model_name": "LayoutModel",
          "model_module_version": "1.2.0",
          "state": {
            "_model_module": "@jupyter-widgets/base",
            "_model_module_version": "1.2.0",
            "_model_name": "LayoutModel",
            "_view_count": null,
            "_view_module": "@jupyter-widgets/base",
            "_view_module_version": "1.2.0",
            "_view_name": "LayoutView",
            "align_content": null,
            "align_items": null,
            "align_self": null,
            "border": null,
            "bottom": null,
            "display": null,
            "flex": null,
            "flex_flow": null,
            "grid_area": null,
            "grid_auto_columns": null,
            "grid_auto_flow": null,
            "grid_auto_rows": null,
            "grid_column": null,
            "grid_gap": null,
            "grid_row": null,
            "grid_template_areas": null,
            "grid_template_columns": null,
            "grid_template_rows": null,
            "height": null,
            "justify_content": null,
            "justify_items": null,
            "left": null,
            "margin": null,
            "max_height": null,
            "max_width": null,
            "min_height": null,
            "min_width": null,
            "object_fit": null,
            "object_position": null,
            "order": null,
            "overflow": null,
            "overflow_x": null,
            "overflow_y": null,
            "padding": null,
            "right": null,
            "top": null,
            "visibility": null,
            "width": null
          }
        },
        "21d92a9327da41408d98883f4c120d25": {
          "model_module": "@jupyter-widgets/base",
          "model_name": "LayoutModel",
          "model_module_version": "1.2.0",
          "state": {
            "_model_module": "@jupyter-widgets/base",
            "_model_module_version": "1.2.0",
            "_model_name": "LayoutModel",
            "_view_count": null,
            "_view_module": "@jupyter-widgets/base",
            "_view_module_version": "1.2.0",
            "_view_name": "LayoutView",
            "align_content": null,
            "align_items": null,
            "align_self": null,
            "border": null,
            "bottom": null,
            "display": null,
            "flex": null,
            "flex_flow": null,
            "grid_area": null,
            "grid_auto_columns": null,
            "grid_auto_flow": null,
            "grid_auto_rows": null,
            "grid_column": null,
            "grid_gap": null,
            "grid_row": null,
            "grid_template_areas": null,
            "grid_template_columns": null,
            "grid_template_rows": null,
            "height": null,
            "justify_content": null,
            "justify_items": null,
            "left": null,
            "margin": null,
            "max_height": null,
            "max_width": null,
            "min_height": null,
            "min_width": null,
            "object_fit": null,
            "object_position": null,
            "order": null,
            "overflow": null,
            "overflow_x": null,
            "overflow_y": null,
            "padding": null,
            "right": null,
            "top": null,
            "visibility": null,
            "width": null
          }
        },
        "95be87bfce774e5db8a68c311c4cfe63": {
          "model_module": "@jupyter-widgets/controls",
          "model_name": "DescriptionStyleModel",
          "model_module_version": "1.5.0",
          "state": {
            "_model_module": "@jupyter-widgets/controls",
            "_model_module_version": "1.5.0",
            "_model_name": "DescriptionStyleModel",
            "_view_count": null,
            "_view_module": "@jupyter-widgets/base",
            "_view_module_version": "1.2.0",
            "_view_name": "StyleView",
            "description_width": ""
          }
        },
        "e2a19588cff748628cfbaeb74f2269e9": {
          "model_module": "@jupyter-widgets/base",
          "model_name": "LayoutModel",
          "model_module_version": "1.2.0",
          "state": {
            "_model_module": "@jupyter-widgets/base",
            "_model_module_version": "1.2.0",
            "_model_name": "LayoutModel",
            "_view_count": null,
            "_view_module": "@jupyter-widgets/base",
            "_view_module_version": "1.2.0",
            "_view_name": "LayoutView",
            "align_content": null,
            "align_items": null,
            "align_self": null,
            "border": null,
            "bottom": null,
            "display": null,
            "flex": null,
            "flex_flow": null,
            "grid_area": null,
            "grid_auto_columns": null,
            "grid_auto_flow": null,
            "grid_auto_rows": null,
            "grid_column": null,
            "grid_gap": null,
            "grid_row": null,
            "grid_template_areas": null,
            "grid_template_columns": null,
            "grid_template_rows": null,
            "height": null,
            "justify_content": null,
            "justify_items": null,
            "left": null,
            "margin": null,
            "max_height": null,
            "max_width": null,
            "min_height": null,
            "min_width": null,
            "object_fit": null,
            "object_position": null,
            "order": null,
            "overflow": null,
            "overflow_x": null,
            "overflow_y": null,
            "padding": null,
            "right": null,
            "top": null,
            "visibility": null,
            "width": null
          }
        },
        "4ef63e246b5448f59a99379ca4208258": {
          "model_module": "@jupyter-widgets/controls",
          "model_name": "ProgressStyleModel",
          "model_module_version": "1.5.0",
          "state": {
            "_model_module": "@jupyter-widgets/controls",
            "_model_module_version": "1.5.0",
            "_model_name": "ProgressStyleModel",
            "_view_count": null,
            "_view_module": "@jupyter-widgets/base",
            "_view_module_version": "1.2.0",
            "_view_name": "StyleView",
            "bar_color": null,
            "description_width": ""
          }
        },
        "603cee2dcdf845ecb3cfcfce8dfdc112": {
          "model_module": "@jupyter-widgets/base",
          "model_name": "LayoutModel",
          "model_module_version": "1.2.0",
          "state": {
            "_model_module": "@jupyter-widgets/base",
            "_model_module_version": "1.2.0",
            "_model_name": "LayoutModel",
            "_view_count": null,
            "_view_module": "@jupyter-widgets/base",
            "_view_module_version": "1.2.0",
            "_view_name": "LayoutView",
            "align_content": null,
            "align_items": null,
            "align_self": null,
            "border": null,
            "bottom": null,
            "display": null,
            "flex": null,
            "flex_flow": null,
            "grid_area": null,
            "grid_auto_columns": null,
            "grid_auto_flow": null,
            "grid_auto_rows": null,
            "grid_column": null,
            "grid_gap": null,
            "grid_row": null,
            "grid_template_areas": null,
            "grid_template_columns": null,
            "grid_template_rows": null,
            "height": null,
            "justify_content": null,
            "justify_items": null,
            "left": null,
            "margin": null,
            "max_height": null,
            "max_width": null,
            "min_height": null,
            "min_width": null,
            "object_fit": null,
            "object_position": null,
            "order": null,
            "overflow": null,
            "overflow_x": null,
            "overflow_y": null,
            "padding": null,
            "right": null,
            "top": null,
            "visibility": null,
            "width": null
          }
        },
        "ac550ea77aa440e1a4f0504019b83ecc": {
          "model_module": "@jupyter-widgets/controls",
          "model_name": "DescriptionStyleModel",
          "model_module_version": "1.5.0",
          "state": {
            "_model_module": "@jupyter-widgets/controls",
            "_model_module_version": "1.5.0",
            "_model_name": "DescriptionStyleModel",
            "_view_count": null,
            "_view_module": "@jupyter-widgets/base",
            "_view_module_version": "1.2.0",
            "_view_name": "StyleView",
            "description_width": ""
          }
        },
        "d5a97fa54e064c59b7d7f8110852eb4f": {
          "model_module": "@jupyter-widgets/controls",
          "model_name": "HBoxModel",
          "model_module_version": "1.5.0",
          "state": {
            "_dom_classes": [],
            "_model_module": "@jupyter-widgets/controls",
            "_model_module_version": "1.5.0",
            "_model_name": "HBoxModel",
            "_view_count": null,
            "_view_module": "@jupyter-widgets/controls",
            "_view_module_version": "1.5.0",
            "_view_name": "HBoxView",
            "box_style": "",
            "children": [
              "IPY_MODEL_3b8af1cd659f4e288181324a8ac88556",
              "IPY_MODEL_4f011582a3cf4c49990f7abcc6633ec6",
              "IPY_MODEL_0c3daabc8bb64d63a3c32ec7075c9a9d"
            ],
            "layout": "IPY_MODEL_a2a522b1c8f94947a2e6a26d502693d0"
          }
        },
        "3b8af1cd659f4e288181324a8ac88556": {
          "model_module": "@jupyter-widgets/controls",
          "model_name": "HTMLModel",
          "model_module_version": "1.5.0",
          "state": {
            "_dom_classes": [],
            "_model_module": "@jupyter-widgets/controls",
            "_model_module_version": "1.5.0",
            "_model_name": "HTMLModel",
            "_view_count": null,
            "_view_module": "@jupyter-widgets/controls",
            "_view_module_version": "1.5.0",
            "_view_name": "HTMLView",
            "description": "",
            "description_tooltip": null,
            "layout": "IPY_MODEL_489c77747cd9426093f18696a0be9324",
            "placeholder": "​",
            "style": "IPY_MODEL_ca635dadb6eb46c4a338893de78b922b",
            "value": "Downloading: 100%"
          }
        },
        "4f011582a3cf4c49990f7abcc6633ec6": {
          "model_module": "@jupyter-widgets/controls",
          "model_name": "FloatProgressModel",
          "model_module_version": "1.5.0",
          "state": {
            "_dom_classes": [],
            "_model_module": "@jupyter-widgets/controls",
            "_model_module_version": "1.5.0",
            "_model_name": "FloatProgressModel",
            "_view_count": null,
            "_view_module": "@jupyter-widgets/controls",
            "_view_module_version": "1.5.0",
            "_view_name": "ProgressView",
            "bar_style": "success",
            "description": "",
            "description_tooltip": null,
            "layout": "IPY_MODEL_6bdeb301a38148748fd29a38308727d9",
            "max": 53,
            "min": 0,
            "orientation": "horizontal",
            "style": "IPY_MODEL_5095c2b1ba2842839f7e10e8320e21c3",
            "value": 53
          }
        },
        "0c3daabc8bb64d63a3c32ec7075c9a9d": {
          "model_module": "@jupyter-widgets/controls",
          "model_name": "HTMLModel",
          "model_module_version": "1.5.0",
          "state": {
            "_dom_classes": [],
            "_model_module": "@jupyter-widgets/controls",
            "_model_module_version": "1.5.0",
            "_model_name": "HTMLModel",
            "_view_count": null,
            "_view_module": "@jupyter-widgets/controls",
            "_view_module_version": "1.5.0",
            "_view_name": "HTMLView",
            "description": "",
            "description_tooltip": null,
            "layout": "IPY_MODEL_0b1537b569684b82a31f7aba997a0b44",
            "placeholder": "​",
            "style": "IPY_MODEL_ca698c4205b848848f878163a170043c",
            "value": " 53.0/53.0 [00:00&lt;00:00, 1.25kB/s]"
          }
        },
        "a2a522b1c8f94947a2e6a26d502693d0": {
          "model_module": "@jupyter-widgets/base",
          "model_name": "LayoutModel",
          "model_module_version": "1.2.0",
          "state": {
            "_model_module": "@jupyter-widgets/base",
            "_model_module_version": "1.2.0",
            "_model_name": "LayoutModel",
            "_view_count": null,
            "_view_module": "@jupyter-widgets/base",
            "_view_module_version": "1.2.0",
            "_view_name": "LayoutView",
            "align_content": null,
            "align_items": null,
            "align_self": null,
            "border": null,
            "bottom": null,
            "display": null,
            "flex": null,
            "flex_flow": null,
            "grid_area": null,
            "grid_auto_columns": null,
            "grid_auto_flow": null,
            "grid_auto_rows": null,
            "grid_column": null,
            "grid_gap": null,
            "grid_row": null,
            "grid_template_areas": null,
            "grid_template_columns": null,
            "grid_template_rows": null,
            "height": null,
            "justify_content": null,
            "justify_items": null,
            "left": null,
            "margin": null,
            "max_height": null,
            "max_width": null,
            "min_height": null,
            "min_width": null,
            "object_fit": null,
            "object_position": null,
            "order": null,
            "overflow": null,
            "overflow_x": null,
            "overflow_y": null,
            "padding": null,
            "right": null,
            "top": null,
            "visibility": null,
            "width": null
          }
        },
        "489c77747cd9426093f18696a0be9324": {
          "model_module": "@jupyter-widgets/base",
          "model_name": "LayoutModel",
          "model_module_version": "1.2.0",
          "state": {
            "_model_module": "@jupyter-widgets/base",
            "_model_module_version": "1.2.0",
            "_model_name": "LayoutModel",
            "_view_count": null,
            "_view_module": "@jupyter-widgets/base",
            "_view_module_version": "1.2.0",
            "_view_name": "LayoutView",
            "align_content": null,
            "align_items": null,
            "align_self": null,
            "border": null,
            "bottom": null,
            "display": null,
            "flex": null,
            "flex_flow": null,
            "grid_area": null,
            "grid_auto_columns": null,
            "grid_auto_flow": null,
            "grid_auto_rows": null,
            "grid_column": null,
            "grid_gap": null,
            "grid_row": null,
            "grid_template_areas": null,
            "grid_template_columns": null,
            "grid_template_rows": null,
            "height": null,
            "justify_content": null,
            "justify_items": null,
            "left": null,
            "margin": null,
            "max_height": null,
            "max_width": null,
            "min_height": null,
            "min_width": null,
            "object_fit": null,
            "object_position": null,
            "order": null,
            "overflow": null,
            "overflow_x": null,
            "overflow_y": null,
            "padding": null,
            "right": null,
            "top": null,
            "visibility": null,
            "width": null
          }
        },
        "ca635dadb6eb46c4a338893de78b922b": {
          "model_module": "@jupyter-widgets/controls",
          "model_name": "DescriptionStyleModel",
          "model_module_version": "1.5.0",
          "state": {
            "_model_module": "@jupyter-widgets/controls",
            "_model_module_version": "1.5.0",
            "_model_name": "DescriptionStyleModel",
            "_view_count": null,
            "_view_module": "@jupyter-widgets/base",
            "_view_module_version": "1.2.0",
            "_view_name": "StyleView",
            "description_width": ""
          }
        },
        "6bdeb301a38148748fd29a38308727d9": {
          "model_module": "@jupyter-widgets/base",
          "model_name": "LayoutModel",
          "model_module_version": "1.2.0",
          "state": {
            "_model_module": "@jupyter-widgets/base",
            "_model_module_version": "1.2.0",
            "_model_name": "LayoutModel",
            "_view_count": null,
            "_view_module": "@jupyter-widgets/base",
            "_view_module_version": "1.2.0",
            "_view_name": "LayoutView",
            "align_content": null,
            "align_items": null,
            "align_self": null,
            "border": null,
            "bottom": null,
            "display": null,
            "flex": null,
            "flex_flow": null,
            "grid_area": null,
            "grid_auto_columns": null,
            "grid_auto_flow": null,
            "grid_auto_rows": null,
            "grid_column": null,
            "grid_gap": null,
            "grid_row": null,
            "grid_template_areas": null,
            "grid_template_columns": null,
            "grid_template_rows": null,
            "height": null,
            "justify_content": null,
            "justify_items": null,
            "left": null,
            "margin": null,
            "max_height": null,
            "max_width": null,
            "min_height": null,
            "min_width": null,
            "object_fit": null,
            "object_position": null,
            "order": null,
            "overflow": null,
            "overflow_x": null,
            "overflow_y": null,
            "padding": null,
            "right": null,
            "top": null,
            "visibility": null,
            "width": null
          }
        },
        "5095c2b1ba2842839f7e10e8320e21c3": {
          "model_module": "@jupyter-widgets/controls",
          "model_name": "ProgressStyleModel",
          "model_module_version": "1.5.0",
          "state": {
            "_model_module": "@jupyter-widgets/controls",
            "_model_module_version": "1.5.0",
            "_model_name": "ProgressStyleModel",
            "_view_count": null,
            "_view_module": "@jupyter-widgets/base",
            "_view_module_version": "1.2.0",
            "_view_name": "StyleView",
            "bar_color": null,
            "description_width": ""
          }
        },
        "0b1537b569684b82a31f7aba997a0b44": {
          "model_module": "@jupyter-widgets/base",
          "model_name": "LayoutModel",
          "model_module_version": "1.2.0",
          "state": {
            "_model_module": "@jupyter-widgets/base",
            "_model_module_version": "1.2.0",
            "_model_name": "LayoutModel",
            "_view_count": null,
            "_view_module": "@jupyter-widgets/base",
            "_view_module_version": "1.2.0",
            "_view_name": "LayoutView",
            "align_content": null,
            "align_items": null,
            "align_self": null,
            "border": null,
            "bottom": null,
            "display": null,
            "flex": null,
            "flex_flow": null,
            "grid_area": null,
            "grid_auto_columns": null,
            "grid_auto_flow": null,
            "grid_auto_rows": null,
            "grid_column": null,
            "grid_gap": null,
            "grid_row": null,
            "grid_template_areas": null,
            "grid_template_columns": null,
            "grid_template_rows": null,
            "height": null,
            "justify_content": null,
            "justify_items": null,
            "left": null,
            "margin": null,
            "max_height": null,
            "max_width": null,
            "min_height": null,
            "min_width": null,
            "object_fit": null,
            "object_position": null,
            "order": null,
            "overflow": null,
            "overflow_x": null,
            "overflow_y": null,
            "padding": null,
            "right": null,
            "top": null,
            "visibility": null,
            "width": null
          }
        },
        "ca698c4205b848848f878163a170043c": {
          "model_module": "@jupyter-widgets/controls",
          "model_name": "DescriptionStyleModel",
          "model_module_version": "1.5.0",
          "state": {
            "_model_module": "@jupyter-widgets/controls",
            "_model_module_version": "1.5.0",
            "_model_name": "DescriptionStyleModel",
            "_view_count": null,
            "_view_module": "@jupyter-widgets/base",
            "_view_module_version": "1.2.0",
            "_view_name": "StyleView",
            "description_width": ""
          }
        },
        "b1d4ee77937948f383f4192099602531": {
          "model_module": "@jupyter-widgets/controls",
          "model_name": "HBoxModel",
          "model_module_version": "1.5.0",
          "state": {
            "_dom_classes": [],
            "_model_module": "@jupyter-widgets/controls",
            "_model_module_version": "1.5.0",
            "_model_name": "HBoxModel",
            "_view_count": null,
            "_view_module": "@jupyter-widgets/controls",
            "_view_module_version": "1.5.0",
            "_view_name": "HBoxView",
            "box_style": "",
            "children": [
              "IPY_MODEL_ce37534608c64820a4f13de8a6eade0d",
              "IPY_MODEL_590e57c1e2944001b1599b29a3b498e3",
              "IPY_MODEL_85a1fe3ead4d4d24a93e96df9a61959a"
            ],
            "layout": "IPY_MODEL_8ab3f360ebbf49149534a518a7f7d53f"
          }
        },
        "ce37534608c64820a4f13de8a6eade0d": {
          "model_module": "@jupyter-widgets/controls",
          "model_name": "HTMLModel",
          "model_module_version": "1.5.0",
          "state": {
            "_dom_classes": [],
            "_model_module": "@jupyter-widgets/controls",
            "_model_module_version": "1.5.0",
            "_model_name": "HTMLModel",
            "_view_count": null,
            "_view_module": "@jupyter-widgets/controls",
            "_view_module_version": "1.5.0",
            "_view_name": "HTMLView",
            "description": "",
            "description_tooltip": null,
            "layout": "IPY_MODEL_30a13c72762846ff98eab6e5cd32d946",
            "placeholder": "​",
            "style": "IPY_MODEL_bf70e03c5cb14ad8b23a77ce808abfb9",
            "value": "Downloading: 100%"
          }
        },
        "590e57c1e2944001b1599b29a3b498e3": {
          "model_module": "@jupyter-widgets/controls",
          "model_name": "FloatProgressModel",
          "model_module_version": "1.5.0",
          "state": {
            "_dom_classes": [],
            "_model_module": "@jupyter-widgets/controls",
            "_model_module_version": "1.5.0",
            "_model_name": "FloatProgressModel",
            "_view_count": null,
            "_view_module": "@jupyter-widgets/controls",
            "_view_module_version": "1.5.0",
            "_view_name": "ProgressView",
            "bar_style": "success",
            "description": "",
            "description_tooltip": null,
            "layout": "IPY_MODEL_9cbabd5066d14abf929988de04917942",
            "max": 112,
            "min": 0,
            "orientation": "horizontal",
            "style": "IPY_MODEL_35fc4f6eae9b45a6908140d82c9f3fa3",
            "value": 112
          }
        },
        "85a1fe3ead4d4d24a93e96df9a61959a": {
          "model_module": "@jupyter-widgets/controls",
          "model_name": "HTMLModel",
          "model_module_version": "1.5.0",
          "state": {
            "_dom_classes": [],
            "_model_module": "@jupyter-widgets/controls",
            "_model_module_version": "1.5.0",
            "_model_name": "HTMLModel",
            "_view_count": null,
            "_view_module": "@jupyter-widgets/controls",
            "_view_module_version": "1.5.0",
            "_view_name": "HTMLView",
            "description": "",
            "description_tooltip": null,
            "layout": "IPY_MODEL_8f002f3f66494c3ab72307e058dd2de3",
            "placeholder": "​",
            "style": "IPY_MODEL_5d6ac0e9646a486aa4c129366a5a24ad",
            "value": " 112/112 [00:00&lt;00:00, 2.77kB/s]"
          }
        },
        "8ab3f360ebbf49149534a518a7f7d53f": {
          "model_module": "@jupyter-widgets/base",
          "model_name": "LayoutModel",
          "model_module_version": "1.2.0",
          "state": {
            "_model_module": "@jupyter-widgets/base",
            "_model_module_version": "1.2.0",
            "_model_name": "LayoutModel",
            "_view_count": null,
            "_view_module": "@jupyter-widgets/base",
            "_view_module_version": "1.2.0",
            "_view_name": "LayoutView",
            "align_content": null,
            "align_items": null,
            "align_self": null,
            "border": null,
            "bottom": null,
            "display": null,
            "flex": null,
            "flex_flow": null,
            "grid_area": null,
            "grid_auto_columns": null,
            "grid_auto_flow": null,
            "grid_auto_rows": null,
            "grid_column": null,
            "grid_gap": null,
            "grid_row": null,
            "grid_template_areas": null,
            "grid_template_columns": null,
            "grid_template_rows": null,
            "height": null,
            "justify_content": null,
            "justify_items": null,
            "left": null,
            "margin": null,
            "max_height": null,
            "max_width": null,
            "min_height": null,
            "min_width": null,
            "object_fit": null,
            "object_position": null,
            "order": null,
            "overflow": null,
            "overflow_x": null,
            "overflow_y": null,
            "padding": null,
            "right": null,
            "top": null,
            "visibility": null,
            "width": null
          }
        },
        "30a13c72762846ff98eab6e5cd32d946": {
          "model_module": "@jupyter-widgets/base",
          "model_name": "LayoutModel",
          "model_module_version": "1.2.0",
          "state": {
            "_model_module": "@jupyter-widgets/base",
            "_model_module_version": "1.2.0",
            "_model_name": "LayoutModel",
            "_view_count": null,
            "_view_module": "@jupyter-widgets/base",
            "_view_module_version": "1.2.0",
            "_view_name": "LayoutView",
            "align_content": null,
            "align_items": null,
            "align_self": null,
            "border": null,
            "bottom": null,
            "display": null,
            "flex": null,
            "flex_flow": null,
            "grid_area": null,
            "grid_auto_columns": null,
            "grid_auto_flow": null,
            "grid_auto_rows": null,
            "grid_column": null,
            "grid_gap": null,
            "grid_row": null,
            "grid_template_areas": null,
            "grid_template_columns": null,
            "grid_template_rows": null,
            "height": null,
            "justify_content": null,
            "justify_items": null,
            "left": null,
            "margin": null,
            "max_height": null,
            "max_width": null,
            "min_height": null,
            "min_width": null,
            "object_fit": null,
            "object_position": null,
            "order": null,
            "overflow": null,
            "overflow_x": null,
            "overflow_y": null,
            "padding": null,
            "right": null,
            "top": null,
            "visibility": null,
            "width": null
          }
        },
        "bf70e03c5cb14ad8b23a77ce808abfb9": {
          "model_module": "@jupyter-widgets/controls",
          "model_name": "DescriptionStyleModel",
          "model_module_version": "1.5.0",
          "state": {
            "_model_module": "@jupyter-widgets/controls",
            "_model_module_version": "1.5.0",
            "_model_name": "DescriptionStyleModel",
            "_view_count": null,
            "_view_module": "@jupyter-widgets/base",
            "_view_module_version": "1.2.0",
            "_view_name": "StyleView",
            "description_width": ""
          }
        },
        "9cbabd5066d14abf929988de04917942": {
          "model_module": "@jupyter-widgets/base",
          "model_name": "LayoutModel",
          "model_module_version": "1.2.0",
          "state": {
            "_model_module": "@jupyter-widgets/base",
            "_model_module_version": "1.2.0",
            "_model_name": "LayoutModel",
            "_view_count": null,
            "_view_module": "@jupyter-widgets/base",
            "_view_module_version": "1.2.0",
            "_view_name": "LayoutView",
            "align_content": null,
            "align_items": null,
            "align_self": null,
            "border": null,
            "bottom": null,
            "display": null,
            "flex": null,
            "flex_flow": null,
            "grid_area": null,
            "grid_auto_columns": null,
            "grid_auto_flow": null,
            "grid_auto_rows": null,
            "grid_column": null,
            "grid_gap": null,
            "grid_row": null,
            "grid_template_areas": null,
            "grid_template_columns": null,
            "grid_template_rows": null,
            "height": null,
            "justify_content": null,
            "justify_items": null,
            "left": null,
            "margin": null,
            "max_height": null,
            "max_width": null,
            "min_height": null,
            "min_width": null,
            "object_fit": null,
            "object_position": null,
            "order": null,
            "overflow": null,
            "overflow_x": null,
            "overflow_y": null,
            "padding": null,
            "right": null,
            "top": null,
            "visibility": null,
            "width": null
          }
        },
        "35fc4f6eae9b45a6908140d82c9f3fa3": {
          "model_module": "@jupyter-widgets/controls",
          "model_name": "ProgressStyleModel",
          "model_module_version": "1.5.0",
          "state": {
            "_model_module": "@jupyter-widgets/controls",
            "_model_module_version": "1.5.0",
            "_model_name": "ProgressStyleModel",
            "_view_count": null,
            "_view_module": "@jupyter-widgets/base",
            "_view_module_version": "1.2.0",
            "_view_name": "StyleView",
            "bar_color": null,
            "description_width": ""
          }
        },
        "8f002f3f66494c3ab72307e058dd2de3": {
          "model_module": "@jupyter-widgets/base",
          "model_name": "LayoutModel",
          "model_module_version": "1.2.0",
          "state": {
            "_model_module": "@jupyter-widgets/base",
            "_model_module_version": "1.2.0",
            "_model_name": "LayoutModel",
            "_view_count": null,
            "_view_module": "@jupyter-widgets/base",
            "_view_module_version": "1.2.0",
            "_view_name": "LayoutView",
            "align_content": null,
            "align_items": null,
            "align_self": null,
            "border": null,
            "bottom": null,
            "display": null,
            "flex": null,
            "flex_flow": null,
            "grid_area": null,
            "grid_auto_columns": null,
            "grid_auto_flow": null,
            "grid_auto_rows": null,
            "grid_column": null,
            "grid_gap": null,
            "grid_row": null,
            "grid_template_areas": null,
            "grid_template_columns": null,
            "grid_template_rows": null,
            "height": null,
            "justify_content": null,
            "justify_items": null,
            "left": null,
            "margin": null,
            "max_height": null,
            "max_width": null,
            "min_height": null,
            "min_width": null,
            "object_fit": null,
            "object_position": null,
            "order": null,
            "overflow": null,
            "overflow_x": null,
            "overflow_y": null,
            "padding": null,
            "right": null,
            "top": null,
            "visibility": null,
            "width": null
          }
        },
        "5d6ac0e9646a486aa4c129366a5a24ad": {
          "model_module": "@jupyter-widgets/controls",
          "model_name": "DescriptionStyleModel",
          "model_module_version": "1.5.0",
          "state": {
            "_model_module": "@jupyter-widgets/controls",
            "_model_module_version": "1.5.0",
            "_model_name": "DescriptionStyleModel",
            "_view_count": null,
            "_view_module": "@jupyter-widgets/base",
            "_view_module_version": "1.2.0",
            "_view_name": "StyleView",
            "description_width": ""
          }
        },
        "659f9a490aac4df394b7951397e6ba35": {
          "model_module": "@jupyter-widgets/controls",
          "model_name": "HBoxModel",
          "model_module_version": "1.5.0",
          "state": {
            "_dom_classes": [],
            "_model_module": "@jupyter-widgets/controls",
            "_model_module_version": "1.5.0",
            "_model_name": "HBoxModel",
            "_view_count": null,
            "_view_module": "@jupyter-widgets/controls",
            "_view_module_version": "1.5.0",
            "_view_name": "HBoxView",
            "box_style": "",
            "children": [
              "IPY_MODEL_afa149a3821e439fa1b39f0be2a8644e",
              "IPY_MODEL_4e1ba31360ad4f81879e7f1541d5f400",
              "IPY_MODEL_b639422cd9db4dddb1f764f509c81049"
            ],
            "layout": "IPY_MODEL_1ea6ce74200442fca4a651bd31d4f8d0"
          }
        },
        "afa149a3821e439fa1b39f0be2a8644e": {
          "model_module": "@jupyter-widgets/controls",
          "model_name": "HTMLModel",
          "model_module_version": "1.5.0",
          "state": {
            "_dom_classes": [],
            "_model_module": "@jupyter-widgets/controls",
            "_model_module_version": "1.5.0",
            "_model_name": "HTMLModel",
            "_view_count": null,
            "_view_module": "@jupyter-widgets/controls",
            "_view_module_version": "1.5.0",
            "_view_name": "HTMLView",
            "description": "",
            "description_tooltip": null,
            "layout": "IPY_MODEL_48cb7e467fcd4227b997eafb28117acf",
            "placeholder": "​",
            "style": "IPY_MODEL_fd1b42bf68a943f68ab2fe1d180f311e",
            "value": "Downloading: 100%"
          }
        },
        "4e1ba31360ad4f81879e7f1541d5f400": {
          "model_module": "@jupyter-widgets/controls",
          "model_name": "FloatProgressModel",
          "model_module_version": "1.5.0",
          "state": {
            "_dom_classes": [],
            "_model_module": "@jupyter-widgets/controls",
            "_model_module_version": "1.5.0",
            "_model_name": "FloatProgressModel",
            "_view_count": null,
            "_view_module": "@jupyter-widgets/controls",
            "_view_module_version": "1.5.0",
            "_view_name": "ProgressView",
            "bar_style": "success",
            "description": "",
            "description_tooltip": null,
            "layout": "IPY_MODEL_9fc111d649c0412fb6ed37f9f6030ad2",
            "max": 466247,
            "min": 0,
            "orientation": "horizontal",
            "style": "IPY_MODEL_655cf64ce3fe4eac951c17aed05f552a",
            "value": 466247
          }
        },
        "b639422cd9db4dddb1f764f509c81049": {
          "model_module": "@jupyter-widgets/controls",
          "model_name": "HTMLModel",
          "model_module_version": "1.5.0",
          "state": {
            "_dom_classes": [],
            "_model_module": "@jupyter-widgets/controls",
            "_model_module_version": "1.5.0",
            "_model_name": "HTMLModel",
            "_view_count": null,
            "_view_module": "@jupyter-widgets/controls",
            "_view_module_version": "1.5.0",
            "_view_name": "HTMLView",
            "description": "",
            "description_tooltip": null,
            "layout": "IPY_MODEL_85a58f9f992b4929ba79931f4cec2bdc",
            "placeholder": "​",
            "style": "IPY_MODEL_ec86aae371454abebf041d0c17c3b290",
            "value": " 466k/466k [00:00&lt;00:00, 1.40MB/s]"
          }
        },
        "1ea6ce74200442fca4a651bd31d4f8d0": {
          "model_module": "@jupyter-widgets/base",
          "model_name": "LayoutModel",
          "model_module_version": "1.2.0",
          "state": {
            "_model_module": "@jupyter-widgets/base",
            "_model_module_version": "1.2.0",
            "_model_name": "LayoutModel",
            "_view_count": null,
            "_view_module": "@jupyter-widgets/base",
            "_view_module_version": "1.2.0",
            "_view_name": "LayoutView",
            "align_content": null,
            "align_items": null,
            "align_self": null,
            "border": null,
            "bottom": null,
            "display": null,
            "flex": null,
            "flex_flow": null,
            "grid_area": null,
            "grid_auto_columns": null,
            "grid_auto_flow": null,
            "grid_auto_rows": null,
            "grid_column": null,
            "grid_gap": null,
            "grid_row": null,
            "grid_template_areas": null,
            "grid_template_columns": null,
            "grid_template_rows": null,
            "height": null,
            "justify_content": null,
            "justify_items": null,
            "left": null,
            "margin": null,
            "max_height": null,
            "max_width": null,
            "min_height": null,
            "min_width": null,
            "object_fit": null,
            "object_position": null,
            "order": null,
            "overflow": null,
            "overflow_x": null,
            "overflow_y": null,
            "padding": null,
            "right": null,
            "top": null,
            "visibility": null,
            "width": null
          }
        },
        "48cb7e467fcd4227b997eafb28117acf": {
          "model_module": "@jupyter-widgets/base",
          "model_name": "LayoutModel",
          "model_module_version": "1.2.0",
          "state": {
            "_model_module": "@jupyter-widgets/base",
            "_model_module_version": "1.2.0",
            "_model_name": "LayoutModel",
            "_view_count": null,
            "_view_module": "@jupyter-widgets/base",
            "_view_module_version": "1.2.0",
            "_view_name": "LayoutView",
            "align_content": null,
            "align_items": null,
            "align_self": null,
            "border": null,
            "bottom": null,
            "display": null,
            "flex": null,
            "flex_flow": null,
            "grid_area": null,
            "grid_auto_columns": null,
            "grid_auto_flow": null,
            "grid_auto_rows": null,
            "grid_column": null,
            "grid_gap": null,
            "grid_row": null,
            "grid_template_areas": null,
            "grid_template_columns": null,
            "grid_template_rows": null,
            "height": null,
            "justify_content": null,
            "justify_items": null,
            "left": null,
            "margin": null,
            "max_height": null,
            "max_width": null,
            "min_height": null,
            "min_width": null,
            "object_fit": null,
            "object_position": null,
            "order": null,
            "overflow": null,
            "overflow_x": null,
            "overflow_y": null,
            "padding": null,
            "right": null,
            "top": null,
            "visibility": null,
            "width": null
          }
        },
        "fd1b42bf68a943f68ab2fe1d180f311e": {
          "model_module": "@jupyter-widgets/controls",
          "model_name": "DescriptionStyleModel",
          "model_module_version": "1.5.0",
          "state": {
            "_model_module": "@jupyter-widgets/controls",
            "_model_module_version": "1.5.0",
            "_model_name": "DescriptionStyleModel",
            "_view_count": null,
            "_view_module": "@jupyter-widgets/base",
            "_view_module_version": "1.2.0",
            "_view_name": "StyleView",
            "description_width": ""
          }
        },
        "9fc111d649c0412fb6ed37f9f6030ad2": {
          "model_module": "@jupyter-widgets/base",
          "model_name": "LayoutModel",
          "model_module_version": "1.2.0",
          "state": {
            "_model_module": "@jupyter-widgets/base",
            "_model_module_version": "1.2.0",
            "_model_name": "LayoutModel",
            "_view_count": null,
            "_view_module": "@jupyter-widgets/base",
            "_view_module_version": "1.2.0",
            "_view_name": "LayoutView",
            "align_content": null,
            "align_items": null,
            "align_self": null,
            "border": null,
            "bottom": null,
            "display": null,
            "flex": null,
            "flex_flow": null,
            "grid_area": null,
            "grid_auto_columns": null,
            "grid_auto_flow": null,
            "grid_auto_rows": null,
            "grid_column": null,
            "grid_gap": null,
            "grid_row": null,
            "grid_template_areas": null,
            "grid_template_columns": null,
            "grid_template_rows": null,
            "height": null,
            "justify_content": null,
            "justify_items": null,
            "left": null,
            "margin": null,
            "max_height": null,
            "max_width": null,
            "min_height": null,
            "min_width": null,
            "object_fit": null,
            "object_position": null,
            "order": null,
            "overflow": null,
            "overflow_x": null,
            "overflow_y": null,
            "padding": null,
            "right": null,
            "top": null,
            "visibility": null,
            "width": null
          }
        },
        "655cf64ce3fe4eac951c17aed05f552a": {
          "model_module": "@jupyter-widgets/controls",
          "model_name": "ProgressStyleModel",
          "model_module_version": "1.5.0",
          "state": {
            "_model_module": "@jupyter-widgets/controls",
            "_model_module_version": "1.5.0",
            "_model_name": "ProgressStyleModel",
            "_view_count": null,
            "_view_module": "@jupyter-widgets/base",
            "_view_module_version": "1.2.0",
            "_view_name": "StyleView",
            "bar_color": null,
            "description_width": ""
          }
        },
        "85a58f9f992b4929ba79931f4cec2bdc": {
          "model_module": "@jupyter-widgets/base",
          "model_name": "LayoutModel",
          "model_module_version": "1.2.0",
          "state": {
            "_model_module": "@jupyter-widgets/base",
            "_model_module_version": "1.2.0",
            "_model_name": "LayoutModel",
            "_view_count": null,
            "_view_module": "@jupyter-widgets/base",
            "_view_module_version": "1.2.0",
            "_view_name": "LayoutView",
            "align_content": null,
            "align_items": null,
            "align_self": null,
            "border": null,
            "bottom": null,
            "display": null,
            "flex": null,
            "flex_flow": null,
            "grid_area": null,
            "grid_auto_columns": null,
            "grid_auto_flow": null,
            "grid_auto_rows": null,
            "grid_column": null,
            "grid_gap": null,
            "grid_row": null,
            "grid_template_areas": null,
            "grid_template_columns": null,
            "grid_template_rows": null,
            "height": null,
            "justify_content": null,
            "justify_items": null,
            "left": null,
            "margin": null,
            "max_height": null,
            "max_width": null,
            "min_height": null,
            "min_width": null,
            "object_fit": null,
            "object_position": null,
            "order": null,
            "overflow": null,
            "overflow_x": null,
            "overflow_y": null,
            "padding": null,
            "right": null,
            "top": null,
            "visibility": null,
            "width": null
          }
        },
        "ec86aae371454abebf041d0c17c3b290": {
          "model_module": "@jupyter-widgets/controls",
          "model_name": "DescriptionStyleModel",
          "model_module_version": "1.5.0",
          "state": {
            "_model_module": "@jupyter-widgets/controls",
            "_model_module_version": "1.5.0",
            "_model_name": "DescriptionStyleModel",
            "_view_count": null,
            "_view_module": "@jupyter-widgets/base",
            "_view_module_version": "1.2.0",
            "_view_name": "StyleView",
            "description_width": ""
          }
        },
        "5996be5c95be4a478af40f559e6b5b18": {
          "model_module": "@jupyter-widgets/controls",
          "model_name": "HBoxModel",
          "model_module_version": "1.5.0",
          "state": {
            "_dom_classes": [],
            "_model_module": "@jupyter-widgets/controls",
            "_model_module_version": "1.5.0",
            "_model_name": "HBoxModel",
            "_view_count": null,
            "_view_module": "@jupyter-widgets/controls",
            "_view_module_version": "1.5.0",
            "_view_name": "HBoxView",
            "box_style": "",
            "children": [
              "IPY_MODEL_5507a721c9b545909f2a867fc0c54627",
              "IPY_MODEL_59f3716280a94695b63b227a54fc215e",
              "IPY_MODEL_3d50a29cbfe74486969f7310e5c9890d"
            ],
            "layout": "IPY_MODEL_06e34f076e864859bc69be3d3b984003"
          }
        },
        "5507a721c9b545909f2a867fc0c54627": {
          "model_module": "@jupyter-widgets/controls",
          "model_name": "HTMLModel",
          "model_module_version": "1.5.0",
          "state": {
            "_dom_classes": [],
            "_model_module": "@jupyter-widgets/controls",
            "_model_module_version": "1.5.0",
            "_model_name": "HTMLModel",
            "_view_count": null,
            "_view_module": "@jupyter-widgets/controls",
            "_view_module_version": "1.5.0",
            "_view_name": "HTMLView",
            "description": "",
            "description_tooltip": null,
            "layout": "IPY_MODEL_460b23ef9ef246a78418064067903ad6",
            "placeholder": "​",
            "style": "IPY_MODEL_a8cb6ae998e34ec5b7941bc7e362028a",
            "value": "Downloading: 100%"
          }
        },
        "59f3716280a94695b63b227a54fc215e": {
          "model_module": "@jupyter-widgets/controls",
          "model_name": "FloatProgressModel",
          "model_module_version": "1.5.0",
          "state": {
            "_dom_classes": [],
            "_model_module": "@jupyter-widgets/controls",
            "_model_module_version": "1.5.0",
            "_model_name": "FloatProgressModel",
            "_view_count": null,
            "_view_module": "@jupyter-widgets/controls",
            "_view_module_version": "1.5.0",
            "_view_name": "ProgressView",
            "bar_style": "success",
            "description": "",
            "description_tooltip": null,
            "layout": "IPY_MODEL_0dfcad25d1c94f11aaa0317eeda50e79",
            "max": 350,
            "min": 0,
            "orientation": "horizontal",
            "style": "IPY_MODEL_b8eaee0723c64c6aac162bddd6d41e5a",
            "value": 350
          }
        },
        "3d50a29cbfe74486969f7310e5c9890d": {
          "model_module": "@jupyter-widgets/controls",
          "model_name": "HTMLModel",
          "model_module_version": "1.5.0",
          "state": {
            "_dom_classes": [],
            "_model_module": "@jupyter-widgets/controls",
            "_model_module_version": "1.5.0",
            "_model_name": "HTMLModel",
            "_view_count": null,
            "_view_module": "@jupyter-widgets/controls",
            "_view_module_version": "1.5.0",
            "_view_name": "HTMLView",
            "description": "",
            "description_tooltip": null,
            "layout": "IPY_MODEL_7673ca6120784780bc8654d09ce18bd4",
            "placeholder": "​",
            "style": "IPY_MODEL_b50234713a274947aa01f448f61e9c72",
            "value": " 350/350 [00:00&lt;00:00, 8.76kB/s]"
          }
        },
        "06e34f076e864859bc69be3d3b984003": {
          "model_module": "@jupyter-widgets/base",
          "model_name": "LayoutModel",
          "model_module_version": "1.2.0",
          "state": {
            "_model_module": "@jupyter-widgets/base",
            "_model_module_version": "1.2.0",
            "_model_name": "LayoutModel",
            "_view_count": null,
            "_view_module": "@jupyter-widgets/base",
            "_view_module_version": "1.2.0",
            "_view_name": "LayoutView",
            "align_content": null,
            "align_items": null,
            "align_self": null,
            "border": null,
            "bottom": null,
            "display": null,
            "flex": null,
            "flex_flow": null,
            "grid_area": null,
            "grid_auto_columns": null,
            "grid_auto_flow": null,
            "grid_auto_rows": null,
            "grid_column": null,
            "grid_gap": null,
            "grid_row": null,
            "grid_template_areas": null,
            "grid_template_columns": null,
            "grid_template_rows": null,
            "height": null,
            "justify_content": null,
            "justify_items": null,
            "left": null,
            "margin": null,
            "max_height": null,
            "max_width": null,
            "min_height": null,
            "min_width": null,
            "object_fit": null,
            "object_position": null,
            "order": null,
            "overflow": null,
            "overflow_x": null,
            "overflow_y": null,
            "padding": null,
            "right": null,
            "top": null,
            "visibility": null,
            "width": null
          }
        },
        "460b23ef9ef246a78418064067903ad6": {
          "model_module": "@jupyter-widgets/base",
          "model_name": "LayoutModel",
          "model_module_version": "1.2.0",
          "state": {
            "_model_module": "@jupyter-widgets/base",
            "_model_module_version": "1.2.0",
            "_model_name": "LayoutModel",
            "_view_count": null,
            "_view_module": "@jupyter-widgets/base",
            "_view_module_version": "1.2.0",
            "_view_name": "LayoutView",
            "align_content": null,
            "align_items": null,
            "align_self": null,
            "border": null,
            "bottom": null,
            "display": null,
            "flex": null,
            "flex_flow": null,
            "grid_area": null,
            "grid_auto_columns": null,
            "grid_auto_flow": null,
            "grid_auto_rows": null,
            "grid_column": null,
            "grid_gap": null,
            "grid_row": null,
            "grid_template_areas": null,
            "grid_template_columns": null,
            "grid_template_rows": null,
            "height": null,
            "justify_content": null,
            "justify_items": null,
            "left": null,
            "margin": null,
            "max_height": null,
            "max_width": null,
            "min_height": null,
            "min_width": null,
            "object_fit": null,
            "object_position": null,
            "order": null,
            "overflow": null,
            "overflow_x": null,
            "overflow_y": null,
            "padding": null,
            "right": null,
            "top": null,
            "visibility": null,
            "width": null
          }
        },
        "a8cb6ae998e34ec5b7941bc7e362028a": {
          "model_module": "@jupyter-widgets/controls",
          "model_name": "DescriptionStyleModel",
          "model_module_version": "1.5.0",
          "state": {
            "_model_module": "@jupyter-widgets/controls",
            "_model_module_version": "1.5.0",
            "_model_name": "DescriptionStyleModel",
            "_view_count": null,
            "_view_module": "@jupyter-widgets/base",
            "_view_module_version": "1.2.0",
            "_view_name": "StyleView",
            "description_width": ""
          }
        },
        "0dfcad25d1c94f11aaa0317eeda50e79": {
          "model_module": "@jupyter-widgets/base",
          "model_name": "LayoutModel",
          "model_module_version": "1.2.0",
          "state": {
            "_model_module": "@jupyter-widgets/base",
            "_model_module_version": "1.2.0",
            "_model_name": "LayoutModel",
            "_view_count": null,
            "_view_module": "@jupyter-widgets/base",
            "_view_module_version": "1.2.0",
            "_view_name": "LayoutView",
            "align_content": null,
            "align_items": null,
            "align_self": null,
            "border": null,
            "bottom": null,
            "display": null,
            "flex": null,
            "flex_flow": null,
            "grid_area": null,
            "grid_auto_columns": null,
            "grid_auto_flow": null,
            "grid_auto_rows": null,
            "grid_column": null,
            "grid_gap": null,
            "grid_row": null,
            "grid_template_areas": null,
            "grid_template_columns": null,
            "grid_template_rows": null,
            "height": null,
            "justify_content": null,
            "justify_items": null,
            "left": null,
            "margin": null,
            "max_height": null,
            "max_width": null,
            "min_height": null,
            "min_width": null,
            "object_fit": null,
            "object_position": null,
            "order": null,
            "overflow": null,
            "overflow_x": null,
            "overflow_y": null,
            "padding": null,
            "right": null,
            "top": null,
            "visibility": null,
            "width": null
          }
        },
        "b8eaee0723c64c6aac162bddd6d41e5a": {
          "model_module": "@jupyter-widgets/controls",
          "model_name": "ProgressStyleModel",
          "model_module_version": "1.5.0",
          "state": {
            "_model_module": "@jupyter-widgets/controls",
            "_model_module_version": "1.5.0",
            "_model_name": "ProgressStyleModel",
            "_view_count": null,
            "_view_module": "@jupyter-widgets/base",
            "_view_module_version": "1.2.0",
            "_view_name": "StyleView",
            "bar_color": null,
            "description_width": ""
          }
        },
        "7673ca6120784780bc8654d09ce18bd4": {
          "model_module": "@jupyter-widgets/base",
          "model_name": "LayoutModel",
          "model_module_version": "1.2.0",
          "state": {
            "_model_module": "@jupyter-widgets/base",
            "_model_module_version": "1.2.0",
            "_model_name": "LayoutModel",
            "_view_count": null,
            "_view_module": "@jupyter-widgets/base",
            "_view_module_version": "1.2.0",
            "_view_name": "LayoutView",
            "align_content": null,
            "align_items": null,
            "align_self": null,
            "border": null,
            "bottom": null,
            "display": null,
            "flex": null,
            "flex_flow": null,
            "grid_area": null,
            "grid_auto_columns": null,
            "grid_auto_flow": null,
            "grid_auto_rows": null,
            "grid_column": null,
            "grid_gap": null,
            "grid_row": null,
            "grid_template_areas": null,
            "grid_template_columns": null,
            "grid_template_rows": null,
            "height": null,
            "justify_content": null,
            "justify_items": null,
            "left": null,
            "margin": null,
            "max_height": null,
            "max_width": null,
            "min_height": null,
            "min_width": null,
            "object_fit": null,
            "object_position": null,
            "order": null,
            "overflow": null,
            "overflow_x": null,
            "overflow_y": null,
            "padding": null,
            "right": null,
            "top": null,
            "visibility": null,
            "width": null
          }
        },
        "b50234713a274947aa01f448f61e9c72": {
          "model_module": "@jupyter-widgets/controls",
          "model_name": "DescriptionStyleModel",
          "model_module_version": "1.5.0",
          "state": {
            "_model_module": "@jupyter-widgets/controls",
            "_model_module_version": "1.5.0",
            "_model_name": "DescriptionStyleModel",
            "_view_count": null,
            "_view_module": "@jupyter-widgets/base",
            "_view_module_version": "1.2.0",
            "_view_name": "StyleView",
            "description_width": ""
          }
        },
        "00394498910a47f6a617ff90fb401248": {
          "model_module": "@jupyter-widgets/controls",
          "model_name": "HBoxModel",
          "model_module_version": "1.5.0",
          "state": {
            "_dom_classes": [],
            "_model_module": "@jupyter-widgets/controls",
            "_model_module_version": "1.5.0",
            "_model_name": "HBoxModel",
            "_view_count": null,
            "_view_module": "@jupyter-widgets/controls",
            "_view_module_version": "1.5.0",
            "_view_name": "HBoxView",
            "box_style": "",
            "children": [
              "IPY_MODEL_d35194e345264ca5901b1faef523adc5",
              "IPY_MODEL_61487fe0ecf3460aa150bf5107e25eb3",
              "IPY_MODEL_e8ce95b9bf134367bd7076a09e0f5b08"
            ],
            "layout": "IPY_MODEL_933951a3ca544a0584321ef3186ebff5"
          }
        },
        "d35194e345264ca5901b1faef523adc5": {
          "model_module": "@jupyter-widgets/controls",
          "model_name": "HTMLModel",
          "model_module_version": "1.5.0",
          "state": {
            "_dom_classes": [],
            "_model_module": "@jupyter-widgets/controls",
            "_model_module_version": "1.5.0",
            "_model_name": "HTMLModel",
            "_view_count": null,
            "_view_module": "@jupyter-widgets/controls",
            "_view_module_version": "1.5.0",
            "_view_name": "HTMLView",
            "description": "",
            "description_tooltip": null,
            "layout": "IPY_MODEL_a1abedc66f284d77bdc4473592dbc6e9",
            "placeholder": "​",
            "style": "IPY_MODEL_85df78dccde94883946cef09d661b500",
            "value": "Downloading: 100%"
          }
        },
        "61487fe0ecf3460aa150bf5107e25eb3": {
          "model_module": "@jupyter-widgets/controls",
          "model_name": "FloatProgressModel",
          "model_module_version": "1.5.0",
          "state": {
            "_dom_classes": [],
            "_model_module": "@jupyter-widgets/controls",
            "_model_module_version": "1.5.0",
            "_model_name": "FloatProgressModel",
            "_view_count": null,
            "_view_module": "@jupyter-widgets/controls",
            "_view_module_version": "1.5.0",
            "_view_name": "ProgressView",
            "bar_style": "success",
            "description": "",
            "description_tooltip": null,
            "layout": "IPY_MODEL_1c10d7ca149240cdbbb706b696f448df",
            "max": 13156,
            "min": 0,
            "orientation": "horizontal",
            "style": "IPY_MODEL_6170f1dac17f46109d2aed1bd2e90129",
            "value": 13156
          }
        },
        "e8ce95b9bf134367bd7076a09e0f5b08": {
          "model_module": "@jupyter-widgets/controls",
          "model_name": "HTMLModel",
          "model_module_version": "1.5.0",
          "state": {
            "_dom_classes": [],
            "_model_module": "@jupyter-widgets/controls",
            "_model_module_version": "1.5.0",
            "_model_name": "HTMLModel",
            "_view_count": null,
            "_view_module": "@jupyter-widgets/controls",
            "_view_module_version": "1.5.0",
            "_view_name": "HTMLView",
            "description": "",
            "description_tooltip": null,
            "layout": "IPY_MODEL_325e328bdedd4df7958d1e28ec8cc553",
            "placeholder": "​",
            "style": "IPY_MODEL_0afefa1b1f42409295e32c8215ee5cdb",
            "value": " 13.2k/13.2k [00:00&lt;00:00, 227kB/s]"
          }
        },
        "933951a3ca544a0584321ef3186ebff5": {
          "model_module": "@jupyter-widgets/base",
          "model_name": "LayoutModel",
          "model_module_version": "1.2.0",
          "state": {
            "_model_module": "@jupyter-widgets/base",
            "_model_module_version": "1.2.0",
            "_model_name": "LayoutModel",
            "_view_count": null,
            "_view_module": "@jupyter-widgets/base",
            "_view_module_version": "1.2.0",
            "_view_name": "LayoutView",
            "align_content": null,
            "align_items": null,
            "align_self": null,
            "border": null,
            "bottom": null,
            "display": null,
            "flex": null,
            "flex_flow": null,
            "grid_area": null,
            "grid_auto_columns": null,
            "grid_auto_flow": null,
            "grid_auto_rows": null,
            "grid_column": null,
            "grid_gap": null,
            "grid_row": null,
            "grid_template_areas": null,
            "grid_template_columns": null,
            "grid_template_rows": null,
            "height": null,
            "justify_content": null,
            "justify_items": null,
            "left": null,
            "margin": null,
            "max_height": null,
            "max_width": null,
            "min_height": null,
            "min_width": null,
            "object_fit": null,
            "object_position": null,
            "order": null,
            "overflow": null,
            "overflow_x": null,
            "overflow_y": null,
            "padding": null,
            "right": null,
            "top": null,
            "visibility": null,
            "width": null
          }
        },
        "a1abedc66f284d77bdc4473592dbc6e9": {
          "model_module": "@jupyter-widgets/base",
          "model_name": "LayoutModel",
          "model_module_version": "1.2.0",
          "state": {
            "_model_module": "@jupyter-widgets/base",
            "_model_module_version": "1.2.0",
            "_model_name": "LayoutModel",
            "_view_count": null,
            "_view_module": "@jupyter-widgets/base",
            "_view_module_version": "1.2.0",
            "_view_name": "LayoutView",
            "align_content": null,
            "align_items": null,
            "align_self": null,
            "border": null,
            "bottom": null,
            "display": null,
            "flex": null,
            "flex_flow": null,
            "grid_area": null,
            "grid_auto_columns": null,
            "grid_auto_flow": null,
            "grid_auto_rows": null,
            "grid_column": null,
            "grid_gap": null,
            "grid_row": null,
            "grid_template_areas": null,
            "grid_template_columns": null,
            "grid_template_rows": null,
            "height": null,
            "justify_content": null,
            "justify_items": null,
            "left": null,
            "margin": null,
            "max_height": null,
            "max_width": null,
            "min_height": null,
            "min_width": null,
            "object_fit": null,
            "object_position": null,
            "order": null,
            "overflow": null,
            "overflow_x": null,
            "overflow_y": null,
            "padding": null,
            "right": null,
            "top": null,
            "visibility": null,
            "width": null
          }
        },
        "85df78dccde94883946cef09d661b500": {
          "model_module": "@jupyter-widgets/controls",
          "model_name": "DescriptionStyleModel",
          "model_module_version": "1.5.0",
          "state": {
            "_model_module": "@jupyter-widgets/controls",
            "_model_module_version": "1.5.0",
            "_model_name": "DescriptionStyleModel",
            "_view_count": null,
            "_view_module": "@jupyter-widgets/base",
            "_view_module_version": "1.2.0",
            "_view_name": "StyleView",
            "description_width": ""
          }
        },
        "1c10d7ca149240cdbbb706b696f448df": {
          "model_module": "@jupyter-widgets/base",
          "model_name": "LayoutModel",
          "model_module_version": "1.2.0",
          "state": {
            "_model_module": "@jupyter-widgets/base",
            "_model_module_version": "1.2.0",
            "_model_name": "LayoutModel",
            "_view_count": null,
            "_view_module": "@jupyter-widgets/base",
            "_view_module_version": "1.2.0",
            "_view_name": "LayoutView",
            "align_content": null,
            "align_items": null,
            "align_self": null,
            "border": null,
            "bottom": null,
            "display": null,
            "flex": null,
            "flex_flow": null,
            "grid_area": null,
            "grid_auto_columns": null,
            "grid_auto_flow": null,
            "grid_auto_rows": null,
            "grid_column": null,
            "grid_gap": null,
            "grid_row": null,
            "grid_template_areas": null,
            "grid_template_columns": null,
            "grid_template_rows": null,
            "height": null,
            "justify_content": null,
            "justify_items": null,
            "left": null,
            "margin": null,
            "max_height": null,
            "max_width": null,
            "min_height": null,
            "min_width": null,
            "object_fit": null,
            "object_position": null,
            "order": null,
            "overflow": null,
            "overflow_x": null,
            "overflow_y": null,
            "padding": null,
            "right": null,
            "top": null,
            "visibility": null,
            "width": null
          }
        },
        "6170f1dac17f46109d2aed1bd2e90129": {
          "model_module": "@jupyter-widgets/controls",
          "model_name": "ProgressStyleModel",
          "model_module_version": "1.5.0",
          "state": {
            "_model_module": "@jupyter-widgets/controls",
            "_model_module_version": "1.5.0",
            "_model_name": "ProgressStyleModel",
            "_view_count": null,
            "_view_module": "@jupyter-widgets/base",
            "_view_module_version": "1.2.0",
            "_view_name": "StyleView",
            "bar_color": null,
            "description_width": ""
          }
        },
        "325e328bdedd4df7958d1e28ec8cc553": {
          "model_module": "@jupyter-widgets/base",
          "model_name": "LayoutModel",
          "model_module_version": "1.2.0",
          "state": {
            "_model_module": "@jupyter-widgets/base",
            "_model_module_version": "1.2.0",
            "_model_name": "LayoutModel",
            "_view_count": null,
            "_view_module": "@jupyter-widgets/base",
            "_view_module_version": "1.2.0",
            "_view_name": "LayoutView",
            "align_content": null,
            "align_items": null,
            "align_self": null,
            "border": null,
            "bottom": null,
            "display": null,
            "flex": null,
            "flex_flow": null,
            "grid_area": null,
            "grid_auto_columns": null,
            "grid_auto_flow": null,
            "grid_auto_rows": null,
            "grid_column": null,
            "grid_gap": null,
            "grid_row": null,
            "grid_template_areas": null,
            "grid_template_columns": null,
            "grid_template_rows": null,
            "height": null,
            "justify_content": null,
            "justify_items": null,
            "left": null,
            "margin": null,
            "max_height": null,
            "max_width": null,
            "min_height": null,
            "min_width": null,
            "object_fit": null,
            "object_position": null,
            "order": null,
            "overflow": null,
            "overflow_x": null,
            "overflow_y": null,
            "padding": null,
            "right": null,
            "top": null,
            "visibility": null,
            "width": null
          }
        },
        "0afefa1b1f42409295e32c8215ee5cdb": {
          "model_module": "@jupyter-widgets/controls",
          "model_name": "DescriptionStyleModel",
          "model_module_version": "1.5.0",
          "state": {
            "_model_module": "@jupyter-widgets/controls",
            "_model_module_version": "1.5.0",
            "_model_name": "DescriptionStyleModel",
            "_view_count": null,
            "_view_module": "@jupyter-widgets/base",
            "_view_module_version": "1.2.0",
            "_view_name": "StyleView",
            "description_width": ""
          }
        },
        "169d8103df564042aa0349d0b01f4c8b": {
          "model_module": "@jupyter-widgets/controls",
          "model_name": "HBoxModel",
          "model_module_version": "1.5.0",
          "state": {
            "_dom_classes": [],
            "_model_module": "@jupyter-widgets/controls",
            "_model_module_version": "1.5.0",
            "_model_name": "HBoxModel",
            "_view_count": null,
            "_view_module": "@jupyter-widgets/controls",
            "_view_module_version": "1.5.0",
            "_view_name": "HBoxView",
            "box_style": "",
            "children": [
              "IPY_MODEL_940b9351ff6448a88bba37d05ef36a28",
              "IPY_MODEL_5cd2e42595194d6bb6eca1a9ae791d76",
              "IPY_MODEL_ca3191cfbf594fe3989909de324dd887"
            ],
            "layout": "IPY_MODEL_f94195b7ea9a48d89c14e25f01dd13ab"
          }
        },
        "940b9351ff6448a88bba37d05ef36a28": {
          "model_module": "@jupyter-widgets/controls",
          "model_name": "HTMLModel",
          "model_module_version": "1.5.0",
          "state": {
            "_dom_classes": [],
            "_model_module": "@jupyter-widgets/controls",
            "_model_module_version": "1.5.0",
            "_model_name": "HTMLModel",
            "_view_count": null,
            "_view_module": "@jupyter-widgets/controls",
            "_view_module_version": "1.5.0",
            "_view_name": "HTMLView",
            "description": "",
            "description_tooltip": null,
            "layout": "IPY_MODEL_61669ebc557349a3b3bdd79e89b31aed",
            "placeholder": "​",
            "style": "IPY_MODEL_b56b0fd1351843349570ca5675be50a3",
            "value": "Downloading: 100%"
          }
        },
        "5cd2e42595194d6bb6eca1a9ae791d76": {
          "model_module": "@jupyter-widgets/controls",
          "model_name": "FloatProgressModel",
          "model_module_version": "1.5.0",
          "state": {
            "_dom_classes": [],
            "_model_module": "@jupyter-widgets/controls",
            "_model_module_version": "1.5.0",
            "_model_name": "FloatProgressModel",
            "_view_count": null,
            "_view_module": "@jupyter-widgets/controls",
            "_view_module_version": "1.5.0",
            "_view_name": "ProgressView",
            "bar_style": "success",
            "description": "",
            "description_tooltip": null,
            "layout": "IPY_MODEL_0ea7546979aa4506b39a9157f5b73f9d",
            "max": 231508,
            "min": 0,
            "orientation": "horizontal",
            "style": "IPY_MODEL_060eb9af57a14548952a71e43a47de9a",
            "value": 231508
          }
        },
        "ca3191cfbf594fe3989909de324dd887": {
          "model_module": "@jupyter-widgets/controls",
          "model_name": "HTMLModel",
          "model_module_version": "1.5.0",
          "state": {
            "_dom_classes": [],
            "_model_module": "@jupyter-widgets/controls",
            "_model_module_version": "1.5.0",
            "_model_name": "HTMLModel",
            "_view_count": null,
            "_view_module": "@jupyter-widgets/controls",
            "_view_module_version": "1.5.0",
            "_view_name": "HTMLView",
            "description": "",
            "description_tooltip": null,
            "layout": "IPY_MODEL_2ea61271a3574f59b83b669ac4beed54",
            "placeholder": "​",
            "style": "IPY_MODEL_f964ea66ddf541ac869e635311ace7da",
            "value": " 232k/232k [00:00&lt;00:00, 3.00kB/s]"
          }
        },
        "f94195b7ea9a48d89c14e25f01dd13ab": {
          "model_module": "@jupyter-widgets/base",
          "model_name": "LayoutModel",
          "model_module_version": "1.2.0",
          "state": {
            "_model_module": "@jupyter-widgets/base",
            "_model_module_version": "1.2.0",
            "_model_name": "LayoutModel",
            "_view_count": null,
            "_view_module": "@jupyter-widgets/base",
            "_view_module_version": "1.2.0",
            "_view_name": "LayoutView",
            "align_content": null,
            "align_items": null,
            "align_self": null,
            "border": null,
            "bottom": null,
            "display": null,
            "flex": null,
            "flex_flow": null,
            "grid_area": null,
            "grid_auto_columns": null,
            "grid_auto_flow": null,
            "grid_auto_rows": null,
            "grid_column": null,
            "grid_gap": null,
            "grid_row": null,
            "grid_template_areas": null,
            "grid_template_columns": null,
            "grid_template_rows": null,
            "height": null,
            "justify_content": null,
            "justify_items": null,
            "left": null,
            "margin": null,
            "max_height": null,
            "max_width": null,
            "min_height": null,
            "min_width": null,
            "object_fit": null,
            "object_position": null,
            "order": null,
            "overflow": null,
            "overflow_x": null,
            "overflow_y": null,
            "padding": null,
            "right": null,
            "top": null,
            "visibility": null,
            "width": null
          }
        },
        "61669ebc557349a3b3bdd79e89b31aed": {
          "model_module": "@jupyter-widgets/base",
          "model_name": "LayoutModel",
          "model_module_version": "1.2.0",
          "state": {
            "_model_module": "@jupyter-widgets/base",
            "_model_module_version": "1.2.0",
            "_model_name": "LayoutModel",
            "_view_count": null,
            "_view_module": "@jupyter-widgets/base",
            "_view_module_version": "1.2.0",
            "_view_name": "LayoutView",
            "align_content": null,
            "align_items": null,
            "align_self": null,
            "border": null,
            "bottom": null,
            "display": null,
            "flex": null,
            "flex_flow": null,
            "grid_area": null,
            "grid_auto_columns": null,
            "grid_auto_flow": null,
            "grid_auto_rows": null,
            "grid_column": null,
            "grid_gap": null,
            "grid_row": null,
            "grid_template_areas": null,
            "grid_template_columns": null,
            "grid_template_rows": null,
            "height": null,
            "justify_content": null,
            "justify_items": null,
            "left": null,
            "margin": null,
            "max_height": null,
            "max_width": null,
            "min_height": null,
            "min_width": null,
            "object_fit": null,
            "object_position": null,
            "order": null,
            "overflow": null,
            "overflow_x": null,
            "overflow_y": null,
            "padding": null,
            "right": null,
            "top": null,
            "visibility": null,
            "width": null
          }
        },
        "b56b0fd1351843349570ca5675be50a3": {
          "model_module": "@jupyter-widgets/controls",
          "model_name": "DescriptionStyleModel",
          "model_module_version": "1.5.0",
          "state": {
            "_model_module": "@jupyter-widgets/controls",
            "_model_module_version": "1.5.0",
            "_model_name": "DescriptionStyleModel",
            "_view_count": null,
            "_view_module": "@jupyter-widgets/base",
            "_view_module_version": "1.2.0",
            "_view_name": "StyleView",
            "description_width": ""
          }
        },
        "0ea7546979aa4506b39a9157f5b73f9d": {
          "model_module": "@jupyter-widgets/base",
          "model_name": "LayoutModel",
          "model_module_version": "1.2.0",
          "state": {
            "_model_module": "@jupyter-widgets/base",
            "_model_module_version": "1.2.0",
            "_model_name": "LayoutModel",
            "_view_count": null,
            "_view_module": "@jupyter-widgets/base",
            "_view_module_version": "1.2.0",
            "_view_name": "LayoutView",
            "align_content": null,
            "align_items": null,
            "align_self": null,
            "border": null,
            "bottom": null,
            "display": null,
            "flex": null,
            "flex_flow": null,
            "grid_area": null,
            "grid_auto_columns": null,
            "grid_auto_flow": null,
            "grid_auto_rows": null,
            "grid_column": null,
            "grid_gap": null,
            "grid_row": null,
            "grid_template_areas": null,
            "grid_template_columns": null,
            "grid_template_rows": null,
            "height": null,
            "justify_content": null,
            "justify_items": null,
            "left": null,
            "margin": null,
            "max_height": null,
            "max_width": null,
            "min_height": null,
            "min_width": null,
            "object_fit": null,
            "object_position": null,
            "order": null,
            "overflow": null,
            "overflow_x": null,
            "overflow_y": null,
            "padding": null,
            "right": null,
            "top": null,
            "visibility": null,
            "width": null
          }
        },
        "060eb9af57a14548952a71e43a47de9a": {
          "model_module": "@jupyter-widgets/controls",
          "model_name": "ProgressStyleModel",
          "model_module_version": "1.5.0",
          "state": {
            "_model_module": "@jupyter-widgets/controls",
            "_model_module_version": "1.5.0",
            "_model_name": "ProgressStyleModel",
            "_view_count": null,
            "_view_module": "@jupyter-widgets/base",
            "_view_module_version": "1.2.0",
            "_view_name": "StyleView",
            "bar_color": null,
            "description_width": ""
          }
        },
        "2ea61271a3574f59b83b669ac4beed54": {
          "model_module": "@jupyter-widgets/base",
          "model_name": "LayoutModel",
          "model_module_version": "1.2.0",
          "state": {
            "_model_module": "@jupyter-widgets/base",
            "_model_module_version": "1.2.0",
            "_model_name": "LayoutModel",
            "_view_count": null,
            "_view_module": "@jupyter-widgets/base",
            "_view_module_version": "1.2.0",
            "_view_name": "LayoutView",
            "align_content": null,
            "align_items": null,
            "align_self": null,
            "border": null,
            "bottom": null,
            "display": null,
            "flex": null,
            "flex_flow": null,
            "grid_area": null,
            "grid_auto_columns": null,
            "grid_auto_flow": null,
            "grid_auto_rows": null,
            "grid_column": null,
            "grid_gap": null,
            "grid_row": null,
            "grid_template_areas": null,
            "grid_template_columns": null,
            "grid_template_rows": null,
            "height": null,
            "justify_content": null,
            "justify_items": null,
            "left": null,
            "margin": null,
            "max_height": null,
            "max_width": null,
            "min_height": null,
            "min_width": null,
            "object_fit": null,
            "object_position": null,
            "order": null,
            "overflow": null,
            "overflow_x": null,
            "overflow_y": null,
            "padding": null,
            "right": null,
            "top": null,
            "visibility": null,
            "width": null
          }
        },
        "f964ea66ddf541ac869e635311ace7da": {
          "model_module": "@jupyter-widgets/controls",
          "model_name": "DescriptionStyleModel",
          "model_module_version": "1.5.0",
          "state": {
            "_model_module": "@jupyter-widgets/controls",
            "_model_module_version": "1.5.0",
            "_model_name": "DescriptionStyleModel",
            "_view_count": null,
            "_view_module": "@jupyter-widgets/base",
            "_view_module_version": "1.2.0",
            "_view_name": "StyleView",
            "description_width": ""
          }
        },
        "3fefcce5a76345bbb547ec08f02a6015": {
          "model_module": "@jupyter-widgets/controls",
          "model_name": "HBoxModel",
          "model_module_version": "1.5.0",
          "state": {
            "_dom_classes": [],
            "_model_module": "@jupyter-widgets/controls",
            "_model_module_version": "1.5.0",
            "_model_name": "HBoxModel",
            "_view_count": null,
            "_view_module": "@jupyter-widgets/controls",
            "_view_module_version": "1.5.0",
            "_view_name": "HBoxView",
            "box_style": "",
            "children": [
              "IPY_MODEL_9241bb51dab846e4939ac05e602e5a4a",
              "IPY_MODEL_6dc55dd240ac42f88662e4a8063e1d9a",
              "IPY_MODEL_4e5f636870204a18a23138cea7f677a0"
            ],
            "layout": "IPY_MODEL_4e5e41ca6c484ff2a41d9518dd9a3e01"
          }
        },
        "9241bb51dab846e4939ac05e602e5a4a": {
          "model_module": "@jupyter-widgets/controls",
          "model_name": "HTMLModel",
          "model_module_version": "1.5.0",
          "state": {
            "_dom_classes": [],
            "_model_module": "@jupyter-widgets/controls",
            "_model_module_version": "1.5.0",
            "_model_name": "HTMLModel",
            "_view_count": null,
            "_view_module": "@jupyter-widgets/controls",
            "_view_module_version": "1.5.0",
            "_view_name": "HTMLView",
            "description": "",
            "description_tooltip": null,
            "layout": "IPY_MODEL_7134d0cd63bf4dd2bea8f69ee621351c",
            "placeholder": "​",
            "style": "IPY_MODEL_2fae09240e57441881196f1803289d1a",
            "value": "Downloading: 100%"
          }
        },
        "6dc55dd240ac42f88662e4a8063e1d9a": {
          "model_module": "@jupyter-widgets/controls",
          "model_name": "FloatProgressModel",
          "model_module_version": "1.5.0",
          "state": {
            "_dom_classes": [],
            "_model_module": "@jupyter-widgets/controls",
            "_model_module_version": "1.5.0",
            "_model_name": "FloatProgressModel",
            "_view_count": null,
            "_view_module": "@jupyter-widgets/controls",
            "_view_module_version": "1.5.0",
            "_view_name": "ProgressView",
            "bar_style": "success",
            "description": "",
            "description_tooltip": null,
            "layout": "IPY_MODEL_dede5f7658e34a9f8488dc79270d8d2f",
            "max": 349,
            "min": 0,
            "orientation": "horizontal",
            "style": "IPY_MODEL_4e6275366fb742dfabfe5189aa6f2603",
            "value": 349
          }
        },
        "4e5f636870204a18a23138cea7f677a0": {
          "model_module": "@jupyter-widgets/controls",
          "model_name": "HTMLModel",
          "model_module_version": "1.5.0",
          "state": {
            "_dom_classes": [],
            "_model_module": "@jupyter-widgets/controls",
            "_model_module_version": "1.5.0",
            "_model_name": "HTMLModel",
            "_view_count": null,
            "_view_module": "@jupyter-widgets/controls",
            "_view_module_version": "1.5.0",
            "_view_name": "HTMLView",
            "description": "",
            "description_tooltip": null,
            "layout": "IPY_MODEL_a7e74e7cedf84319b962a7fe83f0072c",
            "placeholder": "​",
            "style": "IPY_MODEL_a753a0ee87e14e8cb16dc9fb35851d89",
            "value": " 349/349 [00:00&lt;00:00, 6.49kB/s]"
          }
        },
        "4e5e41ca6c484ff2a41d9518dd9a3e01": {
          "model_module": "@jupyter-widgets/base",
          "model_name": "LayoutModel",
          "model_module_version": "1.2.0",
          "state": {
            "_model_module": "@jupyter-widgets/base",
            "_model_module_version": "1.2.0",
            "_model_name": "LayoutModel",
            "_view_count": null,
            "_view_module": "@jupyter-widgets/base",
            "_view_module_version": "1.2.0",
            "_view_name": "LayoutView",
            "align_content": null,
            "align_items": null,
            "align_self": null,
            "border": null,
            "bottom": null,
            "display": null,
            "flex": null,
            "flex_flow": null,
            "grid_area": null,
            "grid_auto_columns": null,
            "grid_auto_flow": null,
            "grid_auto_rows": null,
            "grid_column": null,
            "grid_gap": null,
            "grid_row": null,
            "grid_template_areas": null,
            "grid_template_columns": null,
            "grid_template_rows": null,
            "height": null,
            "justify_content": null,
            "justify_items": null,
            "left": null,
            "margin": null,
            "max_height": null,
            "max_width": null,
            "min_height": null,
            "min_width": null,
            "object_fit": null,
            "object_position": null,
            "order": null,
            "overflow": null,
            "overflow_x": null,
            "overflow_y": null,
            "padding": null,
            "right": null,
            "top": null,
            "visibility": null,
            "width": null
          }
        },
        "7134d0cd63bf4dd2bea8f69ee621351c": {
          "model_module": "@jupyter-widgets/base",
          "model_name": "LayoutModel",
          "model_module_version": "1.2.0",
          "state": {
            "_model_module": "@jupyter-widgets/base",
            "_model_module_version": "1.2.0",
            "_model_name": "LayoutModel",
            "_view_count": null,
            "_view_module": "@jupyter-widgets/base",
            "_view_module_version": "1.2.0",
            "_view_name": "LayoutView",
            "align_content": null,
            "align_items": null,
            "align_self": null,
            "border": null,
            "bottom": null,
            "display": null,
            "flex": null,
            "flex_flow": null,
            "grid_area": null,
            "grid_auto_columns": null,
            "grid_auto_flow": null,
            "grid_auto_rows": null,
            "grid_column": null,
            "grid_gap": null,
            "grid_row": null,
            "grid_template_areas": null,
            "grid_template_columns": null,
            "grid_template_rows": null,
            "height": null,
            "justify_content": null,
            "justify_items": null,
            "left": null,
            "margin": null,
            "max_height": null,
            "max_width": null,
            "min_height": null,
            "min_width": null,
            "object_fit": null,
            "object_position": null,
            "order": null,
            "overflow": null,
            "overflow_x": null,
            "overflow_y": null,
            "padding": null,
            "right": null,
            "top": null,
            "visibility": null,
            "width": null
          }
        },
        "2fae09240e57441881196f1803289d1a": {
          "model_module": "@jupyter-widgets/controls",
          "model_name": "DescriptionStyleModel",
          "model_module_version": "1.5.0",
          "state": {
            "_model_module": "@jupyter-widgets/controls",
            "_model_module_version": "1.5.0",
            "_model_name": "DescriptionStyleModel",
            "_view_count": null,
            "_view_module": "@jupyter-widgets/base",
            "_view_module_version": "1.2.0",
            "_view_name": "StyleView",
            "description_width": ""
          }
        },
        "dede5f7658e34a9f8488dc79270d8d2f": {
          "model_module": "@jupyter-widgets/base",
          "model_name": "LayoutModel",
          "model_module_version": "1.2.0",
          "state": {
            "_model_module": "@jupyter-widgets/base",
            "_model_module_version": "1.2.0",
            "_model_name": "LayoutModel",
            "_view_count": null,
            "_view_module": "@jupyter-widgets/base",
            "_view_module_version": "1.2.0",
            "_view_name": "LayoutView",
            "align_content": null,
            "align_items": null,
            "align_self": null,
            "border": null,
            "bottom": null,
            "display": null,
            "flex": null,
            "flex_flow": null,
            "grid_area": null,
            "grid_auto_columns": null,
            "grid_auto_flow": null,
            "grid_auto_rows": null,
            "grid_column": null,
            "grid_gap": null,
            "grid_row": null,
            "grid_template_areas": null,
            "grid_template_columns": null,
            "grid_template_rows": null,
            "height": null,
            "justify_content": null,
            "justify_items": null,
            "left": null,
            "margin": null,
            "max_height": null,
            "max_width": null,
            "min_height": null,
            "min_width": null,
            "object_fit": null,
            "object_position": null,
            "order": null,
            "overflow": null,
            "overflow_x": null,
            "overflow_y": null,
            "padding": null,
            "right": null,
            "top": null,
            "visibility": null,
            "width": null
          }
        },
        "4e6275366fb742dfabfe5189aa6f2603": {
          "model_module": "@jupyter-widgets/controls",
          "model_name": "ProgressStyleModel",
          "model_module_version": "1.5.0",
          "state": {
            "_model_module": "@jupyter-widgets/controls",
            "_model_module_version": "1.5.0",
            "_model_name": "ProgressStyleModel",
            "_view_count": null,
            "_view_module": "@jupyter-widgets/base",
            "_view_module_version": "1.2.0",
            "_view_name": "StyleView",
            "bar_color": null,
            "description_width": ""
          }
        },
        "a7e74e7cedf84319b962a7fe83f0072c": {
          "model_module": "@jupyter-widgets/base",
          "model_name": "LayoutModel",
          "model_module_version": "1.2.0",
          "state": {
            "_model_module": "@jupyter-widgets/base",
            "_model_module_version": "1.2.0",
            "_model_name": "LayoutModel",
            "_view_count": null,
            "_view_module": "@jupyter-widgets/base",
            "_view_module_version": "1.2.0",
            "_view_name": "LayoutView",
            "align_content": null,
            "align_items": null,
            "align_self": null,
            "border": null,
            "bottom": null,
            "display": null,
            "flex": null,
            "flex_flow": null,
            "grid_area": null,
            "grid_auto_columns": null,
            "grid_auto_flow": null,
            "grid_auto_rows": null,
            "grid_column": null,
            "grid_gap": null,
            "grid_row": null,
            "grid_template_areas": null,
            "grid_template_columns": null,
            "grid_template_rows": null,
            "height": null,
            "justify_content": null,
            "justify_items": null,
            "left": null,
            "margin": null,
            "max_height": null,
            "max_width": null,
            "min_height": null,
            "min_width": null,
            "object_fit": null,
            "object_position": null,
            "order": null,
            "overflow": null,
            "overflow_x": null,
            "overflow_y": null,
            "padding": null,
            "right": null,
            "top": null,
            "visibility": null,
            "width": null
          }
        },
        "a753a0ee87e14e8cb16dc9fb35851d89": {
          "model_module": "@jupyter-widgets/controls",
          "model_name": "DescriptionStyleModel",
          "model_module_version": "1.5.0",
          "state": {
            "_model_module": "@jupyter-widgets/controls",
            "_model_module_version": "1.5.0",
            "_model_name": "DescriptionStyleModel",
            "_view_count": null,
            "_view_module": "@jupyter-widgets/base",
            "_view_module_version": "1.2.0",
            "_view_name": "StyleView",
            "description_width": ""
          }
        }
      }
    }
  },
  "nbformat": 4,
  "nbformat_minor": 0
}